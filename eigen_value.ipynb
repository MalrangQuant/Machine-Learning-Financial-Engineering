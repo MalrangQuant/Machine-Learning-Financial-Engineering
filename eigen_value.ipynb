{
 "cells": [
  {
   "cell_type": "code",
   "execution_count": 1,
   "metadata": {},
   "outputs": [],
   "source": [
    "import numpy as np"
   ]
  },
  {
   "cell_type": "code",
   "execution_count": 4,
   "metadata": {},
   "outputs": [
    {
     "data": {
      "text/plain": [
       "(array([ 2.8342777 ,  6.65462818, 19.51109412]),\n",
       " array([[-0.84206693, -0.53544397,  0.06498493],\n",
       "        [ 0.4908081 , -0.71070233,  0.50399366],\n",
       "        [-0.22367543,  0.45629153,  0.86125916]]))"
      ]
     },
     "execution_count": 4,
     "metadata": {},
     "output_type": "execute_result"
    }
   ],
   "source": [
    "arr = np.array([4, 2, 0, 2, 9, 6, 0, 6, 16]).reshape(3,3)\n",
    "np.linalg.eig(arr)\n"
   ]
  },
  {
   "cell_type": "code",
   "execution_count": 8,
   "metadata": {},
   "outputs": [
    {
     "data": {
      "text/plain": [
       "array([[-8.21220805e+00, -1.94470079e+00,  1.42805913e-16],\n",
       "       [-5.42729341e-01,  3.54884964e+00,  1.42805913e-16],\n",
       "       [ 8.75493739e+00, -1.60414884e+00,  1.42805913e-16]])"
      ]
     },
     "execution_count": 8,
     "metadata": {},
     "output_type": "execute_result"
    }
   ],
   "source": [
    "from sklearn.decomposition import PCA\n",
    "\n",
    "p = PCA(n_components=3)\n",
    "p.fit_transform(arr)\n",
    "\n",
    "p._\n"
   ]
  },
  {
   "cell_type": "code",
   "execution_count": null,
   "metadata": {},
   "outputs": [],
   "source": []
  },
  {
   "cell_type": "code",
   "execution_count": null,
   "metadata": {},
   "outputs": [],
   "source": []
  },
  {
   "cell_type": "code",
   "execution_count": 8,
   "metadata": {},
   "outputs": [
    {
     "data": {
      "text/plain": [
       "array([[1.  , 0.02, 0.96, 0.42, 0.01],\n",
       "       [0.02, 1.  , 0.13, 0.71, 0.85],\n",
       "       [0.96, 0.13, 1.  , 0.5 , 0.11],\n",
       "       [0.42, 0.71, 0.5 , 1.  , 0.79],\n",
       "       [0.01, 0.85, 0.11, 0.79, 1.  ]])"
      ]
     },
     "execution_count": 8,
     "metadata": {},
     "output_type": "execute_result"
    }
   ],
   "source": [
    "set = np.array([[1, 0.02, 0.96, 0.42, 0.01],\n",
    "                [0.02, 1, 0.13, 0.71, 0.85],\n",
    "                [0.96, 0.13, 1, 0.50, 0.11],\n",
    "                [0.42, 0.71, 0.50, 1, 0.79],\n",
    "                [0.01, 0.85, 0.11, 0.79, 1]])\n",
    "\n",
    "set"
   ]
  },
  {
   "cell_type": "code",
   "execution_count": 25,
   "metadata": {},
   "outputs": [
    {
     "data": {
      "text/plain": [
       "array([2.853, 1.806, 0.204, 0.102, 0.034])"
      ]
     },
     "execution_count": 25,
     "metadata": {},
     "output_type": "execute_result"
    }
   ],
   "source": [
    "eig_v = np.round(np.linalg.eigvalsh(set)[::-1], 3)\n",
    "eig_v"
   ]
  },
  {
   "cell_type": "code",
   "execution_count": 31,
   "metadata": {},
   "outputs": [
    {
     "data": {
      "text/plain": [
       "array([[-0.331, -0.46 , -0.382, -0.556, -0.473],\n",
       "       [-0.607,  0.39 , -0.557,  0.078,  0.404],\n",
       "       [ 0.702,  0.072, -0.709,  0.002,  0.009],\n",
       "       [ 0.098,  0.743,  0.168, -0.602, -0.221],\n",
       "       [ 0.139, -0.282,  0.117, -0.568,  0.751]])"
      ]
     },
     "execution_count": 31,
     "metadata": {},
     "output_type": "execute_result"
    }
   ],
   "source": [
    "eig_matrix = np.round(np.linalg.eig(set)[1],3).T\n",
    "eig_matrix"
   ]
  },
  {
   "cell_type": "code",
   "execution_count": 35,
   "metadata": {},
   "outputs": [
    {
     "data": {
      "text/plain": [
       "array([[-0.331, -0.607,  0.702,  0.098,  0.139],\n",
       "       [-0.46 ,  0.39 ,  0.072,  0.743, -0.282],\n",
       "       [-0.382, -0.557, -0.709,  0.168,  0.117],\n",
       "       [-0.556,  0.078,  0.002, -0.602, -0.568],\n",
       "       [-0.473,  0.404,  0.009, -0.221,  0.751]])"
      ]
     },
     "execution_count": 35,
     "metadata": {},
     "output_type": "execute_result"
    }
   ],
   "source": [
    "eig_matrix.T"
   ]
  },
  {
   "cell_type": "code",
   "execution_count": 38,
   "metadata": {},
   "outputs": [
    {
     "data": {
      "text/plain": [
       "array([[-0.944, -0.831, -0.078, -0.057, -0.016],\n",
       "       [-1.732,  0.704, -0.114,  0.008,  0.014],\n",
       "       [ 2.003,  0.13 , -0.145,  0.   ,  0.   ],\n",
       "       [ 0.28 ,  1.342,  0.034, -0.061, -0.008],\n",
       "       [ 0.397, -0.509,  0.024, -0.058,  0.026]])"
      ]
     },
     "execution_count": 38,
     "metadata": {},
     "output_type": "execute_result"
    }
   ],
   "source": [
    "np.round(eig_v * eig_matrix,3)"
   ]
  },
  {
   "cell_type": "code",
   "execution_count": 36,
   "metadata": {},
   "outputs": [
    {
     "data": {
      "text/plain": [
       "array([-1.61459338, -0.65333338,  0.96456376,  1.00689493, -0.13427272])"
      ]
     },
     "execution_count": 36,
     "metadata": {},
     "output_type": "execute_result"
    }
   ],
   "source": [
    "eig_v**0.5 @ eig_matrix.T"
   ]
  },
  {
   "cell_type": "code",
   "execution_count": 33,
   "metadata": {},
   "outputs": [
    {
     "data": {
      "text/plain": [
       "array([-1.00082159, -0.03505003, -1.63876878, -1.13040175, -0.18404978])"
      ]
     },
     "execution_count": 33,
     "metadata": {},
     "output_type": "execute_result"
    }
   ],
   "source": [
    "((eig_v ** 0.5) @ eig_matrix) * ((eig_v**0.5) eig_matrix.T)"
   ]
  }
 ],
 "metadata": {
  "kernelspec": {
   "display_name": "Python 3.8.13 ('quant')",
   "language": "python",
   "name": "python3"
  },
  "language_info": {
   "codemirror_mode": {
    "name": "ipython",
    "version": 3
   },
   "file_extension": ".py",
   "mimetype": "text/x-python",
   "name": "python",
   "nbconvert_exporter": "python",
   "pygments_lexer": "ipython3",
   "version": "3.8.13"
  },
  "orig_nbformat": 4,
  "vscode": {
   "interpreter": {
    "hash": "e7b6214bfe3ce19b2336b5ee82fe9739f68968628bd5eb86b17deae08d37c2fd"
   }
  }
 },
 "nbformat": 4,
 "nbformat_minor": 2
}
