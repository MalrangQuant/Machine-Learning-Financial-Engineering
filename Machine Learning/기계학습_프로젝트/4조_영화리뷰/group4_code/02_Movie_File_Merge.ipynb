{
 "cells": [
  {
   "cell_type": "code",
   "execution_count": 1,
   "metadata": {},
   "outputs": [],
   "source": [
    "import pandas as pd\n",
    "import numpy as np"
   ]
  },
  {
   "cell_type": "code",
   "execution_count": 3,
   "metadata": {},
   "outputs": [
    {
     "data": {
      "text/html": [
       "<div>\n",
       "<style scoped>\n",
       "    .dataframe tbody tr th:only-of-type {\n",
       "        vertical-align: middle;\n",
       "    }\n",
       "\n",
       "    .dataframe tbody tr th {\n",
       "        vertical-align: top;\n",
       "    }\n",
       "\n",
       "    .dataframe thead th {\n",
       "        text-align: right;\n",
       "    }\n",
       "</style>\n",
       "<table border=\"1\" class=\"dataframe\">\n",
       "  <thead>\n",
       "    <tr style=\"text-align: right;\">\n",
       "      <th></th>\n",
       "      <th>title</th>\n",
       "      <th>link</th>\n",
       "      <th>score</th>\n",
       "      <th>review</th>\n",
       "    </tr>\n",
       "  </thead>\n",
       "  <tbody>\n",
       "    <tr>\n",
       "      <th>0</th>\n",
       "      <td>극한직업</td>\n",
       "      <td>https://movie.naver.com/movie/bi/mi/pointWrite...</td>\n",
       "      <td>10</td>\n",
       "      <td>일단 진선규님께 박수갈채도 부족함 진짜 연기를 다양하게 잘하셔서 놀랐어요 오랜만에 ...</td>\n",
       "    </tr>\n",
       "    <tr>\n",
       "      <th>1</th>\n",
       "      <td>극한직업</td>\n",
       "      <td>https://movie.naver.com/movie/bi/mi/pointWrite...</td>\n",
       "      <td>8</td>\n",
       "      <td>류승룡 드디어 심폐소생술 성공!</td>\n",
       "    </tr>\n",
       "    <tr>\n",
       "      <th>2</th>\n",
       "      <td>극한직업</td>\n",
       "      <td>https://movie.naver.com/movie/bi/mi/pointWrite...</td>\n",
       "      <td>10</td>\n",
       "      <td>진짜 뻥안치고 ㅈㄴ 웃겼다</td>\n",
       "    </tr>\n",
       "    <tr>\n",
       "      <th>3</th>\n",
       "      <td>극한직업</td>\n",
       "      <td>https://movie.naver.com/movie/bi/mi/pointWrite...</td>\n",
       "      <td>10</td>\n",
       "      <td>계속 웃으면서 봤어요!\"지금까지 이런맛은 없었다이것은 갈비인가 통닭인가수원왕갈비통닭...</td>\n",
       "    </tr>\n",
       "    <tr>\n",
       "      <th>4</th>\n",
       "      <td>극한직업</td>\n",
       "      <td>https://movie.naver.com/movie/bi/mi/pointWrite...</td>\n",
       "      <td>10</td>\n",
       "      <td>지금까지 이런 영화는 없었다  이것은 영화인가 통닭광고인가</td>\n",
       "    </tr>\n",
       "  </tbody>\n",
       "</table>\n",
       "</div>"
      ],
      "text/plain": [
       "  title                                               link  score  \\\n",
       "0  극한직업  https://movie.naver.com/movie/bi/mi/pointWrite...     10   \n",
       "1  극한직업  https://movie.naver.com/movie/bi/mi/pointWrite...      8   \n",
       "2  극한직업  https://movie.naver.com/movie/bi/mi/pointWrite...     10   \n",
       "3  극한직업  https://movie.naver.com/movie/bi/mi/pointWrite...     10   \n",
       "4  극한직업  https://movie.naver.com/movie/bi/mi/pointWrite...     10   \n",
       "\n",
       "                                              review  \n",
       "0  일단 진선규님께 박수갈채도 부족함 진짜 연기를 다양하게 잘하셔서 놀랐어요 오랜만에 ...  \n",
       "1                                  류승룡 드디어 심폐소생술 성공!  \n",
       "2                                     진짜 뻥안치고 ㅈㄴ 웃겼다  \n",
       "3  계속 웃으면서 봤어요!\"지금까지 이런맛은 없었다이것은 갈비인가 통닭인가수원왕갈비통닭...  \n",
       "4                   지금까지 이런 영화는 없었다  이것은 영화인가 통닭광고인가  "
      ]
     },
     "execution_count": 3,
     "metadata": {},
     "output_type": "execute_result"
    }
   ],
   "source": [
    "df1 = pd.read_csv('./naver_movie_review_1106_ExtremeJob.csv', encoding='euckr')\n",
    "df1.head()"
   ]
  },
  {
   "cell_type": "code",
   "execution_count": 4,
   "metadata": {},
   "outputs": [
    {
     "data": {
      "text/html": [
       "<div>\n",
       "<style scoped>\n",
       "    .dataframe tbody tr th:only-of-type {\n",
       "        vertical-align: middle;\n",
       "    }\n",
       "\n",
       "    .dataframe tbody tr th {\n",
       "        vertical-align: top;\n",
       "    }\n",
       "\n",
       "    .dataframe thead th {\n",
       "        text-align: right;\n",
       "    }\n",
       "</style>\n",
       "<table border=\"1\" class=\"dataframe\">\n",
       "  <thead>\n",
       "    <tr style=\"text-align: right;\">\n",
       "      <th></th>\n",
       "      <th>title</th>\n",
       "      <th>link</th>\n",
       "      <th>score</th>\n",
       "      <th>review</th>\n",
       "    </tr>\n",
       "  </thead>\n",
       "  <tbody>\n",
       "    <tr>\n",
       "      <th>0</th>\n",
       "      <td>럭키</td>\n",
       "      <td>https://movie.naver.com/movie/bi/mi/pointWrite...</td>\n",
       "      <td>10</td>\n",
       "      <td>유해진이라는 배우가 실력이 없어서 조연의 역할을 맡는게 아니라는걸 여실하게 보여준 ...</td>\n",
       "    </tr>\n",
       "    <tr>\n",
       "      <th>1</th>\n",
       "      <td>럭키</td>\n",
       "      <td>https://movie.naver.com/movie/bi/mi/pointWrite...</td>\n",
       "      <td>9</td>\n",
       "      <td>최근 본 영화 중에 코믹 요소가 잘 맞았고 배우에 비해 재밌었는데 평점 왜이러죠??...</td>\n",
       "    </tr>\n",
       "    <tr>\n",
       "      <th>2</th>\n",
       "      <td>럭키</td>\n",
       "      <td>https://movie.naver.com/movie/bi/mi/pointWrite...</td>\n",
       "      <td>10</td>\n",
       "      <td>이혼위기로 우울했는데 잠시나마 잊게해준영화</td>\n",
       "    </tr>\n",
       "    <tr>\n",
       "      <th>3</th>\n",
       "      <td>럭키</td>\n",
       "      <td>https://movie.naver.com/movie/bi/mi/pointWrite...</td>\n",
       "      <td>10</td>\n",
       "      <td>대박 완전 신나게ㅋㅋ 진짜 빵빵터지는 영화ㅋ</td>\n",
       "    </tr>\n",
       "    <tr>\n",
       "      <th>4</th>\n",
       "      <td>럭키</td>\n",
       "      <td>https://movie.naver.com/movie/bi/mi/pointWrite...</td>\n",
       "      <td>10</td>\n",
       "      <td>엄마랑 보고왓는ㄷㅔ 웃다가 실신할 뻔 ㅋㅋㅋㅋ 엄마가 유해진 짱팬됨</td>\n",
       "    </tr>\n",
       "  </tbody>\n",
       "</table>\n",
       "</div>"
      ],
      "text/plain": [
       "  title                                               link  score  \\\n",
       "0    럭키  https://movie.naver.com/movie/bi/mi/pointWrite...     10   \n",
       "1    럭키  https://movie.naver.com/movie/bi/mi/pointWrite...      9   \n",
       "2    럭키  https://movie.naver.com/movie/bi/mi/pointWrite...     10   \n",
       "3    럭키  https://movie.naver.com/movie/bi/mi/pointWrite...     10   \n",
       "4    럭키  https://movie.naver.com/movie/bi/mi/pointWrite...     10   \n",
       "\n",
       "                                              review  \n",
       "0  유해진이라는 배우가 실력이 없어서 조연의 역할을 맡는게 아니라는걸 여실하게 보여준 ...  \n",
       "1  최근 본 영화 중에 코믹 요소가 잘 맞았고 배우에 비해 재밌었는데 평점 왜이러죠??...  \n",
       "2                            이혼위기로 우울했는데 잠시나마 잊게해준영화  \n",
       "3                           대박 완전 신나게ㅋㅋ 진짜 빵빵터지는 영화ㅋ  \n",
       "4              엄마랑 보고왓는ㄷㅔ 웃다가 실신할 뻔 ㅋㅋㅋㅋ 엄마가 유해진 짱팬됨  "
      ]
     },
     "execution_count": 4,
     "metadata": {},
     "output_type": "execute_result"
    }
   ],
   "source": [
    "df2 = pd.read_csv('./naver_movie_review_1106_Luckkey.csv', encoding='euckr')\n",
    "df2.head()"
   ]
  },
  {
   "cell_type": "code",
   "execution_count": 5,
   "metadata": {},
   "outputs": [
    {
     "data": {
      "text/html": [
       "<div>\n",
       "<style scoped>\n",
       "    .dataframe tbody tr th:only-of-type {\n",
       "        vertical-align: middle;\n",
       "    }\n",
       "\n",
       "    .dataframe tbody tr th {\n",
       "        vertical-align: top;\n",
       "    }\n",
       "\n",
       "    .dataframe thead th {\n",
       "        text-align: right;\n",
       "    }\n",
       "</style>\n",
       "<table border=\"1\" class=\"dataframe\">\n",
       "  <thead>\n",
       "    <tr style=\"text-align: right;\">\n",
       "      <th></th>\n",
       "      <th>title</th>\n",
       "      <th>link</th>\n",
       "      <th>score</th>\n",
       "      <th>review</th>\n",
       "    </tr>\n",
       "  </thead>\n",
       "  <tbody>\n",
       "    <tr>\n",
       "      <th>0</th>\n",
       "      <td>가문의 영광5 - 가문의 귀환</td>\n",
       "      <td>https://movie.naver.com/movie/bi/mi/pointWrite...</td>\n",
       "      <td>1</td>\n",
       "      <td>이제 정말 그만할 때가 아닐까요?</td>\n",
       "    </tr>\n",
       "    <tr>\n",
       "      <th>1</th>\n",
       "      <td>가문의 영광5 - 가문의 귀환</td>\n",
       "      <td>https://movie.naver.com/movie/bi/mi/pointWrite...</td>\n",
       "      <td>10</td>\n",
       "      <td>정말 내용이 첨부터끝까지 예상가능한 뻔하디뻔한 90년대 코메디영화! 2014년에 추...</td>\n",
       "    </tr>\n",
       "    <tr>\n",
       "      <th>2</th>\n",
       "      <td>가문의 영광5 - 가문의 귀환</td>\n",
       "      <td>https://movie.naver.com/movie/bi/mi/pointWrite...</td>\n",
       "      <td>1</td>\n",
       "      <td>보다가 영화가 너무 저질이고 더럽고 예측가능해서 중간에 나옴</td>\n",
       "    </tr>\n",
       "    <tr>\n",
       "      <th>3</th>\n",
       "      <td>가문의 영광5 - 가문의 귀환</td>\n",
       "      <td>https://movie.naver.com/movie/bi/mi/pointWrite...</td>\n",
       "      <td>9</td>\n",
       "      <td>이 영화 속에 메세지가 담겨있지만 솔직히 시리어스하게 볼만한 영화는 아닌 거 같고,...</td>\n",
       "    </tr>\n",
       "    <tr>\n",
       "      <th>4</th>\n",
       "      <td>가문의 영광5 - 가문의 귀환</td>\n",
       "      <td>https://movie.naver.com/movie/bi/mi/pointWrite...</td>\n",
       "      <td>8</td>\n",
       "      <td>아이돌들은 모르겠고 웃고 멍때리다 와인뚜껑에 쳐맞을때 나도모르게 뿜어버렸다 재미있었...</td>\n",
       "    </tr>\n",
       "  </tbody>\n",
       "</table>\n",
       "</div>"
      ],
      "text/plain": [
       "              title                                               link  score  \\\n",
       "0  가문의 영광5 - 가문의 귀환  https://movie.naver.com/movie/bi/mi/pointWrite...      1   \n",
       "1  가문의 영광5 - 가문의 귀환  https://movie.naver.com/movie/bi/mi/pointWrite...     10   \n",
       "2  가문의 영광5 - 가문의 귀환  https://movie.naver.com/movie/bi/mi/pointWrite...      1   \n",
       "3  가문의 영광5 - 가문의 귀환  https://movie.naver.com/movie/bi/mi/pointWrite...      9   \n",
       "4  가문의 영광5 - 가문의 귀환  https://movie.naver.com/movie/bi/mi/pointWrite...      8   \n",
       "\n",
       "                                              review  \n",
       "0                                 이제 정말 그만할 때가 아닐까요?  \n",
       "1  정말 내용이 첨부터끝까지 예상가능한 뻔하디뻔한 90년대 코메디영화! 2014년에 추...  \n",
       "2                  보다가 영화가 너무 저질이고 더럽고 예측가능해서 중간에 나옴  \n",
       "3  이 영화 속에 메세지가 담겨있지만 솔직히 시리어스하게 볼만한 영화는 아닌 거 같고,...  \n",
       "4  아이돌들은 모르겠고 웃고 멍때리다 와인뚜껑에 쳐맞을때 나도모르게 뿜어버렸다 재미있었...  "
      ]
     },
     "execution_count": 5,
     "metadata": {},
     "output_type": "execute_result"
    }
   ],
   "source": [
    "df3 = pd.read_csv('./naver_movie_review_1106_ReturnOfTheMafia.csv', encoding='euckr')\n",
    "df3.head()"
   ]
  },
  {
   "cell_type": "code",
   "execution_count": 6,
   "metadata": {
    "scrolled": true
   },
   "outputs": [
    {
     "data": {
      "text/html": [
       "<div>\n",
       "<style scoped>\n",
       "    .dataframe tbody tr th:only-of-type {\n",
       "        vertical-align: middle;\n",
       "    }\n",
       "\n",
       "    .dataframe tbody tr th {\n",
       "        vertical-align: top;\n",
       "    }\n",
       "\n",
       "    .dataframe thead th {\n",
       "        text-align: right;\n",
       "    }\n",
       "</style>\n",
       "<table border=\"1\" class=\"dataframe\">\n",
       "  <thead>\n",
       "    <tr style=\"text-align: right;\">\n",
       "      <th></th>\n",
       "      <th>title</th>\n",
       "      <th>link</th>\n",
       "      <th>score</th>\n",
       "      <th>review</th>\n",
       "    </tr>\n",
       "  </thead>\n",
       "  <tbody>\n",
       "    <tr>\n",
       "      <th>0</th>\n",
       "      <td>19곰 테드</td>\n",
       "      <td>https://movie.naver.com/movie/bi/mi/pointWrite...</td>\n",
       "      <td>10</td>\n",
       "      <td>아 정말ㅋㅋㅋㅋㅋ 이런 유머 너무 좋아요</td>\n",
       "    </tr>\n",
       "    <tr>\n",
       "      <th>1</th>\n",
       "      <td>19곰 테드</td>\n",
       "      <td>https://movie.naver.com/movie/bi/mi/pointWrite...</td>\n",
       "      <td>10</td>\n",
       "      <td>죤나게재밌다.어린시절의 순수함을 가지고 성인이 됀사람이라면 무조건 추천</td>\n",
       "    </tr>\n",
       "    <tr>\n",
       "      <th>2</th>\n",
       "      <td>19곰 테드</td>\n",
       "      <td>https://movie.naver.com/movie/bi/mi/pointWrite...</td>\n",
       "      <td>10</td>\n",
       "      <td>진짜웃김ㅋㅋㅋ곰인형이 주인공이랑 싸울때 바지벗기고 회초리로 엉덩이 때리는부분 짱 웃...</td>\n",
       "    </tr>\n",
       "    <tr>\n",
       "      <th>3</th>\n",
       "      <td>19곰 테드</td>\n",
       "      <td>https://movie.naver.com/movie/bi/mi/pointWrite...</td>\n",
       "      <td>10</td>\n",
       "      <td>인간과 봉제곰의 격렬한 액션씬이 가장 인상에 남는 작품.</td>\n",
       "    </tr>\n",
       "    <tr>\n",
       "      <th>4</th>\n",
       "      <td>19곰 테드</td>\n",
       "      <td>https://movie.naver.com/movie/bi/mi/pointWrite...</td>\n",
       "      <td>10</td>\n",
       "      <td>진짜ㅋㅋㅋㅋ굿</td>\n",
       "    </tr>\n",
       "  </tbody>\n",
       "</table>\n",
       "</div>"
      ],
      "text/plain": [
       "    title                                               link  score  \\\n",
       "0  19곰 테드  https://movie.naver.com/movie/bi/mi/pointWrite...     10   \n",
       "1  19곰 테드  https://movie.naver.com/movie/bi/mi/pointWrite...     10   \n",
       "2  19곰 테드  https://movie.naver.com/movie/bi/mi/pointWrite...     10   \n",
       "3  19곰 테드  https://movie.naver.com/movie/bi/mi/pointWrite...     10   \n",
       "4  19곰 테드  https://movie.naver.com/movie/bi/mi/pointWrite...     10   \n",
       "\n",
       "                                              review  \n",
       "0                             아 정말ㅋㅋㅋㅋㅋ 이런 유머 너무 좋아요  \n",
       "1            죤나게재밌다.어린시절의 순수함을 가지고 성인이 됀사람이라면 무조건 추천  \n",
       "2  진짜웃김ㅋㅋㅋ곰인형이 주인공이랑 싸울때 바지벗기고 회초리로 엉덩이 때리는부분 짱 웃...  \n",
       "3                    인간과 봉제곰의 격렬한 액션씬이 가장 인상에 남는 작품.  \n",
       "4                                            진짜ㅋㅋㅋㅋ굿  "
      ]
     },
     "execution_count": 6,
     "metadata": {},
     "output_type": "execute_result"
    }
   ],
   "source": [
    "df4 = pd.read_csv('./naver_movie_review_1106_Ted.csv', encoding='euckr')\n",
    "df4.head()"
   ]
  },
  {
   "cell_type": "code",
   "execution_count": 10,
   "metadata": {},
   "outputs": [
    {
     "name": "stdout",
     "output_type": "stream",
     "text": [
      "<class 'pandas.core.frame.DataFrame'>\n",
      "RangeIndex: 47240 entries, 0 to 47239\n",
      "Data columns (total 4 columns):\n",
      " #   Column  Non-Null Count  Dtype \n",
      "---  ------  --------------  ----- \n",
      " 0   title   47240 non-null  object\n",
      " 1   link    47240 non-null  object\n",
      " 2   score   47240 non-null  int64 \n",
      " 3   review  47240 non-null  object\n",
      "dtypes: int64(1), object(3)\n",
      "memory usage: 1.4+ MB\n"
     ]
    }
   ],
   "source": [
    "df1.info()"
   ]
  },
  {
   "cell_type": "code",
   "execution_count": 12,
   "metadata": {},
   "outputs": [
    {
     "name": "stdout",
     "output_type": "stream",
     "text": [
      "<class 'pandas.core.frame.DataFrame'>\n",
      "RangeIndex: 23340 entries, 0 to 23339\n",
      "Data columns (total 4 columns):\n",
      " #   Column  Non-Null Count  Dtype \n",
      "---  ------  --------------  ----- \n",
      " 0   title   23340 non-null  object\n",
      " 1   link    23340 non-null  object\n",
      " 2   score   23340 non-null  int64 \n",
      " 3   review  23340 non-null  object\n",
      "dtypes: int64(1), object(3)\n",
      "memory usage: 729.5+ KB\n"
     ]
    }
   ],
   "source": [
    "df2.info()"
   ]
  },
  {
   "cell_type": "code",
   "execution_count": 13,
   "metadata": {},
   "outputs": [
    {
     "name": "stdout",
     "output_type": "stream",
     "text": [
      "<class 'pandas.core.frame.DataFrame'>\n",
      "RangeIndex: 1970 entries, 0 to 1969\n",
      "Data columns (total 4 columns):\n",
      " #   Column  Non-Null Count  Dtype \n",
      "---  ------  --------------  ----- \n",
      " 0   title   1970 non-null   object\n",
      " 1   link    1970 non-null   object\n",
      " 2   score   1970 non-null   int64 \n",
      " 3   review  1970 non-null   object\n",
      "dtypes: int64(1), object(3)\n",
      "memory usage: 61.7+ KB\n"
     ]
    }
   ],
   "source": [
    "df3.info()"
   ]
  },
  {
   "cell_type": "code",
   "execution_count": 14,
   "metadata": {},
   "outputs": [
    {
     "name": "stdout",
     "output_type": "stream",
     "text": [
      "<class 'pandas.core.frame.DataFrame'>\n",
      "RangeIndex: 1630 entries, 0 to 1629\n",
      "Data columns (total 4 columns):\n",
      " #   Column  Non-Null Count  Dtype \n",
      "---  ------  --------------  ----- \n",
      " 0   title   1630 non-null   object\n",
      " 1   link    1630 non-null   object\n",
      " 2   score   1630 non-null   int64 \n",
      " 3   review  1630 non-null   object\n",
      "dtypes: int64(1), object(3)\n",
      "memory usage: 51.1+ KB\n"
     ]
    }
   ],
   "source": [
    "df4.info()"
   ]
  },
  {
   "cell_type": "code",
   "execution_count": 16,
   "metadata": {},
   "outputs": [
    {
     "data": {
      "text/plain": [
       "74180"
      ]
     },
     "execution_count": 16,
     "metadata": {},
     "output_type": "execute_result"
    }
   ],
   "source": [
    "len(df1) + len(df2) + len(df3) + len(df4)"
   ]
  },
  {
   "cell_type": "code",
   "execution_count": 17,
   "metadata": {},
   "outputs": [
    {
     "data": {
      "text/html": [
       "<div>\n",
       "<style scoped>\n",
       "    .dataframe tbody tr th:only-of-type {\n",
       "        vertical-align: middle;\n",
       "    }\n",
       "\n",
       "    .dataframe tbody tr th {\n",
       "        vertical-align: top;\n",
       "    }\n",
       "\n",
       "    .dataframe thead th {\n",
       "        text-align: right;\n",
       "    }\n",
       "</style>\n",
       "<table border=\"1\" class=\"dataframe\">\n",
       "  <thead>\n",
       "    <tr style=\"text-align: right;\">\n",
       "      <th></th>\n",
       "      <th>title</th>\n",
       "      <th>link</th>\n",
       "      <th>score</th>\n",
       "      <th>review</th>\n",
       "    </tr>\n",
       "  </thead>\n",
       "  <tbody>\n",
       "    <tr>\n",
       "      <th>0</th>\n",
       "      <td>극한직업</td>\n",
       "      <td>https://movie.naver.com/movie/bi/mi/pointWrite...</td>\n",
       "      <td>10</td>\n",
       "      <td>일단 진선규님께 박수갈채도 부족함 진짜 연기를 다양하게 잘하셔서 놀랐어요 오랜만에 ...</td>\n",
       "    </tr>\n",
       "    <tr>\n",
       "      <th>1</th>\n",
       "      <td>극한직업</td>\n",
       "      <td>https://movie.naver.com/movie/bi/mi/pointWrite...</td>\n",
       "      <td>8</td>\n",
       "      <td>류승룡 드디어 심폐소생술 성공!</td>\n",
       "    </tr>\n",
       "    <tr>\n",
       "      <th>2</th>\n",
       "      <td>극한직업</td>\n",
       "      <td>https://movie.naver.com/movie/bi/mi/pointWrite...</td>\n",
       "      <td>10</td>\n",
       "      <td>진짜 뻥안치고 ㅈㄴ 웃겼다</td>\n",
       "    </tr>\n",
       "    <tr>\n",
       "      <th>3</th>\n",
       "      <td>극한직업</td>\n",
       "      <td>https://movie.naver.com/movie/bi/mi/pointWrite...</td>\n",
       "      <td>10</td>\n",
       "      <td>계속 웃으면서 봤어요!\"지금까지 이런맛은 없었다이것은 갈비인가 통닭인가수원왕갈비통닭...</td>\n",
       "    </tr>\n",
       "    <tr>\n",
       "      <th>4</th>\n",
       "      <td>극한직업</td>\n",
       "      <td>https://movie.naver.com/movie/bi/mi/pointWrite...</td>\n",
       "      <td>10</td>\n",
       "      <td>지금까지 이런 영화는 없었다  이것은 영화인가 통닭광고인가</td>\n",
       "    </tr>\n",
       "    <tr>\n",
       "      <th>...</th>\n",
       "      <td>...</td>\n",
       "      <td>...</td>\n",
       "      <td>...</td>\n",
       "      <td>...</td>\n",
       "    </tr>\n",
       "    <tr>\n",
       "      <th>1625</th>\n",
       "      <td>19곰 테드</td>\n",
       "      <td>https://movie.naver.com/movie/bi/mi/pointWrite...</td>\n",
       "      <td>10</td>\n",
       "      <td>이런영화 더없음?</td>\n",
       "    </tr>\n",
       "    <tr>\n",
       "      <th>1626</th>\n",
       "      <td>19곰 테드</td>\n",
       "      <td>https://movie.naver.com/movie/bi/mi/pointWrite...</td>\n",
       "      <td>10</td>\n",
       "      <td>그냥 저렴한 B급 코미디일 줄 알았는데... 동화 느낌의 너무나 귀엽고 사랑스러운 ...</td>\n",
       "    </tr>\n",
       "    <tr>\n",
       "      <th>1627</th>\n",
       "      <td>19곰 테드</td>\n",
       "      <td>https://movie.naver.com/movie/bi/mi/pointWrite...</td>\n",
       "      <td>10</td>\n",
       "      <td>재미당@</td>\n",
       "    </tr>\n",
       "    <tr>\n",
       "      <th>1628</th>\n",
       "      <td>19곰 테드</td>\n",
       "      <td>https://movie.naver.com/movie/bi/mi/pointWrite...</td>\n",
       "      <td>10</td>\n",
       "      <td>세상엔 토이스토리같은 성장기가 있는 반면 이런 성장기도 있다. 토이스토리3의 35살판?</td>\n",
       "    </tr>\n",
       "    <tr>\n",
       "      <th>1629</th>\n",
       "      <td>19곰 테드</td>\n",
       "      <td>https://movie.naver.com/movie/bi/mi/pointWrite...</td>\n",
       "      <td>10</td>\n",
       "      <td>남자들의 로망과 우정에 대한 진지한 고찰 ㅋ 평점 천백만점도 아깝지 않음 짝짝짝</td>\n",
       "    </tr>\n",
       "  </tbody>\n",
       "</table>\n",
       "<p>74180 rows × 4 columns</p>\n",
       "</div>"
      ],
      "text/plain": [
       "       title                                               link  score  \\\n",
       "0       극한직업  https://movie.naver.com/movie/bi/mi/pointWrite...     10   \n",
       "1       극한직업  https://movie.naver.com/movie/bi/mi/pointWrite...      8   \n",
       "2       극한직업  https://movie.naver.com/movie/bi/mi/pointWrite...     10   \n",
       "3       극한직업  https://movie.naver.com/movie/bi/mi/pointWrite...     10   \n",
       "4       극한직업  https://movie.naver.com/movie/bi/mi/pointWrite...     10   \n",
       "...      ...                                                ...    ...   \n",
       "1625  19곰 테드  https://movie.naver.com/movie/bi/mi/pointWrite...     10   \n",
       "1626  19곰 테드  https://movie.naver.com/movie/bi/mi/pointWrite...     10   \n",
       "1627  19곰 테드  https://movie.naver.com/movie/bi/mi/pointWrite...     10   \n",
       "1628  19곰 테드  https://movie.naver.com/movie/bi/mi/pointWrite...     10   \n",
       "1629  19곰 테드  https://movie.naver.com/movie/bi/mi/pointWrite...     10   \n",
       "\n",
       "                                                 review  \n",
       "0     일단 진선규님께 박수갈채도 부족함 진짜 연기를 다양하게 잘하셔서 놀랐어요 오랜만에 ...  \n",
       "1                                     류승룡 드디어 심폐소생술 성공!  \n",
       "2                                        진짜 뻥안치고 ㅈㄴ 웃겼다  \n",
       "3     계속 웃으면서 봤어요!\"지금까지 이런맛은 없었다이것은 갈비인가 통닭인가수원왕갈비통닭...  \n",
       "4                      지금까지 이런 영화는 없었다  이것은 영화인가 통닭광고인가  \n",
       "...                                                 ...  \n",
       "1625                                          이런영화 더없음?  \n",
       "1626  그냥 저렴한 B급 코미디일 줄 알았는데... 동화 느낌의 너무나 귀엽고 사랑스러운 ...  \n",
       "1627                                               재미당@  \n",
       "1628   세상엔 토이스토리같은 성장기가 있는 반면 이런 성장기도 있다. 토이스토리3의 35살판?  \n",
       "1629       남자들의 로망과 우정에 대한 진지한 고찰 ㅋ 평점 천백만점도 아깝지 않음 짝짝짝  \n",
       "\n",
       "[74180 rows x 4 columns]"
      ]
     },
     "execution_count": 17,
     "metadata": {},
     "output_type": "execute_result"
    }
   ],
   "source": [
    "new_df = pd.concat([df1, df2, df3, df4])\n",
    "new_df"
   ]
  },
  {
   "cell_type": "code",
   "execution_count": 18,
   "metadata": {},
   "outputs": [
    {
     "name": "stdout",
     "output_type": "stream",
     "text": [
      "<class 'pandas.core.frame.DataFrame'>\n",
      "Int64Index: 74180 entries, 0 to 1629\n",
      "Data columns (total 4 columns):\n",
      " #   Column  Non-Null Count  Dtype \n",
      "---  ------  --------------  ----- \n",
      " 0   title   74180 non-null  object\n",
      " 1   link    74180 non-null  object\n",
      " 2   score   74180 non-null  int64 \n",
      " 3   review  74180 non-null  object\n",
      "dtypes: int64(1), object(3)\n",
      "memory usage: 2.8+ MB\n"
     ]
    }
   ],
   "source": [
    "new_df.info()"
   ]
  },
  {
   "cell_type": "code",
   "execution_count": 20,
   "metadata": {},
   "outputs": [],
   "source": [
    "new_df.to_csv('./naver_movie_review_1106_comedy.csv', encoding='euckr', index=False)"
   ]
  }
 ],
 "metadata": {
  "kernelspec": {
   "display_name": "Python 3",
   "language": "python",
   "name": "python3"
  },
  "language_info": {
   "codemirror_mode": {
    "name": "ipython",
    "version": 3
   },
   "file_extension": ".py",
   "mimetype": "text/x-python",
   "name": "python",
   "nbconvert_exporter": "python",
   "pygments_lexer": "ipython3",
   "version": "3.8.5"
  }
 },
 "nbformat": 4,
 "nbformat_minor": 4
}
