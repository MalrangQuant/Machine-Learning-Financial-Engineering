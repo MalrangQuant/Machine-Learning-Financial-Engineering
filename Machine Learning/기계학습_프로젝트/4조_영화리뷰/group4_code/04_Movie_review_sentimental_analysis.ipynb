{
 "cells": [
  {
   "cell_type": "code",
   "execution_count": 4,
   "metadata": {
    "scrolled": false
   },
   "outputs": [],
   "source": [
    "# tweepy version 3.7.0~3.10.0 사이에서만 konlpy가 실행된다. version확인 후 해당 version이 아니면 아래 코드를 실행해 재설치한다.\n",
    "# 재설치했다면 kernel restart한다\n",
    "#!pip install tweepy==3.10.0"
   ]
  },
  {
   "cell_type": "code",
   "execution_count": 5,
   "metadata": {},
   "outputs": [
    {
     "data": {
      "text/plain": [
       "'4.10.0'"
      ]
     },
     "execution_count": 5,
     "metadata": {},
     "output_type": "execute_result"
    }
   ],
   "source": [
    "import tweepy\n",
    "tweepy.__version__"
   ]
  },
  {
   "cell_type": "code",
   "execution_count": 6,
   "metadata": {},
   "outputs": [],
   "source": [
    "import warnings\n",
    "warnings.filterwarnings('ignore')"
   ]
  },
  {
   "cell_type": "code",
   "execution_count": 3,
   "metadata": {},
   "outputs": [],
   "source": [
    "import pandas as pd\n",
    "import numpy as np\n",
    "import matplotlib.pyplot as plt\n",
    "import re\n",
    "import urllib.request\n",
    "from konlpy.tag import Okt\n",
    "from tqdm import tqdm\n",
    "from tensorflow.keras.preprocessing.text import Tokenizer\n",
    "from tensorflow.keras.preprocessing.sequence import pad_sequences"
   ]
  },
  {
   "cell_type": "markdown",
   "metadata": {},
   "source": [
    "KoNPLy 설치: https://liveyourit.tistory.com/56"
   ]
  },
  {
   "cell_type": "markdown",
   "metadata": {},
   "source": [
    "# 데이터 다운로드 및 확인"
   ]
  },
  {
   "cell_type": "code",
   "execution_count": 7,
   "metadata": {},
   "outputs": [
    {
     "data": {
      "text/plain": [
       "('ratings_test.txt', <http.client.HTTPMessage at 0x1063cfc70>)"
      ]
     },
     "execution_count": 7,
     "metadata": {},
     "output_type": "execute_result"
    }
   ],
   "source": [
    "urllib.request.urlretrieve(\"https://raw.githubusercontent.com/e9t/nsmc/master/ratings_train.txt\", filename=\"ratings_train.txt\")\n",
    "urllib.request.urlretrieve(\"https://raw.githubusercontent.com/e9t/nsmc/master/ratings_test.txt\", filename=\"ratings_test.txt\")"
   ]
  },
  {
   "cell_type": "code",
   "execution_count": 8,
   "metadata": {},
   "outputs": [],
   "source": [
    "train_data = pd.read_table('ratings_train.txt')\n",
    "test_data = pd.read_table('ratings_test.txt')"
   ]
  },
  {
   "cell_type": "code",
   "execution_count": 9,
   "metadata": {},
   "outputs": [
    {
     "data": {
      "text/plain": [
       "150000"
      ]
     },
     "execution_count": 9,
     "metadata": {},
     "output_type": "execute_result"
    }
   ],
   "source": [
    "len(train_data)"
   ]
  },
  {
   "cell_type": "code",
   "execution_count": 10,
   "metadata": {},
   "outputs": [
    {
     "data": {
      "text/html": [
       "<div>\n",
       "<style scoped>\n",
       "    .dataframe tbody tr th:only-of-type {\n",
       "        vertical-align: middle;\n",
       "    }\n",
       "\n",
       "    .dataframe tbody tr th {\n",
       "        vertical-align: top;\n",
       "    }\n",
       "\n",
       "    .dataframe thead th {\n",
       "        text-align: right;\n",
       "    }\n",
       "</style>\n",
       "<table border=\"1\" class=\"dataframe\">\n",
       "  <thead>\n",
       "    <tr style=\"text-align: right;\">\n",
       "      <th></th>\n",
       "      <th>id</th>\n",
       "      <th>document</th>\n",
       "      <th>label</th>\n",
       "    </tr>\n",
       "  </thead>\n",
       "  <tbody>\n",
       "    <tr>\n",
       "      <th>0</th>\n",
       "      <td>9976970</td>\n",
       "      <td>아 더빙.. 진짜 짜증나네요 목소리</td>\n",
       "      <td>0</td>\n",
       "    </tr>\n",
       "    <tr>\n",
       "      <th>1</th>\n",
       "      <td>3819312</td>\n",
       "      <td>흠...포스터보고 초딩영화줄....오버연기조차 가볍지 않구나</td>\n",
       "      <td>1</td>\n",
       "    </tr>\n",
       "    <tr>\n",
       "      <th>2</th>\n",
       "      <td>10265843</td>\n",
       "      <td>너무재밓었다그래서보는것을추천한다</td>\n",
       "      <td>0</td>\n",
       "    </tr>\n",
       "    <tr>\n",
       "      <th>3</th>\n",
       "      <td>9045019</td>\n",
       "      <td>교도소 이야기구먼 ..솔직히 재미는 없다..평점 조정</td>\n",
       "      <td>0</td>\n",
       "    </tr>\n",
       "    <tr>\n",
       "      <th>4</th>\n",
       "      <td>6483659</td>\n",
       "      <td>사이몬페그의 익살스런 연기가 돋보였던 영화!스파이더맨에서 늙어보이기만 했던 커스틴 ...</td>\n",
       "      <td>1</td>\n",
       "    </tr>\n",
       "  </tbody>\n",
       "</table>\n",
       "</div>"
      ],
      "text/plain": [
       "         id                                           document  label\n",
       "0   9976970                                아 더빙.. 진짜 짜증나네요 목소리      0\n",
       "1   3819312                  흠...포스터보고 초딩영화줄....오버연기조차 가볍지 않구나      1\n",
       "2  10265843                                  너무재밓었다그래서보는것을추천한다      0\n",
       "3   9045019                      교도소 이야기구먼 ..솔직히 재미는 없다..평점 조정      0\n",
       "4   6483659  사이몬페그의 익살스런 연기가 돋보였던 영화!스파이더맨에서 늙어보이기만 했던 커스틴 ...      1"
      ]
     },
     "execution_count": 10,
     "metadata": {},
     "output_type": "execute_result"
    }
   ],
   "source": [
    "train_data.head()"
   ]
  },
  {
   "cell_type": "code",
   "execution_count": 11,
   "metadata": {},
   "outputs": [
    {
     "name": "stdout",
     "output_type": "stream",
     "text": [
      "<class 'pandas.core.frame.DataFrame'>\n",
      "RangeIndex: 150000 entries, 0 to 149999\n",
      "Data columns (total 3 columns):\n",
      " #   Column    Non-Null Count   Dtype \n",
      "---  ------    --------------   ----- \n",
      " 0   id        150000 non-null  int64 \n",
      " 1   document  149995 non-null  object\n",
      " 2   label     150000 non-null  int64 \n",
      "dtypes: int64(2), object(1)\n",
      "memory usage: 3.4+ MB\n"
     ]
    }
   ],
   "source": [
    "train_data.info()"
   ]
  },
  {
   "cell_type": "code",
   "execution_count": 12,
   "metadata": {},
   "outputs": [
    {
     "data": {
      "text/plain": [
       "50000"
      ]
     },
     "execution_count": 12,
     "metadata": {},
     "output_type": "execute_result"
    }
   ],
   "source": [
    "len(test_data)"
   ]
  },
  {
   "cell_type": "code",
   "execution_count": 13,
   "metadata": {},
   "outputs": [
    {
     "data": {
      "text/html": [
       "<div>\n",
       "<style scoped>\n",
       "    .dataframe tbody tr th:only-of-type {\n",
       "        vertical-align: middle;\n",
       "    }\n",
       "\n",
       "    .dataframe tbody tr th {\n",
       "        vertical-align: top;\n",
       "    }\n",
       "\n",
       "    .dataframe thead th {\n",
       "        text-align: right;\n",
       "    }\n",
       "</style>\n",
       "<table border=\"1\" class=\"dataframe\">\n",
       "  <thead>\n",
       "    <tr style=\"text-align: right;\">\n",
       "      <th></th>\n",
       "      <th>id</th>\n",
       "      <th>document</th>\n",
       "      <th>label</th>\n",
       "    </tr>\n",
       "  </thead>\n",
       "  <tbody>\n",
       "    <tr>\n",
       "      <th>0</th>\n",
       "      <td>6270596</td>\n",
       "      <td>굳 ㅋ</td>\n",
       "      <td>1</td>\n",
       "    </tr>\n",
       "    <tr>\n",
       "      <th>1</th>\n",
       "      <td>9274899</td>\n",
       "      <td>GDNTOPCLASSINTHECLUB</td>\n",
       "      <td>0</td>\n",
       "    </tr>\n",
       "    <tr>\n",
       "      <th>2</th>\n",
       "      <td>8544678</td>\n",
       "      <td>뭐야 이 평점들은.... 나쁘진 않지만 10점 짜리는 더더욱 아니잖아</td>\n",
       "      <td>0</td>\n",
       "    </tr>\n",
       "    <tr>\n",
       "      <th>3</th>\n",
       "      <td>6825595</td>\n",
       "      <td>지루하지는 않은데 완전 막장임... 돈주고 보기에는....</td>\n",
       "      <td>0</td>\n",
       "    </tr>\n",
       "    <tr>\n",
       "      <th>4</th>\n",
       "      <td>6723715</td>\n",
       "      <td>3D만 아니었어도 별 다섯 개 줬을텐데.. 왜 3D로 나와서 제 심기를 불편하게 하죠??</td>\n",
       "      <td>0</td>\n",
       "    </tr>\n",
       "  </tbody>\n",
       "</table>\n",
       "</div>"
      ],
      "text/plain": [
       "        id                                           document  label\n",
       "0  6270596                                                굳 ㅋ      1\n",
       "1  9274899                               GDNTOPCLASSINTHECLUB      0\n",
       "2  8544678             뭐야 이 평점들은.... 나쁘진 않지만 10점 짜리는 더더욱 아니잖아      0\n",
       "3  6825595                   지루하지는 않은데 완전 막장임... 돈주고 보기에는....      0\n",
       "4  6723715  3D만 아니었어도 별 다섯 개 줬을텐데.. 왜 3D로 나와서 제 심기를 불편하게 하죠??      0"
      ]
     },
     "execution_count": 13,
     "metadata": {},
     "output_type": "execute_result"
    }
   ],
   "source": [
    "test_data.head()"
   ]
  },
  {
   "cell_type": "code",
   "execution_count": 14,
   "metadata": {},
   "outputs": [
    {
     "name": "stdout",
     "output_type": "stream",
     "text": [
      "<class 'pandas.core.frame.DataFrame'>\n",
      "RangeIndex: 50000 entries, 0 to 49999\n",
      "Data columns (total 3 columns):\n",
      " #   Column    Non-Null Count  Dtype \n",
      "---  ------    --------------  ----- \n",
      " 0   id        50000 non-null  int64 \n",
      " 1   document  49997 non-null  object\n",
      " 2   label     50000 non-null  int64 \n",
      "dtypes: int64(2), object(1)\n",
      "memory usage: 1.1+ MB\n"
     ]
    }
   ],
   "source": [
    "test_data.info()"
   ]
  },
  {
   "cell_type": "markdown",
   "metadata": {},
   "source": [
    "# train data preprocessing"
   ]
  },
  {
   "cell_type": "code",
   "execution_count": 15,
   "metadata": {},
   "outputs": [
    {
     "data": {
      "text/plain": [
       "(146182, 2)"
      ]
     },
     "execution_count": 15,
     "metadata": {},
     "output_type": "execute_result"
    }
   ],
   "source": [
    "# 중복 확인\n",
    "train_data['document'].nunique(), train_data['label'].nunique()"
   ]
  },
  {
   "cell_type": "code",
   "execution_count": 16,
   "metadata": {},
   "outputs": [
    {
     "data": {
      "text/plain": [
       "146183"
      ]
     },
     "execution_count": 16,
     "metadata": {},
     "output_type": "execute_result"
    }
   ],
   "source": [
    "# 중복 제거\n",
    "train_data.drop_duplicates(subset=['document'], inplace=True)\n",
    "len(train_data)"
   ]
  },
  {
   "cell_type": "code",
   "execution_count": 17,
   "metadata": {},
   "outputs": [
    {
     "data": {
      "text/plain": [
       "<AxesSubplot:>"
      ]
     },
     "execution_count": 17,
     "metadata": {},
     "output_type": "execute_result"
    },
    {
     "data": {
      "image/png": "[encoded data removed]",
      "text/plain": [
       "<Figure size 432x288 with 1 Axes>"
      ]
     },
     "metadata": {
      "needs_background": "light"
     },
     "output_type": "display_data"
    }
   ],
   "source": [
    "train_data['label'].value_counts().plot(kind = 'bar')"
   ]
  },
  {
   "cell_type": "code",
   "execution_count": 18,
   "metadata": {},
   "outputs": [
    {
     "data": {
      "text/html": [
       "<div>\n",
       "<style scoped>\n",
       "    .dataframe tbody tr th:only-of-type {\n",
       "        vertical-align: middle;\n",
       "    }\n",
       "\n",
       "    .dataframe tbody tr th {\n",
       "        vertical-align: top;\n",
       "    }\n",
       "\n",
       "    .dataframe thead th {\n",
       "        text-align: right;\n",
       "    }\n",
       "</style>\n",
       "<table border=\"1\" class=\"dataframe\">\n",
       "  <thead>\n",
       "    <tr style=\"text-align: right;\">\n",
       "      <th></th>\n",
       "      <th>id</th>\n",
       "      <th>document</th>\n",
       "      <th>label</th>\n",
       "    </tr>\n",
       "  </thead>\n",
       "  <tbody>\n",
       "    <tr>\n",
       "      <th>25857</th>\n",
       "      <td>2172111</td>\n",
       "      <td>NaN</td>\n",
       "      <td>1</td>\n",
       "    </tr>\n",
       "  </tbody>\n",
       "</table>\n",
       "</div>"
      ],
      "text/plain": [
       "            id document  label\n",
       "25857  2172111      NaN      1"
      ]
     },
     "execution_count": 18,
     "metadata": {},
     "output_type": "execute_result"
    }
   ],
   "source": [
    "# null값 확인\n",
    "train_data.loc[train_data.document.isnull()]"
   ]
  },
  {
   "cell_type": "code",
   "execution_count": 19,
   "metadata": {},
   "outputs": [
    {
     "data": {
      "text/plain": [
       "False"
      ]
     },
     "execution_count": 19,
     "metadata": {},
     "output_type": "execute_result"
    }
   ],
   "source": [
    "# null값 제거\n",
    "train_data = train_data.dropna(how = 'any')\n",
    "train_data.isnull().values.any()"
   ]
  },
  {
   "cell_type": "code",
   "execution_count": 20,
   "metadata": {},
   "outputs": [
    {
     "data": {
      "text/plain": [
       "146182"
      ]
     },
     "execution_count": 20,
     "metadata": {},
     "output_type": "execute_result"
    }
   ],
   "source": [
    "len(train_data)"
   ]
  },
  {
   "cell_type": "markdown",
   "metadata": {},
   "source": [
    "### 특수문자 제거"
   ]
  },
  {
   "cell_type": "code",
   "execution_count": 21,
   "metadata": {},
   "outputs": [
    {
     "data": {
      "text/html": [
       "<div>\n",
       "<style scoped>\n",
       "    .dataframe tbody tr th:only-of-type {\n",
       "        vertical-align: middle;\n",
       "    }\n",
       "\n",
       "    .dataframe tbody tr th {\n",
       "        vertical-align: top;\n",
       "    }\n",
       "\n",
       "    .dataframe thead th {\n",
       "        text-align: right;\n",
       "    }\n",
       "</style>\n",
       "<table border=\"1\" class=\"dataframe\">\n",
       "  <thead>\n",
       "    <tr style=\"text-align: right;\">\n",
       "      <th></th>\n",
       "      <th>id</th>\n",
       "      <th>document</th>\n",
       "      <th>label</th>\n",
       "    </tr>\n",
       "  </thead>\n",
       "  <tbody>\n",
       "    <tr>\n",
       "      <th>0</th>\n",
       "      <td>9976970</td>\n",
       "      <td>아 더빙 진짜 짜증나네요 목소리</td>\n",
       "      <td>0</td>\n",
       "    </tr>\n",
       "    <tr>\n",
       "      <th>1</th>\n",
       "      <td>3819312</td>\n",
       "      <td>흠포스터보고 초딩영화줄오버연기조차 가볍지 않구나</td>\n",
       "      <td>1</td>\n",
       "    </tr>\n",
       "    <tr>\n",
       "      <th>2</th>\n",
       "      <td>10265843</td>\n",
       "      <td>너무재밓었다그래서보는것을추천한다</td>\n",
       "      <td>0</td>\n",
       "    </tr>\n",
       "    <tr>\n",
       "      <th>3</th>\n",
       "      <td>9045019</td>\n",
       "      <td>교도소 이야기구먼 솔직히 재미는 없다평점 조정</td>\n",
       "      <td>0</td>\n",
       "    </tr>\n",
       "    <tr>\n",
       "      <th>4</th>\n",
       "      <td>6483659</td>\n",
       "      <td>사이몬페그의 익살스런 연기가 돋보였던 영화스파이더맨에서 늙어보이기만 했던 커스틴 던...</td>\n",
       "      <td>1</td>\n",
       "    </tr>\n",
       "  </tbody>\n",
       "</table>\n",
       "</div>"
      ],
      "text/plain": [
       "         id                                           document  label\n",
       "0   9976970                                  아 더빙 진짜 짜증나네요 목소리      0\n",
       "1   3819312                         흠포스터보고 초딩영화줄오버연기조차 가볍지 않구나      1\n",
       "2  10265843                                  너무재밓었다그래서보는것을추천한다      0\n",
       "3   9045019                          교도소 이야기구먼 솔직히 재미는 없다평점 조정      0\n",
       "4   6483659  사이몬페그의 익살스런 연기가 돋보였던 영화스파이더맨에서 늙어보이기만 했던 커스틴 던...      1"
      ]
     },
     "execution_count": 21,
     "metadata": {},
     "output_type": "execute_result"
    }
   ],
   "source": [
    "train_data['document'] = train_data['document'].str.replace(\"[^ㄱ-ㅎㅏ-ㅣ가-힣 ]\",\"\")\n",
    "train_data.head()"
   ]
  },
  {
   "cell_type": "code",
   "execution_count": 22,
   "metadata": {},
   "outputs": [
    {
     "name": "stdout",
     "output_type": "stream",
     "text": [
      "id            0\n",
      "document    789\n",
      "label         0\n",
      "dtype: int64\n"
     ]
    }
   ],
   "source": [
    "# 리뷰 데이터기 비었다면 null로 변경\n",
    "train_data['document'] = train_data['document'].str.replace('^ +', \"\")\n",
    "train_data['document'].replace('', np.nan, inplace=True)\n",
    "print(train_data.isnull().sum())"
   ]
  },
  {
   "cell_type": "code",
   "execution_count": 23,
   "metadata": {},
   "outputs": [
    {
     "data": {
      "text/html": [
       "<div>\n",
       "<style scoped>\n",
       "    .dataframe tbody tr th:only-of-type {\n",
       "        vertical-align: middle;\n",
       "    }\n",
       "\n",
       "    .dataframe tbody tr th {\n",
       "        vertical-align: top;\n",
       "    }\n",
       "\n",
       "    .dataframe thead th {\n",
       "        text-align: right;\n",
       "    }\n",
       "</style>\n",
       "<table border=\"1\" class=\"dataframe\">\n",
       "  <thead>\n",
       "    <tr style=\"text-align: right;\">\n",
       "      <th></th>\n",
       "      <th>id</th>\n",
       "      <th>document</th>\n",
       "      <th>label</th>\n",
       "    </tr>\n",
       "  </thead>\n",
       "  <tbody>\n",
       "    <tr>\n",
       "      <th>404</th>\n",
       "      <td>4221289</td>\n",
       "      <td>NaN</td>\n",
       "      <td>0</td>\n",
       "    </tr>\n",
       "    <tr>\n",
       "      <th>412</th>\n",
       "      <td>9509970</td>\n",
       "      <td>NaN</td>\n",
       "      <td>1</td>\n",
       "    </tr>\n",
       "    <tr>\n",
       "      <th>470</th>\n",
       "      <td>10147571</td>\n",
       "      <td>NaN</td>\n",
       "      <td>1</td>\n",
       "    </tr>\n",
       "    <tr>\n",
       "      <th>584</th>\n",
       "      <td>7117896</td>\n",
       "      <td>NaN</td>\n",
       "      <td>0</td>\n",
       "    </tr>\n",
       "    <tr>\n",
       "      <th>593</th>\n",
       "      <td>6478189</td>\n",
       "      <td>NaN</td>\n",
       "      <td>0</td>\n",
       "    </tr>\n",
       "  </tbody>\n",
       "</table>\n",
       "</div>"
      ],
      "text/plain": [
       "           id document  label\n",
       "404   4221289      NaN      0\n",
       "412   9509970      NaN      1\n",
       "470  10147571      NaN      1\n",
       "584   7117896      NaN      0\n",
       "593   6478189      NaN      0"
      ]
     },
     "execution_count": 23,
     "metadata": {},
     "output_type": "execute_result"
    }
   ],
   "source": [
    "train_data.loc[train_data.document.isnull()].head()"
   ]
  },
  {
   "cell_type": "code",
   "execution_count": 24,
   "metadata": {},
   "outputs": [
    {
     "data": {
      "text/plain": [
       "145393"
      ]
     },
     "execution_count": 24,
     "metadata": {},
     "output_type": "execute_result"
    }
   ],
   "source": [
    "# null데이터 제거\n",
    "train_data = train_data.dropna(how = 'any')\n",
    "len(train_data)"
   ]
  },
  {
   "cell_type": "markdown",
   "metadata": {},
   "source": [
    "# test data preprocessing"
   ]
  },
  {
   "cell_type": "code",
   "execution_count": 25,
   "metadata": {},
   "outputs": [
    {
     "data": {
      "text/plain": [
       "(49157, 2)"
      ]
     },
     "execution_count": 25,
     "metadata": {},
     "output_type": "execute_result"
    }
   ],
   "source": [
    "# 중복 확인\n",
    "test_data['document'].nunique(), test_data['label'].nunique()"
   ]
  },
  {
   "cell_type": "code",
   "execution_count": 26,
   "metadata": {},
   "outputs": [
    {
     "data": {
      "text/plain": [
       "49158"
      ]
     },
     "execution_count": 26,
     "metadata": {},
     "output_type": "execute_result"
    }
   ],
   "source": [
    "# 중복 제거\n",
    "test_data.drop_duplicates(subset=['document'], inplace=True)\n",
    "len(test_data)"
   ]
  },
  {
   "cell_type": "code",
   "execution_count": 27,
   "metadata": {},
   "outputs": [
    {
     "data": {
      "text/plain": [
       "<AxesSubplot:>"
      ]
     },
     "execution_count": 27,
     "metadata": {},
     "output_type": "execute_result"
    },
    {
     "data": {
      "image/png": "[encoded data removed]",
      "text/plain": [
       "<Figure size 432x288 with 1 Axes>"
      ]
     },
     "metadata": {
      "needs_background": "light"
     },
     "output_type": "display_data"
    }
   ],
   "source": [
    "test_data['label'].value_counts().plot(kind = 'bar')"
   ]
  },
  {
   "cell_type": "code",
   "execution_count": 28,
   "metadata": {},
   "outputs": [
    {
     "data": {
      "text/html": [
       "<div>\n",
       "<style scoped>\n",
       "    .dataframe tbody tr th:only-of-type {\n",
       "        vertical-align: middle;\n",
       "    }\n",
       "\n",
       "    .dataframe tbody tr th {\n",
       "        vertical-align: top;\n",
       "    }\n",
       "\n",
       "    .dataframe thead th {\n",
       "        text-align: right;\n",
       "    }\n",
       "</style>\n",
       "<table border=\"1\" class=\"dataframe\">\n",
       "  <thead>\n",
       "    <tr style=\"text-align: right;\">\n",
       "      <th></th>\n",
       "      <th>id</th>\n",
       "      <th>document</th>\n",
       "      <th>label</th>\n",
       "    </tr>\n",
       "  </thead>\n",
       "  <tbody>\n",
       "    <tr>\n",
       "      <th>5746</th>\n",
       "      <td>402110</td>\n",
       "      <td>NaN</td>\n",
       "      <td>1</td>\n",
       "    </tr>\n",
       "  </tbody>\n",
       "</table>\n",
       "</div>"
      ],
      "text/plain": [
       "          id document  label\n",
       "5746  402110      NaN      1"
      ]
     },
     "execution_count": 28,
     "metadata": {},
     "output_type": "execute_result"
    }
   ],
   "source": [
    "# null값 확인\n",
    "test_data.loc[test_data.document.isnull()]"
   ]
  },
  {
   "cell_type": "code",
   "execution_count": 29,
   "metadata": {},
   "outputs": [
    {
     "data": {
      "text/plain": [
       "False"
      ]
     },
     "execution_count": 29,
     "metadata": {},
     "output_type": "execute_result"
    }
   ],
   "source": [
    "# null값 제거\n",
    "test_data = test_data.dropna(how = 'any')\n",
    "test_data.isnull().values.any()"
   ]
  },
  {
   "cell_type": "code",
   "execution_count": 30,
   "metadata": {},
   "outputs": [
    {
     "data": {
      "text/plain": [
       "49157"
      ]
     },
     "execution_count": 30,
     "metadata": {},
     "output_type": "execute_result"
    }
   ],
   "source": [
    "len(test_data)"
   ]
  },
  {
   "cell_type": "markdown",
   "metadata": {},
   "source": [
    "### 특수문자 제거"
   ]
  },
  {
   "cell_type": "code",
   "execution_count": 31,
   "metadata": {},
   "outputs": [
    {
     "data": {
      "text/html": [
       "<div>\n",
       "<style scoped>\n",
       "    .dataframe tbody tr th:only-of-type {\n",
       "        vertical-align: middle;\n",
       "    }\n",
       "\n",
       "    .dataframe tbody tr th {\n",
       "        vertical-align: top;\n",
       "    }\n",
       "\n",
       "    .dataframe thead th {\n",
       "        text-align: right;\n",
       "    }\n",
       "</style>\n",
       "<table border=\"1\" class=\"dataframe\">\n",
       "  <thead>\n",
       "    <tr style=\"text-align: right;\">\n",
       "      <th></th>\n",
       "      <th>id</th>\n",
       "      <th>document</th>\n",
       "      <th>label</th>\n",
       "    </tr>\n",
       "  </thead>\n",
       "  <tbody>\n",
       "    <tr>\n",
       "      <th>0</th>\n",
       "      <td>6270596</td>\n",
       "      <td>굳 ㅋ</td>\n",
       "      <td>1</td>\n",
       "    </tr>\n",
       "    <tr>\n",
       "      <th>1</th>\n",
       "      <td>9274899</td>\n",
       "      <td></td>\n",
       "      <td>0</td>\n",
       "    </tr>\n",
       "    <tr>\n",
       "      <th>2</th>\n",
       "      <td>8544678</td>\n",
       "      <td>뭐야 이 평점들은 나쁘진 않지만 점 짜리는 더더욱 아니잖아</td>\n",
       "      <td>0</td>\n",
       "    </tr>\n",
       "    <tr>\n",
       "      <th>3</th>\n",
       "      <td>6825595</td>\n",
       "      <td>지루하지는 않은데 완전 막장임 돈주고 보기에는</td>\n",
       "      <td>0</td>\n",
       "    </tr>\n",
       "    <tr>\n",
       "      <th>4</th>\n",
       "      <td>6723715</td>\n",
       "      <td>만 아니었어도 별 다섯 개 줬을텐데 왜 로 나와서 제 심기를 불편하게 하죠</td>\n",
       "      <td>0</td>\n",
       "    </tr>\n",
       "  </tbody>\n",
       "</table>\n",
       "</div>"
      ],
      "text/plain": [
       "        id                                   document  label\n",
       "0  6270596                                        굳 ㅋ      1\n",
       "1  9274899                                                 0\n",
       "2  8544678           뭐야 이 평점들은 나쁘진 않지만 점 짜리는 더더욱 아니잖아      0\n",
       "3  6825595                  지루하지는 않은데 완전 막장임 돈주고 보기에는      0\n",
       "4  6723715  만 아니었어도 별 다섯 개 줬을텐데 왜 로 나와서 제 심기를 불편하게 하죠      0"
      ]
     },
     "execution_count": 31,
     "metadata": {},
     "output_type": "execute_result"
    }
   ],
   "source": [
    "test_data['document'] = test_data['document'].str.replace(\"[^ㄱ-ㅎㅏ-ㅣ가-힣 ]\",\"\")\n",
    "test_data.head()"
   ]
  },
  {
   "cell_type": "code",
   "execution_count": 32,
   "metadata": {},
   "outputs": [
    {
     "name": "stdout",
     "output_type": "stream",
     "text": [
      "id            0\n",
      "document    305\n",
      "label         0\n",
      "dtype: int64\n"
     ]
    }
   ],
   "source": [
    "# 리뷰 데이터기 비었다면 null로 변경\n",
    "test_data['document'] = test_data['document'].str.replace('^ +', \"\")\n",
    "test_data['document'].replace('', np.nan, inplace=True)\n",
    "print(test_data.isnull().sum())"
   ]
  },
  {
   "cell_type": "code",
   "execution_count": 33,
   "metadata": {},
   "outputs": [
    {
     "data": {
      "text/html": [
       "<div>\n",
       "<style scoped>\n",
       "    .dataframe tbody tr th:only-of-type {\n",
       "        vertical-align: middle;\n",
       "    }\n",
       "\n",
       "    .dataframe tbody tr th {\n",
       "        vertical-align: top;\n",
       "    }\n",
       "\n",
       "    .dataframe thead th {\n",
       "        text-align: right;\n",
       "    }\n",
       "</style>\n",
       "<table border=\"1\" class=\"dataframe\">\n",
       "  <thead>\n",
       "    <tr style=\"text-align: right;\">\n",
       "      <th></th>\n",
       "      <th>id</th>\n",
       "      <th>document</th>\n",
       "      <th>label</th>\n",
       "    </tr>\n",
       "  </thead>\n",
       "  <tbody>\n",
       "    <tr>\n",
       "      <th>1</th>\n",
       "      <td>9274899</td>\n",
       "      <td>NaN</td>\n",
       "      <td>0</td>\n",
       "    </tr>\n",
       "    <tr>\n",
       "      <th>116</th>\n",
       "      <td>6910486</td>\n",
       "      <td>NaN</td>\n",
       "      <td>1</td>\n",
       "    </tr>\n",
       "    <tr>\n",
       "      <th>254</th>\n",
       "      <td>4976468</td>\n",
       "      <td>NaN</td>\n",
       "      <td>0</td>\n",
       "    </tr>\n",
       "    <tr>\n",
       "      <th>468</th>\n",
       "      <td>7517102</td>\n",
       "      <td>NaN</td>\n",
       "      <td>0</td>\n",
       "    </tr>\n",
       "    <tr>\n",
       "      <th>504</th>\n",
       "      <td>2096424</td>\n",
       "      <td>NaN</td>\n",
       "      <td>0</td>\n",
       "    </tr>\n",
       "  </tbody>\n",
       "</table>\n",
       "</div>"
      ],
      "text/plain": [
       "          id document  label\n",
       "1    9274899      NaN      0\n",
       "116  6910486      NaN      1\n",
       "254  4976468      NaN      0\n",
       "468  7517102      NaN      0\n",
       "504  2096424      NaN      0"
      ]
     },
     "execution_count": 33,
     "metadata": {},
     "output_type": "execute_result"
    }
   ],
   "source": [
    "test_data.loc[test_data.document.isnull()].head()"
   ]
  },
  {
   "cell_type": "code",
   "execution_count": 34,
   "metadata": {},
   "outputs": [
    {
     "data": {
      "text/plain": [
       "48852"
      ]
     },
     "execution_count": 34,
     "metadata": {},
     "output_type": "execute_result"
    }
   ],
   "source": [
    "# null데이터 제거\n",
    "test_data = test_data.dropna(how = 'any')\n",
    "len(test_data)"
   ]
  },
  {
   "cell_type": "markdown",
   "metadata": {},
   "source": [
    "# tokenize"
   ]
  },
  {
   "cell_type": "code",
   "execution_count": 35,
   "metadata": {},
   "outputs": [],
   "source": [
    "# 불용어 정의. 더 추가해도 상관 없음\n",
    "stopwords = ['의','가','이','은','들','는','좀','잘','걍','과','도','를','으로','자','에','와','한','하다']"
   ]
  },
  {
   "cell_type": "code",
   "execution_count": 36,
   "metadata": {},
   "outputs": [],
   "source": [
    "okt = Okt()"
   ]
  },
  {
   "cell_type": "markdown",
   "metadata": {},
   "source": [
    "okt 에러 시 참고: https://byeon-sg.tistory.com/entry/%EC%9E%90%EC%97%B0%EC%96%B4-%EC%B2%98%EB%A6%AC-konlpy-%EC%84%A4%EC%B9%98-%EC%98%A4%EB%A5%98-okt%EC%97%90%EB%9F%AC-already-loaded-in-another-classloader-SystemErro-1"
   ]
  },
  {
   "cell_type": "code",
   "execution_count": 37,
   "metadata": {},
   "outputs": [
    {
     "name": "stderr",
     "output_type": "stream",
     "text": [
      "100%|██████████| 145393/145393 [03:17<00:00, 736.45it/s]\n"
     ]
    }
   ],
   "source": [
    "# train data 토큰화\n",
    "X_train = []\n",
    "for sentence in tqdm(train_data['document']):\n",
    "    tokenized_sentence = okt.morphs(sentence, stem=True) # 토큰화\n",
    "    stopwords_removed_sentence = [word for word in tokenized_sentence if not word in stopwords] # 불용어 제거\n",
    "    X_train.append(stopwords_removed_sentence)"
   ]
  },
  {
   "cell_type": "code",
   "execution_count": 38,
   "metadata": {},
   "outputs": [
    {
     "name": "stdout",
     "output_type": "stream",
     "text": [
      "[['아', '더빙', '진짜', '짜증나다', '목소리'], ['흠', '포스터', '보고', '초딩', '영화', '줄', '오버', '연기', '조차', '가볍다', '않다'], ['너', '무재', '밓었', '다그', '래서', '보다', '추천', '다']]\n"
     ]
    }
   ],
   "source": [
    "print(X_train[:3])"
   ]
  },
  {
   "cell_type": "code",
   "execution_count": 39,
   "metadata": {},
   "outputs": [
    {
     "name": "stderr",
     "output_type": "stream",
     "text": [
      "100%|██████████| 48852/48852 [01:10<00:00, 694.69it/s]\n"
     ]
    }
   ],
   "source": [
    "# test data 토큰화\n",
    "X_test = []\n",
    "for sentence in tqdm(test_data['document']):\n",
    "    tokenized_sentence = okt.morphs(sentence, stem=True) # 토큰화\n",
    "    stopwords_removed_sentence = [word for word in tokenized_sentence if not word in stopwords] # 불용어 제거\n",
    "    X_test.append(stopwords_removed_sentence)"
   ]
  },
  {
   "cell_type": "code",
   "execution_count": 40,
   "metadata": {},
   "outputs": [
    {
     "name": "stdout",
     "output_type": "stream",
     "text": [
      "[['굳다', 'ㅋ'], ['뭐', '야', '평점', '나쁘다', '않다', '점', '짜다', '리', '더', '더욱', '아니다'], ['지루하다', '않다', '완전', '막장', '임', '돈', '주다', '보기', '에는']]\n"
     ]
    }
   ],
   "source": [
    "print(X_test[:3])"
   ]
  },
  {
   "cell_type": "markdown",
   "metadata": {},
   "source": [
    "# 정수 인코딩"
   ]
  },
  {
   "cell_type": "code",
   "execution_count": 41,
   "metadata": {},
   "outputs": [],
   "source": [
    "tokenizer = Tokenizer()\n",
    "tokenizer.fit_on_texts(X_train)"
   ]
  },
  {
   "cell_type": "code",
   "execution_count": 42,
   "metadata": {
    "collapsed": true
   },
   "outputs": [],
   "source": [
    "#print(tokenizer.word_index)"
   ]
  },
  {
   "cell_type": "code",
   "execution_count": 43,
   "metadata": {},
   "outputs": [],
   "source": [
    "threshold = 3\n",
    "total_cnt = len(tokenizer.word_index) # 단어의 수\n",
    "rare_cnt = 0 # 등장 빈도수가 threshold보다 작은 단어의 개수를 카운트\n",
    "total_freq = 0 # 훈련 데이터의 전체 단어 빈도수 총 합\n",
    "rare_freq = 0 # 등장 빈도수가 threshold보다 작은 단어의 등장 빈도수의 총 합"
   ]
  },
  {
   "cell_type": "code",
   "execution_count": 44,
   "metadata": {},
   "outputs": [],
   "source": [
    "# 단어와 빈도수의 쌍(pair)을 key와 value로 받는다.\n",
    "for key, value in tokenizer.word_counts.items():\n",
    "    total_freq = total_freq + value\n",
    "\n",
    "    # 단어의 등장 빈도수가 threshold보다 작으면\n",
    "    if(value < threshold):\n",
    "        rare_cnt = rare_cnt + 1\n",
    "        rare_freq = rare_freq + value"
   ]
  },
  {
   "cell_type": "code",
   "execution_count": 45,
   "metadata": {},
   "outputs": [
    {
     "name": "stdout",
     "output_type": "stream",
     "text": [
      "단어 집합(vocabulary)의 크기 : 43752\n",
      "등장 빈도가 2번 이하인 희귀 단어의 수: 24337\n",
      "단어 집합에서 희귀 단어의 비율: 55.62488571950996\n",
      "전체 등장 빈도에서 희귀 단어 등장 빈도 비율: 1.8715872104872904\n"
     ]
    }
   ],
   "source": [
    "print('단어 집합(vocabulary)의 크기 :',total_cnt)\n",
    "print('등장 빈도가 %s번 이하인 희귀 단어의 수: %s'%(threshold - 1, rare_cnt))\n",
    "print(\"단어 집합에서 희귀 단어의 비율:\", (rare_cnt / total_cnt)*100)\n",
    "print(\"전체 등장 빈도에서 희귀 단어 등장 빈도 비율:\", (rare_freq / total_freq)*100)"
   ]
  },
  {
   "cell_type": "code",
   "execution_count": 46,
   "metadata": {},
   "outputs": [
    {
     "name": "stdout",
     "output_type": "stream",
     "text": [
      "단어 집합의 크기 : 19416\n"
     ]
    }
   ],
   "source": [
    "# 전체 단어 개수 중 빈도수 2이하인 단어는 제거.\n",
    "# 0번 패딩 토큰을 고려하여 + 1\n",
    "vocab_size = total_cnt - rare_cnt + 1\n",
    "print('단어 집합의 크기 :',vocab_size)"
   ]
  },
  {
   "cell_type": "code",
   "execution_count": 47,
   "metadata": {},
   "outputs": [],
   "source": [
    "# 제거한 결과를 tokenizer로 넘김\n",
    "tokenizer = Tokenizer(vocab_size) \n",
    "tokenizer.fit_on_texts(X_train)\n",
    "X_train = tokenizer.texts_to_sequences(X_train)\n",
    "X_test = tokenizer.texts_to_sequences(X_test)"
   ]
  },
  {
   "cell_type": "code",
   "execution_count": 48,
   "metadata": {},
   "outputs": [
    {
     "name": "stdout",
     "output_type": "stream",
     "text": [
      "[[50, 454, 16, 260, 659], [933, 457, 41, 602, 1, 214, 1449, 24, 961, 675, 19], [386, 2444, 2315, 5671, 2, 222, 9]]\n"
     ]
    }
   ],
   "source": [
    "print(X_train[:3])"
   ]
  },
  {
   "cell_type": "code",
   "execution_count": 49,
   "metadata": {},
   "outputs": [],
   "source": [
    "# 학습을 위한 label 데이터를 따로 저장\n",
    "y_train = np.array(train_data['label'])\n",
    "y_test = np.array(test_data['label'])"
   ]
  },
  {
   "cell_type": "code",
   "execution_count": 50,
   "metadata": {},
   "outputs": [],
   "source": [
    "# 위에서 등장빈도 2 이하 단어로만 이루어져 비어버린 되어버린 샘플 제거\n",
    "drop_train = [index for index, sentence in enumerate(X_train) if len(sentence) < 1]"
   ]
  },
  {
   "cell_type": "code",
   "execution_count": 51,
   "metadata": {},
   "outputs": [
    {
     "name": "stdout",
     "output_type": "stream",
     "text": [
      "145162 145162\n"
     ]
    }
   ],
   "source": [
    "# 빈 샘플들을 제거\n",
    "X_train = np.delete(X_train, drop_train, axis=0)\n",
    "y_train = np.delete(y_train, drop_train, axis=0)\n",
    "print(len(X_train), len(y_train))"
   ]
  },
  {
   "cell_type": "markdown",
   "metadata": {},
   "source": [
    "# Padding"
   ]
  },
  {
   "cell_type": "code",
   "execution_count": 52,
   "metadata": {},
   "outputs": [
    {
     "name": "stdout",
     "output_type": "stream",
     "text": [
      "리뷰의 최대 길이 : 69\n",
      "리뷰의 평균 길이 : 10.812485361182679\n"
     ]
    },
    {
     "data": {
      "image/png": "[encoded data removed]",
      "text/plain": [
       "<Figure size 432x288 with 1 Axes>"
      ]
     },
     "metadata": {
      "needs_background": "light"
     },
     "output_type": "display_data"
    }
   ],
   "source": [
    "# 샘플 길이를 동일하게 맞춰주는 작업을 위한 전체 데이터 길이 분포 확인\n",
    "print('리뷰의 최대 길이 :',max(len(l) for l in X_train))\n",
    "print('리뷰의 평균 길이 :',sum(map(len, X_train))/len(X_train))\n",
    "plt.hist([len(s) for s in X_train], bins=50)\n",
    "plt.xlabel('length of samples')\n",
    "plt.ylabel('number of samples')\n",
    "plt.show()"
   ]
  },
  {
   "cell_type": "code",
   "execution_count": 53,
   "metadata": {},
   "outputs": [],
   "source": [
    "# max_len이하인 데이터의 비율 확인 함수\n",
    "def below_threshold_len(max_len, nested_list):\n",
    "    count = 0\n",
    "    for sentence in nested_list:\n",
    "        if(len(sentence) <= max_len):\n",
    "            count = count + 1\n",
    "    print('전체 샘플 중 길이가 %s 이하인 샘플의 비율: %s'%(max_len, (count / len(nested_list))*100))"
   ]
  },
  {
   "cell_type": "code",
   "execution_count": 54,
   "metadata": {},
   "outputs": [
    {
     "name": "stdout",
     "output_type": "stream",
     "text": [
      "전체 샘플 중 길이가 30 이하인 샘플의 비율: 94.31944999380003\n"
     ]
    }
   ],
   "source": [
    "max_len = 30\n",
    "below_threshold_len(max_len, X_train)"
   ]
  },
  {
   "cell_type": "code",
   "execution_count": 55,
   "metadata": {},
   "outputs": [],
   "source": [
    "# 전체 샘플 길이 max_len으로 맞춤\n",
    "X_train = pad_sequences(X_train, maxlen = max_len)\n",
    "X_test = pad_sequences(X_test, maxlen = max_len)"
   ]
  },
  {
   "cell_type": "markdown",
   "metadata": {},
   "source": [
    "# Sentimental Analysis using LSTM"
   ]
  },
  {
   "cell_type": "code",
   "execution_count": 56,
   "metadata": {},
   "outputs": [],
   "source": [
    "from tensorflow.keras.layers import Embedding, Dense, LSTM\n",
    "from tensorflow.keras.models import Sequential\n",
    "from tensorflow.keras.models import load_model\n",
    "from tensorflow.keras.callbacks import EarlyStopping, ModelCheckpoint\n",
    "\n",
    "import tensorflow as tf"
   ]
  },
  {
   "cell_type": "code",
   "execution_count": 57,
   "metadata": {},
   "outputs": [],
   "source": [
    "embedding_dim = 100\n",
    "hidden_units = 128"
   ]
  },
  {
   "cell_type": "code",
   "execution_count": 58,
   "metadata": {},
   "outputs": [
    {
     "name": "stdout",
     "output_type": "stream",
     "text": [
      "Metal device set to: Apple M1\n",
      "\n",
      "systemMemory: 16.00 GB\n",
      "maxCacheSize: 5.33 GB\n",
      "\n"
     ]
    },
    {
     "name": "stderr",
     "output_type": "stream",
     "text": [
      "2022-06-05 22:06:08.748963: I tensorflow/core/common_runtime/pluggable_device/pluggable_device_factory.cc:305] Could not identify NUMA node of platform GPU ID 0, defaulting to 0. Your kernel may not have been built with NUMA support.\n",
      "2022-06-05 22:06:08.749249: I tensorflow/core/common_runtime/pluggable_device/pluggable_device_factory.cc:271] Created TensorFlow device (/job:localhost/replica:0/task:0/device:GPU:0 with 0 MB memory) -> physical PluggableDevice (device: 0, name: METAL, pci bus id: <undefined>)\n"
     ]
    }
   ],
   "source": [
    "model = Sequential()\n",
    "model.add(Embedding(vocab_size, embedding_dim))\n",
    "model.add(LSTM(hidden_units))\n",
    "model.add(Dense(1, activation='sigmoid'))"
   ]
  },
  {
   "cell_type": "code",
   "execution_count": 59,
   "metadata": {},
   "outputs": [],
   "source": [
    "es = EarlyStopping(monitor='val_loss', mode='min', verbose=1, patience=4)\n",
    "mc = ModelCheckpoint('best_model.h5', monitor='val_acc', mode='max', verbose=1, save_best_only=True)"
   ]
  },
  {
   "cell_type": "code",
   "execution_count": 60,
   "metadata": {},
   "outputs": [
    {
     "name": "stdout",
     "output_type": "stream",
     "text": [
      "You must install pydot (`pip install pydot`) and install graphviz (see instructions at https://graphviz.gitlab.io/download/) for plot_model/model_to_dot to work.\n"
     ]
    }
   ],
   "source": [
    "tf.keras.utils.plot_model(model, 'model.png', show_shapes=True)"
   ]
  },
  {
   "cell_type": "code",
   "execution_count": 61,
   "metadata": {},
   "outputs": [
    {
     "name": "stdout",
     "output_type": "stream",
     "text": [
      "Model: \"sequential\"\n",
      "_________________________________________________________________\n",
      " Layer (type)                Output Shape              Param #   \n",
      "=================================================================\n",
      " embedding (Embedding)       (None, None, 100)         1941600   \n",
      "                                                                 \n",
      " lstm (LSTM)                 (None, 128)               117248    \n",
      "                                                                 \n",
      " dense (Dense)               (None, 1)                 129       \n",
      "                                                                 \n",
      "=================================================================\n",
      "Total params: 2,058,977\n",
      "Trainable params: 2,058,977\n",
      "Non-trainable params: 0\n",
      "_________________________________________________________________\n"
     ]
    }
   ],
   "source": [
    "model.summary()"
   ]
  },
  {
   "cell_type": "code",
   "execution_count": 62,
   "metadata": {},
   "outputs": [
    {
     "name": "stdout",
     "output_type": "stream",
     "text": [
      "Epoch 1/50\n"
     ]
    },
    {
     "name": "stderr",
     "output_type": "stream",
     "text": [
      "2022-06-05 22:06:09.111242: W tensorflow/core/platform/profile_utils/cpu_utils.cc:128] Failed to get CPU frequency: 0 Hz\n",
      "2022-06-05 22:06:09.914829: I tensorflow/core/grappler/optimizers/custom_graph_optimizer_registry.cc:113] Plugin optimizer for device_type GPU is enabled.\n",
      "2022-06-05 22:06:10.088349: I tensorflow/core/grappler/optimizers/custom_graph_optimizer_registry.cc:113] Plugin optimizer for device_type GPU is enabled.\n"
     ]
    },
    {
     "name": "stdout",
     "output_type": "stream",
     "text": [
      "   3/1815 [..............................] - ETA: 52s - loss: 0.6922 - acc: 0.5208  "
     ]
    },
    {
     "name": "stderr",
     "output_type": "stream",
     "text": [
      "2022-06-05 22:06:10.224569: I tensorflow/core/grappler/optimizers/custom_graph_optimizer_registry.cc:113] Plugin optimizer for device_type GPU is enabled.\n"
     ]
    },
    {
     "name": "stdout",
     "output_type": "stream",
     "text": [
      "1815/1815 [==============================] - ETA: 0s - loss: 0.3889 - acc: 0.8226"
     ]
    },
    {
     "name": "stderr",
     "output_type": "stream",
     "text": [
      "2022-06-05 22:06:49.503367: I tensorflow/core/grappler/optimizers/custom_graph_optimizer_registry.cc:113] Plugin optimizer for device_type GPU is enabled.\n",
      "2022-06-05 22:06:49.562322: I tensorflow/core/grappler/optimizers/custom_graph_optimizer_registry.cc:113] Plugin optimizer for device_type GPU is enabled.\n"
     ]
    },
    {
     "name": "stdout",
     "output_type": "stream",
     "text": [
      "\n",
      "Epoch 1: val_acc improved from -inf to 0.84328, saving model to best_model.h5\n",
      "1815/1815 [==============================] - 44s 24ms/step - loss: 0.3889 - acc: 0.8226 - val_loss: 0.3520 - val_acc: 0.8433\n",
      "Epoch 2/50\n",
      "1815/1815 [==============================] - ETA: 0s - loss: 0.3259 - acc: 0.8588\n",
      "Epoch 2: val_acc improved from 0.84328 to 0.85516, saving model to best_model.h5\n",
      "1815/1815 [==============================] - 43s 23ms/step - loss: 0.3259 - acc: 0.8588 - val_loss: 0.3333 - val_acc: 0.8552\n",
      "Epoch 3/50\n",
      "1814/1815 [============================>.] - ETA: 0s - loss: 0.3010 - acc: 0.8724\n",
      "Epoch 3: val_acc improved from 0.85516 to 0.85541, saving model to best_model.h5\n",
      "1815/1815 [==============================] - 44s 24ms/step - loss: 0.3010 - acc: 0.8724 - val_loss: 0.3368 - val_acc: 0.8554\n",
      "Epoch 4/50\n",
      "1815/1815 [==============================] - ETA: 0s - loss: 0.2820 - acc: 0.8824\n",
      "Epoch 4: val_acc improved from 0.85541 to 0.86171, saving model to best_model.h5\n",
      "1815/1815 [==============================] - 43s 24ms/step - loss: 0.2820 - acc: 0.8824 - val_loss: 0.3239 - val_acc: 0.8617\n",
      "Epoch 5/50\n",
      "1813/1815 [============================>.] - ETA: 0s - loss: 0.2656 - acc: 0.8912\n",
      "Epoch 5: val_acc did not improve from 0.86171\n",
      "1815/1815 [==============================] - 41s 23ms/step - loss: 0.2656 - acc: 0.8912 - val_loss: 0.3310 - val_acc: 0.8589\n",
      "Epoch 6/50\n",
      "1815/1815 [==============================] - ETA: 0s - loss: 0.2499 - acc: 0.8987\n",
      "Epoch 6: val_acc did not improve from 0.86171\n",
      "1815/1815 [==============================] - 42s 23ms/step - loss: 0.2499 - acc: 0.8987 - val_loss: 0.3402 - val_acc: 0.8576\n",
      "Epoch 7/50\n",
      "1815/1815 [==============================] - ETA: 0s - loss: 0.2345 - acc: 0.9069\n",
      "Epoch 7: val_acc did not improve from 0.86171\n",
      "1815/1815 [==============================] - 44s 24ms/step - loss: 0.2345 - acc: 0.9069 - val_loss: 0.3481 - val_acc: 0.8535\n",
      "Epoch 8/50\n",
      "1813/1815 [============================>.] - ETA: 0s - loss: 0.2186 - acc: 0.9142\n",
      "Epoch 8: val_acc did not improve from 0.86171\n",
      "1815/1815 [==============================] - 43s 23ms/step - loss: 0.2186 - acc: 0.9142 - val_loss: 0.3538 - val_acc: 0.8551\n",
      "Epoch 8: early stopping\n"
     ]
    }
   ],
   "source": [
    "model.compile(optimizer='rmsprop', loss='binary_crossentropy', metrics=['acc'])\n",
    "history = model.fit(X_train, y_train, epochs=50, callbacks=[es, mc], batch_size=64, validation_split=0.2)"
   ]
  },
  {
   "cell_type": "code",
   "execution_count": 63,
   "metadata": {},
   "outputs": [],
   "source": [
    "# 모델 저장 (weight저장X, 동일 모델로 다시 학습 가능)\n",
    "model.save('best_model.h5')"
   ]
  },
  {
   "cell_type": "markdown",
   "metadata": {},
   "source": [
    "# 모델 평가"
   ]
  },
  {
   "cell_type": "code",
   "execution_count": 64,
   "metadata": {},
   "outputs": [
    {
     "name": "stdout",
     "output_type": "stream",
     "text": [
      "1527/1527 [==============================] - 13s 9ms/step - loss: 0.3579 - acc: 0.8525\n",
      "정확도 : 0.8525\n"
     ]
    }
   ],
   "source": [
    "print(\"정확도 : %.4f\" % (model.evaluate(X_test, y_test)[1]))"
   ]
  },
  {
   "cell_type": "code",
   "execution_count": 65,
   "metadata": {},
   "outputs": [
    {
     "name": "stdout",
     "output_type": "stream",
     "text": [
      "4537/4537 - 33s - loss: 0.2246 - acc: 0.9118 - 33s/epoch - 7ms/step\n"
     ]
    }
   ],
   "source": [
    "loss, acc = model.evaluate(X_train, y_train, verbose=2)"
   ]
  },
  {
   "cell_type": "code",
   "execution_count": 66,
   "metadata": {},
   "outputs": [
    {
     "ename": "FileNotFoundError",
     "evalue": "[Errno 2] No such file or directory: './plot_img/LSTM_loss_1112.png'",
     "output_type": "error",
     "traceback": [
      "\u001b[0;31m---------------------------------------------------------------------------\u001b[0m",
      "\u001b[0;31mFileNotFoundError\u001b[0m                         Traceback (most recent call last)",
      "\u001b[1;32m/Users/Sun/Documents/HUFS/21-2학기/Machine Learning/기계학습_프로젝트/4조_영화리뷰/group4_code/04_Movie_review_sentimental_analysis.ipynb Cell 76'\u001b[0m in \u001b[0;36m<cell line: 12>\u001b[0;34m()\u001b[0m\n\u001b[1;32m     <a href='vscode-notebook-cell:/Users/Sun/Documents/HUFS/21-2%ED%95%99%EA%B8%B0/Machine%20Learning/%EA%B8%B0%EA%B3%84%ED%95%99%EC%8A%B5_%ED%94%84%EB%A1%9C%EC%A0%9D%ED%8A%B8/4%EC%A1%B0_%EC%98%81%ED%99%94%EB%A6%AC%EB%B7%B0/group4_code/04_Movie_review_sentimental_analysis.ipynb#ch0000075?line=9'>10</a>\u001b[0m plt\u001b[39m.\u001b[39mylabel(\u001b[39m'\u001b[39m\u001b[39mloss\u001b[39m\u001b[39m'\u001b[39m)\n\u001b[1;32m     <a href='vscode-notebook-cell:/Users/Sun/Documents/HUFS/21-2%ED%95%99%EA%B8%B0/Machine%20Learning/%EA%B8%B0%EA%B3%84%ED%95%99%EC%8A%B5_%ED%94%84%EB%A1%9C%EC%A0%9D%ED%8A%B8/4%EC%A1%B0_%EC%98%81%ED%99%94%EB%A6%AC%EB%B7%B0/group4_code/04_Movie_review_sentimental_analysis.ipynb#ch0000075?line=10'>11</a>\u001b[0m plt\u001b[39m.\u001b[39mgrid()\n\u001b[0;32m---> <a href='vscode-notebook-cell:/Users/Sun/Documents/HUFS/21-2%ED%95%99%EA%B8%B0/Machine%20Learning/%EA%B8%B0%EA%B3%84%ED%95%99%EC%8A%B5_%ED%94%84%EB%A1%9C%EC%A0%9D%ED%8A%B8/4%EC%A1%B0_%EC%98%81%ED%99%94%EB%A6%AC%EB%B7%B0/group4_code/04_Movie_review_sentimental_analysis.ipynb#ch0000075?line=11'>12</a>\u001b[0m plt\u001b[39m.\u001b[39;49msavefig(\u001b[39m'\u001b[39;49m\u001b[39m./plot_img/LSTM_loss_1112.png\u001b[39;49m\u001b[39m'\u001b[39;49m)\n",
      "File \u001b[0;32m/opt/homebrew/Caskroom/miniforge/base/envs/NLP/lib/python3.8/site-packages/matplotlib/pyplot.py:958\u001b[0m, in \u001b[0;36msavefig\u001b[0;34m(*args, **kwargs)\u001b[0m\n\u001b[1;32m    <a href='file:///opt/homebrew/Caskroom/miniforge/base/envs/NLP/lib/python3.8/site-packages/matplotlib/pyplot.py?line=954'>955</a>\u001b[0m \u001b[39m@_copy_docstring_and_deprecators\u001b[39m(Figure\u001b[39m.\u001b[39msavefig)\n\u001b[1;32m    <a href='file:///opt/homebrew/Caskroom/miniforge/base/envs/NLP/lib/python3.8/site-packages/matplotlib/pyplot.py?line=955'>956</a>\u001b[0m \u001b[39mdef\u001b[39;00m \u001b[39msavefig\u001b[39m(\u001b[39m*\u001b[39margs, \u001b[39m*\u001b[39m\u001b[39m*\u001b[39mkwargs):\n\u001b[1;32m    <a href='file:///opt/homebrew/Caskroom/miniforge/base/envs/NLP/lib/python3.8/site-packages/matplotlib/pyplot.py?line=956'>957</a>\u001b[0m     fig \u001b[39m=\u001b[39m gcf()\n\u001b[0;32m--> <a href='file:///opt/homebrew/Caskroom/miniforge/base/envs/NLP/lib/python3.8/site-packages/matplotlib/pyplot.py?line=957'>958</a>\u001b[0m     res \u001b[39m=\u001b[39m fig\u001b[39m.\u001b[39;49msavefig(\u001b[39m*\u001b[39;49margs, \u001b[39m*\u001b[39;49m\u001b[39m*\u001b[39;49mkwargs)\n\u001b[1;32m    <a href='file:///opt/homebrew/Caskroom/miniforge/base/envs/NLP/lib/python3.8/site-packages/matplotlib/pyplot.py?line=958'>959</a>\u001b[0m     fig\u001b[39m.\u001b[39mcanvas\u001b[39m.\u001b[39mdraw_idle()   \u001b[39m# need this if 'transparent=True' to reset colors\u001b[39;00m\n\u001b[1;32m    <a href='file:///opt/homebrew/Caskroom/miniforge/base/envs/NLP/lib/python3.8/site-packages/matplotlib/pyplot.py?line=959'>960</a>\u001b[0m     \u001b[39mreturn\u001b[39;00m res\n",
      "File \u001b[0;32m/opt/homebrew/Caskroom/miniforge/base/envs/NLP/lib/python3.8/site-packages/matplotlib/figure.py:3019\u001b[0m, in \u001b[0;36mFigure.savefig\u001b[0;34m(self, fname, transparent, **kwargs)\u001b[0m\n\u001b[1;32m   <a href='file:///opt/homebrew/Caskroom/miniforge/base/envs/NLP/lib/python3.8/site-packages/matplotlib/figure.py?line=3014'>3015</a>\u001b[0m     \u001b[39mfor\u001b[39;00m ax \u001b[39min\u001b[39;00m \u001b[39mself\u001b[39m\u001b[39m.\u001b[39maxes:\n\u001b[1;32m   <a href='file:///opt/homebrew/Caskroom/miniforge/base/envs/NLP/lib/python3.8/site-packages/matplotlib/figure.py?line=3015'>3016</a>\u001b[0m         stack\u001b[39m.\u001b[39menter_context(\n\u001b[1;32m   <a href='file:///opt/homebrew/Caskroom/miniforge/base/envs/NLP/lib/python3.8/site-packages/matplotlib/figure.py?line=3016'>3017</a>\u001b[0m             ax\u001b[39m.\u001b[39mpatch\u001b[39m.\u001b[39m_cm_set(facecolor\u001b[39m=\u001b[39m\u001b[39m'\u001b[39m\u001b[39mnone\u001b[39m\u001b[39m'\u001b[39m, edgecolor\u001b[39m=\u001b[39m\u001b[39m'\u001b[39m\u001b[39mnone\u001b[39m\u001b[39m'\u001b[39m))\n\u001b[0;32m-> <a href='file:///opt/homebrew/Caskroom/miniforge/base/envs/NLP/lib/python3.8/site-packages/matplotlib/figure.py?line=3018'>3019</a>\u001b[0m \u001b[39mself\u001b[39;49m\u001b[39m.\u001b[39;49mcanvas\u001b[39m.\u001b[39;49mprint_figure(fname, \u001b[39m*\u001b[39;49m\u001b[39m*\u001b[39;49mkwargs)\n",
      "File \u001b[0;32m/opt/homebrew/Caskroom/miniforge/base/envs/NLP/lib/python3.8/site-packages/matplotlib/backend_bases.py:2319\u001b[0m, in \u001b[0;36mFigureCanvasBase.print_figure\u001b[0;34m(self, filename, dpi, facecolor, edgecolor, orientation, format, bbox_inches, pad_inches, bbox_extra_artists, backend, **kwargs)\u001b[0m\n\u001b[1;32m   <a href='file:///opt/homebrew/Caskroom/miniforge/base/envs/NLP/lib/python3.8/site-packages/matplotlib/backend_bases.py?line=2314'>2315</a>\u001b[0m \u001b[39mtry\u001b[39;00m:\n\u001b[1;32m   <a href='file:///opt/homebrew/Caskroom/miniforge/base/envs/NLP/lib/python3.8/site-packages/matplotlib/backend_bases.py?line=2315'>2316</a>\u001b[0m     \u001b[39m# _get_renderer may change the figure dpi (as vector formats\u001b[39;00m\n\u001b[1;32m   <a href='file:///opt/homebrew/Caskroom/miniforge/base/envs/NLP/lib/python3.8/site-packages/matplotlib/backend_bases.py?line=2316'>2317</a>\u001b[0m     \u001b[39m# force the figure dpi to 72), so we need to set it again here.\u001b[39;00m\n\u001b[1;32m   <a href='file:///opt/homebrew/Caskroom/miniforge/base/envs/NLP/lib/python3.8/site-packages/matplotlib/backend_bases.py?line=2317'>2318</a>\u001b[0m     \u001b[39mwith\u001b[39;00m cbook\u001b[39m.\u001b[39m_setattr_cm(\u001b[39mself\u001b[39m\u001b[39m.\u001b[39mfigure, dpi\u001b[39m=\u001b[39mdpi):\n\u001b[0;32m-> <a href='file:///opt/homebrew/Caskroom/miniforge/base/envs/NLP/lib/python3.8/site-packages/matplotlib/backend_bases.py?line=2318'>2319</a>\u001b[0m         result \u001b[39m=\u001b[39m print_method(\n\u001b[1;32m   <a href='file:///opt/homebrew/Caskroom/miniforge/base/envs/NLP/lib/python3.8/site-packages/matplotlib/backend_bases.py?line=2319'>2320</a>\u001b[0m             filename,\n\u001b[1;32m   <a href='file:///opt/homebrew/Caskroom/miniforge/base/envs/NLP/lib/python3.8/site-packages/matplotlib/backend_bases.py?line=2320'>2321</a>\u001b[0m             facecolor\u001b[39m=\u001b[39;49mfacecolor,\n\u001b[1;32m   <a href='file:///opt/homebrew/Caskroom/miniforge/base/envs/NLP/lib/python3.8/site-packages/matplotlib/backend_bases.py?line=2321'>2322</a>\u001b[0m             edgecolor\u001b[39m=\u001b[39;49medgecolor,\n\u001b[1;32m   <a href='file:///opt/homebrew/Caskroom/miniforge/base/envs/NLP/lib/python3.8/site-packages/matplotlib/backend_bases.py?line=2322'>2323</a>\u001b[0m             orientation\u001b[39m=\u001b[39;49morientation,\n\u001b[1;32m   <a href='file:///opt/homebrew/Caskroom/miniforge/base/envs/NLP/lib/python3.8/site-packages/matplotlib/backend_bases.py?line=2323'>2324</a>\u001b[0m             bbox_inches_restore\u001b[39m=\u001b[39;49m_bbox_inches_restore,\n\u001b[1;32m   <a href='file:///opt/homebrew/Caskroom/miniforge/base/envs/NLP/lib/python3.8/site-packages/matplotlib/backend_bases.py?line=2324'>2325</a>\u001b[0m             \u001b[39m*\u001b[39;49m\u001b[39m*\u001b[39;49mkwargs)\n\u001b[1;32m   <a href='file:///opt/homebrew/Caskroom/miniforge/base/envs/NLP/lib/python3.8/site-packages/matplotlib/backend_bases.py?line=2325'>2326</a>\u001b[0m \u001b[39mfinally\u001b[39;00m:\n\u001b[1;32m   <a href='file:///opt/homebrew/Caskroom/miniforge/base/envs/NLP/lib/python3.8/site-packages/matplotlib/backend_bases.py?line=2326'>2327</a>\u001b[0m     \u001b[39mif\u001b[39;00m bbox_inches \u001b[39mand\u001b[39;00m restore_bbox:\n",
      "File \u001b[0;32m/opt/homebrew/Caskroom/miniforge/base/envs/NLP/lib/python3.8/site-packages/matplotlib/backend_bases.py:1648\u001b[0m, in \u001b[0;36m_check_savefig_extra_args.<locals>.wrapper\u001b[0;34m(*args, **kwargs)\u001b[0m\n\u001b[1;32m   <a href='file:///opt/homebrew/Caskroom/miniforge/base/envs/NLP/lib/python3.8/site-packages/matplotlib/backend_bases.py?line=1639'>1640</a>\u001b[0m     _api\u001b[39m.\u001b[39mwarn_deprecated(\n\u001b[1;32m   <a href='file:///opt/homebrew/Caskroom/miniforge/base/envs/NLP/lib/python3.8/site-packages/matplotlib/backend_bases.py?line=1640'>1641</a>\u001b[0m         \u001b[39m'\u001b[39m\u001b[39m3.3\u001b[39m\u001b[39m'\u001b[39m, name\u001b[39m=\u001b[39mname, removal\u001b[39m=\u001b[39m\u001b[39m'\u001b[39m\u001b[39m3.6\u001b[39m\u001b[39m'\u001b[39m,\n\u001b[1;32m   <a href='file:///opt/homebrew/Caskroom/miniforge/base/envs/NLP/lib/python3.8/site-packages/matplotlib/backend_bases.py?line=1641'>1642</a>\u001b[0m         message\u001b[39m=\u001b[39m\u001b[39m'\u001b[39m\u001b[39m%(name)s\u001b[39;00m\u001b[39m() got unexpected keyword argument \u001b[39m\u001b[39m\"\u001b[39m\u001b[39m'\u001b[39m\n\u001b[1;32m   <a href='file:///opt/homebrew/Caskroom/miniforge/base/envs/NLP/lib/python3.8/site-packages/matplotlib/backend_bases.py?line=1642'>1643</a>\u001b[0m                 \u001b[39m+\u001b[39m arg \u001b[39m+\u001b[39m \u001b[39m'\u001b[39m\u001b[39m\"\u001b[39m\u001b[39m which is no longer supported as of \u001b[39m\u001b[39m'\u001b[39m\n\u001b[1;32m   <a href='file:///opt/homebrew/Caskroom/miniforge/base/envs/NLP/lib/python3.8/site-packages/matplotlib/backend_bases.py?line=1643'>1644</a>\u001b[0m                 \u001b[39m'\u001b[39m\u001b[39m%(since)s\u001b[39;00m\u001b[39m and will become an error \u001b[39m\u001b[39m'\u001b[39m\n\u001b[1;32m   <a href='file:///opt/homebrew/Caskroom/miniforge/base/envs/NLP/lib/python3.8/site-packages/matplotlib/backend_bases.py?line=1644'>1645</a>\u001b[0m                 \u001b[39m'\u001b[39m\u001b[39m%(removal)s\u001b[39;00m\u001b[39m'\u001b[39m)\n\u001b[1;32m   <a href='file:///opt/homebrew/Caskroom/miniforge/base/envs/NLP/lib/python3.8/site-packages/matplotlib/backend_bases.py?line=1645'>1646</a>\u001b[0m     kwargs\u001b[39m.\u001b[39mpop(arg)\n\u001b[0;32m-> <a href='file:///opt/homebrew/Caskroom/miniforge/base/envs/NLP/lib/python3.8/site-packages/matplotlib/backend_bases.py?line=1647'>1648</a>\u001b[0m \u001b[39mreturn\u001b[39;00m func(\u001b[39m*\u001b[39;49margs, \u001b[39m*\u001b[39;49m\u001b[39m*\u001b[39;49mkwargs)\n",
      "File \u001b[0;32m/opt/homebrew/Caskroom/miniforge/base/envs/NLP/lib/python3.8/site-packages/matplotlib/_api/deprecation.py:412\u001b[0m, in \u001b[0;36mdelete_parameter.<locals>.wrapper\u001b[0;34m(*inner_args, **inner_kwargs)\u001b[0m\n\u001b[1;32m    <a href='file:///opt/homebrew/Caskroom/miniforge/base/envs/NLP/lib/python3.8/site-packages/matplotlib/_api/deprecation.py?line=401'>402</a>\u001b[0m     deprecation_addendum \u001b[39m=\u001b[39m (\n\u001b[1;32m    <a href='file:///opt/homebrew/Caskroom/miniforge/base/envs/NLP/lib/python3.8/site-packages/matplotlib/_api/deprecation.py?line=402'>403</a>\u001b[0m         \u001b[39mf\u001b[39m\u001b[39m\"\u001b[39m\u001b[39mIf any parameter follows \u001b[39m\u001b[39m{\u001b[39;00mname\u001b[39m!r}\u001b[39;00m\u001b[39m, they should be passed as \u001b[39m\u001b[39m\"\u001b[39m\n\u001b[1;32m    <a href='file:///opt/homebrew/Caskroom/miniforge/base/envs/NLP/lib/python3.8/site-packages/matplotlib/_api/deprecation.py?line=403'>404</a>\u001b[0m         \u001b[39mf\u001b[39m\u001b[39m\"\u001b[39m\u001b[39mkeyword, not positionally.\u001b[39m\u001b[39m\"\u001b[39m)\n\u001b[1;32m    <a href='file:///opt/homebrew/Caskroom/miniforge/base/envs/NLP/lib/python3.8/site-packages/matplotlib/_api/deprecation.py?line=404'>405</a>\u001b[0m     warn_deprecated(\n\u001b[1;32m    <a href='file:///opt/homebrew/Caskroom/miniforge/base/envs/NLP/lib/python3.8/site-packages/matplotlib/_api/deprecation.py?line=405'>406</a>\u001b[0m         since,\n\u001b[1;32m    <a href='file:///opt/homebrew/Caskroom/miniforge/base/envs/NLP/lib/python3.8/site-packages/matplotlib/_api/deprecation.py?line=406'>407</a>\u001b[0m         name\u001b[39m=\u001b[39m\u001b[39mrepr\u001b[39m(name),\n\u001b[0;32m   (...)\u001b[0m\n\u001b[1;32m    <a href='file:///opt/homebrew/Caskroom/miniforge/base/envs/NLP/lib/python3.8/site-packages/matplotlib/_api/deprecation.py?line=409'>410</a>\u001b[0m                  \u001b[39melse\u001b[39;00m deprecation_addendum,\n\u001b[1;32m    <a href='file:///opt/homebrew/Caskroom/miniforge/base/envs/NLP/lib/python3.8/site-packages/matplotlib/_api/deprecation.py?line=410'>411</a>\u001b[0m         \u001b[39m*\u001b[39m\u001b[39m*\u001b[39mkwargs)\n\u001b[0;32m--> <a href='file:///opt/homebrew/Caskroom/miniforge/base/envs/NLP/lib/python3.8/site-packages/matplotlib/_api/deprecation.py?line=411'>412</a>\u001b[0m \u001b[39mreturn\u001b[39;00m func(\u001b[39m*\u001b[39;49minner_args, \u001b[39m*\u001b[39;49m\u001b[39m*\u001b[39;49minner_kwargs)\n",
      "File \u001b[0;32m/opt/homebrew/Caskroom/miniforge/base/envs/NLP/lib/python3.8/site-packages/matplotlib/backends/backend_agg.py:541\u001b[0m, in \u001b[0;36mFigureCanvasAgg.print_png\u001b[0;34m(self, filename_or_obj, metadata, pil_kwargs, *args)\u001b[0m\n\u001b[1;32m    <a href='file:///opt/homebrew/Caskroom/miniforge/base/envs/NLP/lib/python3.8/site-packages/matplotlib/backends/backend_agg.py?line=493'>494</a>\u001b[0m \u001b[39m\"\"\"\u001b[39;00m\n\u001b[1;32m    <a href='file:///opt/homebrew/Caskroom/miniforge/base/envs/NLP/lib/python3.8/site-packages/matplotlib/backends/backend_agg.py?line=494'>495</a>\u001b[0m \u001b[39mWrite the figure to a PNG file.\u001b[39;00m\n\u001b[1;32m    <a href='file:///opt/homebrew/Caskroom/miniforge/base/envs/NLP/lib/python3.8/site-packages/matplotlib/backends/backend_agg.py?line=495'>496</a>\u001b[0m \n\u001b[0;32m   (...)\u001b[0m\n\u001b[1;32m    <a href='file:///opt/homebrew/Caskroom/miniforge/base/envs/NLP/lib/python3.8/site-packages/matplotlib/backends/backend_agg.py?line=537'>538</a>\u001b[0m \u001b[39m    *metadata*, including the default 'Software' key.\u001b[39;00m\n\u001b[1;32m    <a href='file:///opt/homebrew/Caskroom/miniforge/base/envs/NLP/lib/python3.8/site-packages/matplotlib/backends/backend_agg.py?line=538'>539</a>\u001b[0m \u001b[39m\"\"\"\u001b[39;00m\n\u001b[1;32m    <a href='file:///opt/homebrew/Caskroom/miniforge/base/envs/NLP/lib/python3.8/site-packages/matplotlib/backends/backend_agg.py?line=539'>540</a>\u001b[0m FigureCanvasAgg\u001b[39m.\u001b[39mdraw(\u001b[39mself\u001b[39m)\n\u001b[0;32m--> <a href='file:///opt/homebrew/Caskroom/miniforge/base/envs/NLP/lib/python3.8/site-packages/matplotlib/backends/backend_agg.py?line=540'>541</a>\u001b[0m mpl\u001b[39m.\u001b[39;49mimage\u001b[39m.\u001b[39;49mimsave(\n\u001b[1;32m    <a href='file:///opt/homebrew/Caskroom/miniforge/base/envs/NLP/lib/python3.8/site-packages/matplotlib/backends/backend_agg.py?line=541'>542</a>\u001b[0m     filename_or_obj, \u001b[39mself\u001b[39;49m\u001b[39m.\u001b[39;49mbuffer_rgba(), \u001b[39mformat\u001b[39;49m\u001b[39m=\u001b[39;49m\u001b[39m\"\u001b[39;49m\u001b[39mpng\u001b[39;49m\u001b[39m\"\u001b[39;49m, origin\u001b[39m=\u001b[39;49m\u001b[39m\"\u001b[39;49m\u001b[39mupper\u001b[39;49m\u001b[39m\"\u001b[39;49m,\n\u001b[1;32m    <a href='file:///opt/homebrew/Caskroom/miniforge/base/envs/NLP/lib/python3.8/site-packages/matplotlib/backends/backend_agg.py?line=542'>543</a>\u001b[0m     dpi\u001b[39m=\u001b[39;49m\u001b[39mself\u001b[39;49m\u001b[39m.\u001b[39;49mfigure\u001b[39m.\u001b[39;49mdpi, metadata\u001b[39m=\u001b[39;49mmetadata, pil_kwargs\u001b[39m=\u001b[39;49mpil_kwargs)\n",
      "File \u001b[0;32m/opt/homebrew/Caskroom/miniforge/base/envs/NLP/lib/python3.8/site-packages/matplotlib/image.py:1675\u001b[0m, in \u001b[0;36mimsave\u001b[0;34m(fname, arr, vmin, vmax, cmap, format, origin, dpi, metadata, pil_kwargs)\u001b[0m\n\u001b[1;32m   <a href='file:///opt/homebrew/Caskroom/miniforge/base/envs/NLP/lib/python3.8/site-packages/matplotlib/image.py?line=1672'>1673</a>\u001b[0m pil_kwargs\u001b[39m.\u001b[39msetdefault(\u001b[39m\"\u001b[39m\u001b[39mformat\u001b[39m\u001b[39m\"\u001b[39m, \u001b[39mformat\u001b[39m)\n\u001b[1;32m   <a href='file:///opt/homebrew/Caskroom/miniforge/base/envs/NLP/lib/python3.8/site-packages/matplotlib/image.py?line=1673'>1674</a>\u001b[0m pil_kwargs\u001b[39m.\u001b[39msetdefault(\u001b[39m\"\u001b[39m\u001b[39mdpi\u001b[39m\u001b[39m\"\u001b[39m, (dpi, dpi))\n\u001b[0;32m-> <a href='file:///opt/homebrew/Caskroom/miniforge/base/envs/NLP/lib/python3.8/site-packages/matplotlib/image.py?line=1674'>1675</a>\u001b[0m image\u001b[39m.\u001b[39;49msave(fname, \u001b[39m*\u001b[39;49m\u001b[39m*\u001b[39;49mpil_kwargs)\n",
      "File \u001b[0;32m/opt/homebrew/Caskroom/miniforge/base/envs/NLP/lib/python3.8/site-packages/PIL/Image.py:2209\u001b[0m, in \u001b[0;36mImage.save\u001b[0;34m(self, fp, format, **params)\u001b[0m\n\u001b[1;32m   <a href='file:///opt/homebrew/Caskroom/miniforge/base/envs/NLP/lib/python3.8/site-packages/PIL/Image.py?line=2206'>2207</a>\u001b[0m         fp \u001b[39m=\u001b[39m builtins\u001b[39m.\u001b[39mopen(filename, \u001b[39m\"\u001b[39m\u001b[39mr+b\u001b[39m\u001b[39m\"\u001b[39m)\n\u001b[1;32m   <a href='file:///opt/homebrew/Caskroom/miniforge/base/envs/NLP/lib/python3.8/site-packages/PIL/Image.py?line=2207'>2208</a>\u001b[0m     \u001b[39melse\u001b[39;00m:\n\u001b[0;32m-> <a href='file:///opt/homebrew/Caskroom/miniforge/base/envs/NLP/lib/python3.8/site-packages/PIL/Image.py?line=2208'>2209</a>\u001b[0m         fp \u001b[39m=\u001b[39m builtins\u001b[39m.\u001b[39;49mopen(filename, \u001b[39m\"\u001b[39;49m\u001b[39mw+b\u001b[39;49m\u001b[39m\"\u001b[39;49m)\n\u001b[1;32m   <a href='file:///opt/homebrew/Caskroom/miniforge/base/envs/NLP/lib/python3.8/site-packages/PIL/Image.py?line=2210'>2211</a>\u001b[0m \u001b[39mtry\u001b[39;00m:\n\u001b[1;32m   <a href='file:///opt/homebrew/Caskroom/miniforge/base/envs/NLP/lib/python3.8/site-packages/PIL/Image.py?line=2211'>2212</a>\u001b[0m     save_handler(\u001b[39mself\u001b[39m, fp, filename)\n",
      "\u001b[0;31mFileNotFoundError\u001b[0m: [Errno 2] No such file or directory: './plot_img/LSTM_loss_1112.png'"
     ]
    },
    {
     "data": {
      "image/png": "[encoded data removed]",
      "text/plain": [
       "<Figure size 432x288 with 1 Axes>"
      ]
     },
     "metadata": {
      "needs_background": "light"
     },
     "output_type": "display_data"
    }
   ],
   "source": [
    "y_vloss = history.history['val_loss']\n",
    "y_loss = history.history['loss']\n",
    "\n",
    "x_len = np.arange(len(y_loss))\n",
    "\n",
    "plt.plot(x_len, y_vloss, marker='.', c='red', label='val_set_loss')\n",
    "plt.plot(x_len, y_loss, marker='.', c='blue', label='train_set_loss')\n",
    "plt.legend()\n",
    "plt.xlabel('epochs')\n",
    "plt.ylabel('loss')\n",
    "plt.grid()\n",
    "plt.savefig('LSTM_loss_1112.png')"
   ]
  },
  {
   "cell_type": "code",
   "execution_count": null,
   "metadata": {},
   "outputs": [
    {
     "data": {
      "image/png": "[encoded data removed]",
      "text/plain": [
       "<Figure size 432x288 with 1 Axes>"
      ]
     },
     "metadata": {
      "needs_background": "light"
     },
     "output_type": "display_data"
    }
   ],
   "source": [
    "y_vloss = history.history['val_acc']\n",
    "y_loss = history.history['acc']\n",
    "\n",
    "x_len = np.arange(len(y_loss))\n",
    "\n",
    "plt.plot(x_len, y_vloss, marker='.', c='red', label='val_set_accuracy')\n",
    "plt.plot(x_len, y_loss, marker='.', c='blue', label='train_set_accuracy')\n",
    "plt.legend()\n",
    "plt.xlabel('epochs')\n",
    "plt.ylabel('loss')\n",
    "plt.grid()\n",
    "plt.savefig('./plot_img/LSTM_acc_1112.png')"
   ]
  },
  {
   "cell_type": "markdown",
   "metadata": {},
   "source": [
    "# 리뷰 예측"
   ]
  },
  {
   "cell_type": "code",
   "execution_count": null,
   "metadata": {},
   "outputs": [],
   "source": [
    "def sentiment_predict(new_sentence):\n",
    "    new_sentence = re.sub(r'[^ㄱ-ㅎㅏ-ㅣ가-힣 ]','', new_sentence)\n",
    "    new_sentence = okt.morphs(new_sentence, stem=True) # 토큰화\n",
    "    new_sentence = [word for word in new_sentence if not word in stopwords] # 불용어 제거\n",
    "    encoded = tokenizer.texts_to_sequences([new_sentence]) # 정수 인코딩\n",
    "    pad_new = pad_sequences(encoded, maxlen = max_len) # 패딩\n",
    "    score = float(model.predict(pad_new)) # 예측\n",
    "    if(score > 0.5):\n",
    "        print(\"{:.2f}% 확률로 긍정 리뷰입니다.\\n\".format(score * 100))\n",
    "    else:\n",
    "        print(\"{:.2f}% 확률로 부정 리뷰입니다.\\n\".format((1 - score) * 100))"
   ]
  },
  {
   "cell_type": "code",
   "execution_count": null,
   "metadata": {},
   "outputs": [
    {
     "name": "stdout",
     "output_type": "stream",
     "text": [
      "97.87% 확률로 긍정 리뷰입니다.\n",
      "\n"
     ]
    }
   ],
   "source": [
    "sentiment_predict(\"정말 재미있어요\")"
   ]
  },
  {
   "cell_type": "code",
   "execution_count": null,
   "metadata": {},
   "outputs": [
    {
     "name": "stdout",
     "output_type": "stream",
     "text": [
      "99.54% 확률로 부정 리뷰입니다.\n",
      "\n"
     ]
    }
   ],
   "source": [
    "sentiment_predict('쓰레기 같은 영화...')"
   ]
  },
  {
   "cell_type": "markdown",
   "metadata": {},
   "source": [
    "참고: https://wikidocs.net/44249"
   ]
  },
  {
   "cell_type": "markdown",
   "metadata": {},
   "source": [
    "### 영화평론가 리뷰"
   ]
  },
  {
   "cell_type": "code",
   "execution_count": null,
   "metadata": {},
   "outputs": [
    {
     "name": "stdout",
     "output_type": "stream",
     "text": [
      "53.25% 확률로 부정 리뷰입니다.\n",
      "\n"
     ]
    }
   ],
   "source": [
    "# 영화 <이터널스> 배동미 평론가, 평점 7점\n",
    "sentiment_predict('올림피아는 없다. 창배하고 푸른 점뿐')"
   ]
  },
  {
   "cell_type": "code",
   "execution_count": null,
   "metadata": {},
   "outputs": [
    {
     "name": "stdout",
     "output_type": "stream",
     "text": [
      "91.95% 확률로 부정 리뷰입니다.\n",
      "\n"
     ]
    }
   ],
   "source": [
    "# 영화 <이터널스> 이용철 평론가, 평점 6점\n",
    "sentiment_predict('사랑의 반역자들이라 환영하긴 한다만, 만족스럽지는 않다')"
   ]
  },
  {
   "cell_type": "code",
   "execution_count": null,
   "metadata": {},
   "outputs": [
    {
     "name": "stdout",
     "output_type": "stream",
     "text": [
      "99.47% 확률로 긍정 리뷰입니다.\n",
      "\n"
     ]
    }
   ],
   "source": [
    "# 영화 <듄> 이용철 평론가, 평점 8점\n",
    "sentiment_predict('아이맥스의 성과는 <그래비티> 이후 최고다, 린치의 <듄>은 이제 잊어도 되겠다')"
   ]
  },
  {
   "cell_type": "code",
   "execution_count": null,
   "metadata": {},
   "outputs": [
    {
     "name": "stdout",
     "output_type": "stream",
     "text": [
      "99.50% 확률로 긍정 리뷰입니다.\n",
      "\n"
     ]
    }
   ],
   "source": [
    "# 영화 <듄> 심규한 평론가, 평점 8점\n",
    "sentiment_predict('아름답고 경이롭다. 시네마란 이런 것이라고 증명하듯 드니 빌뇌브가 펼쳐낸 이미지의 세계는 관객의 눈과 귀를 완전하게 지배한다. 방대한 원작의 내용을 빼곡하게 채우는 대신 의도적으로 보일 만큼 느슨하게 흘러가는 이야기의 밀도는 탁월한 선택이 됐다. 과감한 클로즈업으로 확보된 인물의 감정, 상상의 영역을 현실의 지점으로 끌어온 듯한 정교한 스펙터클은 내러티브 이상의 충분한 몰입을 선사한다.')"
   ]
  },
  {
   "cell_type": "code",
   "execution_count": null,
   "metadata": {},
   "outputs": [
    {
     "name": "stdout",
     "output_type": "stream",
     "text": [
      "88.04% 확률로 부정 리뷰입니다.\n",
      "\n"
     ]
    }
   ],
   "source": [
    "# 영화 <베놈 2: 렛 데어 비 카니지> 정시우 평론가, 평점 5점 \n",
    "sentiment_predict('다소 우울한 평가를 받은 <베놈>의 속편이 나온다길래, 소니가 절치부심하고 판을 새롭게 뒤집나 했더니, 에라이……. 1편의 단점을 계승한 가운데, B급 코드와 러브스토리를 조금 더 뿌렸을 뿐 발전적 면모는 쉽게 발견되지 않는다. B급 유머와 유치함은 염연히 다른데, 유치함을 B급이라 우기는 듯한 순간도 여럿 포착되는 게 흠. 어쩌려고 베놈 캐릭터를 더 귀엽게(?) 승화시켰는지 의문인데, 쿠키만큼은 참 잘 구웠다.')"
   ]
  },
  {
   "cell_type": "code",
   "execution_count": null,
   "metadata": {},
   "outputs": [
    {
     "name": "stdout",
     "output_type": "stream",
     "text": [
      "99.53% 확률로 부정 리뷰입니다.\n",
      "\n"
     ]
    }
   ],
   "source": [
    "# 영화 베놈 2: 렛 데어 비 카니지> 박평식 평론가, 평점 4점\n",
    "sentiment_predict('좋은 건 쿠키영상, 더 좋은 건 러닝타임')"
   ]
  },
  {
   "cell_type": "markdown",
   "metadata": {},
   "source": [
    "# 네이버 영화 리뷰 크롤링 데이터 가져오기"
   ]
  },
  {
   "cell_type": "code",
   "execution_count": null,
   "metadata": {},
   "outputs": [
    {
     "data": {
      "text/html": [
       "<div>\n",
       "<style scoped>\n",
       "    .dataframe tbody tr th:only-of-type {\n",
       "        vertical-align: middle;\n",
       "    }\n",
       "\n",
       "    .dataframe tbody tr th {\n",
       "        vertical-align: top;\n",
       "    }\n",
       "\n",
       "    .dataframe thead th {\n",
       "        text-align: right;\n",
       "    }\n",
       "</style>\n",
       "<table border=\"1\" class=\"dataframe\">\n",
       "  <thead>\n",
       "    <tr style=\"text-align: right;\">\n",
       "      <th></th>\n",
       "      <th>title</th>\n",
       "      <th>link</th>\n",
       "      <th>score</th>\n",
       "      <th>review</th>\n",
       "    </tr>\n",
       "  </thead>\n",
       "  <tbody>\n",
       "    <tr>\n",
       "      <th>0</th>\n",
       "      <td>19곰 테드</td>\n",
       "      <td>https://movie.naver.com/movie/bi/mi/pointWrite...</td>\n",
       "      <td>10</td>\n",
       "      <td>아 정말ㅋㅋㅋㅋㅋ 이런 유머 너무 좋아요</td>\n",
       "    </tr>\n",
       "    <tr>\n",
       "      <th>1</th>\n",
       "      <td>19곰 테드</td>\n",
       "      <td>https://movie.naver.com/movie/bi/mi/pointWrite...</td>\n",
       "      <td>10</td>\n",
       "      <td>죤나게재밌다.어린시절의 순수함을 가지고 성인이 ㅤㄷㅙㄴ사람이라면 무조건 추천</td>\n",
       "    </tr>\n",
       "    <tr>\n",
       "      <th>2</th>\n",
       "      <td>19곰 테드</td>\n",
       "      <td>https://movie.naver.com/movie/bi/mi/pointWrite...</td>\n",
       "      <td>10</td>\n",
       "      <td>진짜웃김ㅋㅋㅋ곰인형이 주인공이랑 싸울때 바지벗기고 회초리로 엉덩이 때리는부분 짱 웃...</td>\n",
       "    </tr>\n",
       "    <tr>\n",
       "      <th>3</th>\n",
       "      <td>19곰 테드</td>\n",
       "      <td>https://movie.naver.com/movie/bi/mi/pointWrite...</td>\n",
       "      <td>10</td>\n",
       "      <td>인간과 봉제곰의 격렬한 액션씬이 가장 인상에 남는 작품.</td>\n",
       "    </tr>\n",
       "    <tr>\n",
       "      <th>4</th>\n",
       "      <td>19곰 테드</td>\n",
       "      <td>https://movie.naver.com/movie/bi/mi/pointWrite...</td>\n",
       "      <td>10</td>\n",
       "      <td>진짜ㅋㅋㅋㅋ굿</td>\n",
       "    </tr>\n",
       "  </tbody>\n",
       "</table>\n",
       "</div>"
      ],
      "text/plain": [
       "    title                                               link  score  \\\n",
       "0  19곰 테드  https://movie.naver.com/movie/bi/mi/pointWrite...     10   \n",
       "1  19곰 테드  https://movie.naver.com/movie/bi/mi/pointWrite...     10   \n",
       "2  19곰 테드  https://movie.naver.com/movie/bi/mi/pointWrite...     10   \n",
       "3  19곰 테드  https://movie.naver.com/movie/bi/mi/pointWrite...     10   \n",
       "4  19곰 테드  https://movie.naver.com/movie/bi/mi/pointWrite...     10   \n",
       "\n",
       "                                              review  \n",
       "0                             아 정말ㅋㅋㅋㅋㅋ 이런 유머 너무 좋아요  \n",
       "1         죤나게재밌다.어린시절의 순수함을 가지고 성인이 ㅤㄷㅙㄴ사람이라면 무조건 추천  \n",
       "2  진짜웃김ㅋㅋㅋ곰인형이 주인공이랑 싸울때 바지벗기고 회초리로 엉덩이 때리는부분 짱 웃...  \n",
       "3                    인간과 봉제곰의 격렬한 액션씬이 가장 인상에 남는 작품.  \n",
       "4                                            진짜ㅋㅋㅋㅋ굿  "
      ]
     },
     "execution_count": 394,
     "metadata": {},
     "output_type": "execute_result"
    }
   ],
   "source": [
    "movie = pd.read_csv('./movie/comedy/naver_movie_review_1111_Ted.csv')\n",
    "movie.head()"
   ]
  },
  {
   "cell_type": "code",
   "execution_count": null,
   "metadata": {},
   "outputs": [
    {
     "name": "stdout",
     "output_type": "stream",
     "text": [
      "<class 'pandas.core.frame.DataFrame'>\n",
      "RangeIndex: 1630 entries, 0 to 1629\n",
      "Data columns (total 4 columns):\n",
      " #   Column  Non-Null Count  Dtype \n",
      "---  ------  --------------  ----- \n",
      " 0   title   1630 non-null   object\n",
      " 1   link    1630 non-null   object\n",
      " 2   score   1630 non-null   int64 \n",
      " 3   review  1628 non-null   object\n",
      "dtypes: int64(1), object(3)\n",
      "memory usage: 51.1+ KB\n"
     ]
    }
   ],
   "source": [
    "movie.info()"
   ]
  },
  {
   "cell_type": "markdown",
   "metadata": {},
   "source": [
    "## null 데이터 제거"
   ]
  },
  {
   "cell_type": "code",
   "execution_count": null,
   "metadata": {},
   "outputs": [
    {
     "data": {
      "text/plain": [
       "True"
      ]
     },
     "execution_count": 396,
     "metadata": {},
     "output_type": "execute_result"
    }
   ],
   "source": [
    "movie.isnull().values.any()"
   ]
  },
  {
   "cell_type": "code",
   "execution_count": null,
   "metadata": {},
   "outputs": [
    {
     "data": {
      "text/plain": [
       "False"
      ]
     },
     "execution_count": 397,
     "metadata": {},
     "output_type": "execute_result"
    }
   ],
   "source": [
    "movie = movie.dropna(how = 'any')\n",
    "movie.isnull().values.any()"
   ]
  },
  {
   "cell_type": "code",
   "execution_count": null,
   "metadata": {},
   "outputs": [
    {
     "data": {
      "text/plain": [
       "1628"
      ]
     },
     "execution_count": 398,
     "metadata": {},
     "output_type": "execute_result"
    }
   ],
   "source": [
    "len(movie)"
   ]
  },
  {
   "cell_type": "markdown",
   "metadata": {},
   "source": [
    "## 특수문자 제거"
   ]
  },
  {
   "cell_type": "code",
   "execution_count": null,
   "metadata": {},
   "outputs": [
    {
     "data": {
      "text/html": [
       "<div>\n",
       "<style scoped>\n",
       "    .dataframe tbody tr th:only-of-type {\n",
       "        vertical-align: middle;\n",
       "    }\n",
       "\n",
       "    .dataframe tbody tr th {\n",
       "        vertical-align: top;\n",
       "    }\n",
       "\n",
       "    .dataframe thead th {\n",
       "        text-align: right;\n",
       "    }\n",
       "</style>\n",
       "<table border=\"1\" class=\"dataframe\">\n",
       "  <thead>\n",
       "    <tr style=\"text-align: right;\">\n",
       "      <th></th>\n",
       "      <th>title</th>\n",
       "      <th>link</th>\n",
       "      <th>score</th>\n",
       "      <th>review</th>\n",
       "    </tr>\n",
       "  </thead>\n",
       "  <tbody>\n",
       "    <tr>\n",
       "      <th>0</th>\n",
       "      <td>19곰 테드</td>\n",
       "      <td>https://movie.naver.com/movie/bi/mi/pointWrite...</td>\n",
       "      <td>10</td>\n",
       "      <td>아 정말ㅋㅋㅋㅋㅋ 이런 유머 너무 좋아요</td>\n",
       "    </tr>\n",
       "    <tr>\n",
       "      <th>1</th>\n",
       "      <td>19곰 테드</td>\n",
       "      <td>https://movie.naver.com/movie/bi/mi/pointWrite...</td>\n",
       "      <td>10</td>\n",
       "      <td>죤나게재밌다어린시절의 순수함을 가지고 성인이 ㄷㅙㄴ사람이라면 무조건 추천</td>\n",
       "    </tr>\n",
       "    <tr>\n",
       "      <th>2</th>\n",
       "      <td>19곰 테드</td>\n",
       "      <td>https://movie.naver.com/movie/bi/mi/pointWrite...</td>\n",
       "      <td>10</td>\n",
       "      <td>진짜웃김ㅋㅋㅋ곰인형이 주인공이랑 싸울때 바지벗기고 회초리로 엉덩이 때리는부분 짱 웃...</td>\n",
       "    </tr>\n",
       "    <tr>\n",
       "      <th>3</th>\n",
       "      <td>19곰 테드</td>\n",
       "      <td>https://movie.naver.com/movie/bi/mi/pointWrite...</td>\n",
       "      <td>10</td>\n",
       "      <td>인간과 봉제곰의 격렬한 액션씬이 가장 인상에 남는 작품</td>\n",
       "    </tr>\n",
       "    <tr>\n",
       "      <th>4</th>\n",
       "      <td>19곰 테드</td>\n",
       "      <td>https://movie.naver.com/movie/bi/mi/pointWrite...</td>\n",
       "      <td>10</td>\n",
       "      <td>진짜ㅋㅋㅋㅋ굿</td>\n",
       "    </tr>\n",
       "  </tbody>\n",
       "</table>\n",
       "</div>"
      ],
      "text/plain": [
       "    title                                               link  score  \\\n",
       "0  19곰 테드  https://movie.naver.com/movie/bi/mi/pointWrite...     10   \n",
       "1  19곰 테드  https://movie.naver.com/movie/bi/mi/pointWrite...     10   \n",
       "2  19곰 테드  https://movie.naver.com/movie/bi/mi/pointWrite...     10   \n",
       "3  19곰 테드  https://movie.naver.com/movie/bi/mi/pointWrite...     10   \n",
       "4  19곰 테드  https://movie.naver.com/movie/bi/mi/pointWrite...     10   \n",
       "\n",
       "                                              review  \n",
       "0                             아 정말ㅋㅋㅋㅋㅋ 이런 유머 너무 좋아요  \n",
       "1           죤나게재밌다어린시절의 순수함을 가지고 성인이 ㄷㅙㄴ사람이라면 무조건 추천  \n",
       "2  진짜웃김ㅋㅋㅋ곰인형이 주인공이랑 싸울때 바지벗기고 회초리로 엉덩이 때리는부분 짱 웃...  \n",
       "3                     인간과 봉제곰의 격렬한 액션씬이 가장 인상에 남는 작품  \n",
       "4                                            진짜ㅋㅋㅋㅋ굿  "
      ]
     },
     "execution_count": 399,
     "metadata": {},
     "output_type": "execute_result"
    }
   ],
   "source": [
    "movie['review'] = movie['review'].str.replace(\"[^ㄱ-ㅎㅏ-ㅣ가-힣 ]\",\"\")\n",
    "movie.head()"
   ]
  },
  {
   "cell_type": "code",
   "execution_count": null,
   "metadata": {},
   "outputs": [
    {
     "name": "stdout",
     "output_type": "stream",
     "text": [
      "title     0\n",
      "link      0\n",
      "score     0\n",
      "review    9\n",
      "dtype: int64\n"
     ]
    }
   ],
   "source": [
    "# 리뷰 데이터기 비었다면 null로 변경\n",
    "movie['review'] = movie['review'].str.replace('^ +', \"\")\n",
    "movie['review'].replace('', np.nan, inplace=True)\n",
    "print(movie.isnull().sum())"
   ]
  },
  {
   "cell_type": "code",
   "execution_count": null,
   "metadata": {},
   "outputs": [
    {
     "data": {
      "text/plain": [
       "1619"
      ]
     },
     "execution_count": 401,
     "metadata": {},
     "output_type": "execute_result"
    }
   ],
   "source": [
    "# null데이터 제거\n",
    "movie = movie.dropna(how = 'any')\n",
    "len(movie)"
   ]
  },
  {
   "cell_type": "markdown",
   "metadata": {},
   "source": [
    "## 해당 리뷰가 긍정일 확률 구하기"
   ]
  },
  {
   "cell_type": "code",
   "execution_count": null,
   "metadata": {},
   "outputs": [],
   "source": [
    "predicted = []\n",
    "\n",
    "def sentiment_pred(new_sentence):\n",
    "    new_sentence = okt.morphs(new_sentence, stem=True) # 토큰화\n",
    "    new_sentence = [word for word in new_sentence if not word in stopwords] # 불용어 제거\n",
    "    encoded = tokenizer.texts_to_sequences([new_sentence]) # 정수 인코딩\n",
    "    pad_new = pad_sequences(encoded, maxlen = max_len) # 패딩\n",
    "    score = float(model.predict(pad_new)) # 예측\n",
    "    predicted.append(round(score, 5))"
   ]
  },
  {
   "cell_type": "code",
   "execution_count": null,
   "metadata": {},
   "outputs": [],
   "source": [
    "for a in movie['review']:\n",
    "    sentiment_pred(a)"
   ]
  },
  {
   "cell_type": "code",
   "execution_count": null,
   "metadata": {
    "scrolled": true
   },
   "outputs": [
    {
     "name": "stdout",
     "output_type": "stream",
     "text": [
      "[0.99508, 0.99257, 0.98767, 0.99632, 0.99201, 0.35568, 0.9971, 0.9213, 0.91364, 0.9917, 0.99633, 0.9909, 0.31279, 0.99148, 0.93718, 0.98947, 0.61357, 0.88511, 0.96334, 0.9686, 0.17205, 0.21154, 0.7805, 0.97586, 0.82428, 0.91134, 0.00132, 0.70736, 0.00093, 0.33908, 0.99783, 0.84197, 0.1051, 0.06024, 0.88243, 0.96025, 0.54992, 0.30215, 0.65163, 0.83402, 0.97283, 0.70308, 0.89605, 0.99871, 0.93691, 0.17052, 0.99909, 0.95773, 0.9741, 0.94075, 0.01688, 0.99444, 0.97404, 0.96205, 0.91875, 0.9123, 0.98797, 0.12579, 0.88996, 0.68266, 0.97281, 0.99324, 0.00563, 0.05508, 0.99513, 0.04626, 0.99687, 0.83571, 0.98669, 0.92678, 0.85218, 0.36276, 0.56653, 0.61746, 0.18691, 0.97681, 0.0298, 0.99648, 0.84462, 0.77524, 0.99629, 0.99778, 0.20225, 0.114, 0.81335, 0.98352, 0.32173, 0.9966, 0.17571, 0.98161, 0.25389, 0.99704, 0.40546, 0.99399, 0.07812, 0.00881, 0.3987, 0.00581, 0.63793, 0.00043, 0.05044, 0.99149, 0.97565, 0.53173, 0.15194, 0.97233, 0.99249, 0.00598, 0.29543, 0.0201, 0.74195, 0.73297, 0.00168, 0.83884, 0.00508, 0.95974, 0.97396, 0.01389, 0.00716, 0.00212, 0.00027, 0.00148, 0.00297, 0.27864, 0.00914, 0.0031, 0.76986, 0.91126, 0.92844, 0.8362, 0.43047, 0.88643, 0.95743, 0.02401, 0.41227, 0.18823, 0.59542, 0.0198, 0.99338, 0.96572, 0.77364, 0.06175, 0.71897, 0.91775, 0.94054, 0.50713, 0.09716, 0.96069, 0.11343, 0.65041, 0.03026, 0.76508, 0.96807, 0.48593, 0.99526, 0.4369, 0.99866, 0.98059, 0.89259, 0.96568, 0.30458, 0.2283, 0.87275, 0.04458, 0.69639, 0.1504, 0.99207, 0.10831, 0.97332, 0.80093, 0.89732, 0.85347, 0.11208, 0.1311, 0.61853, 0.49435, 0.0696, 0.0848, 0.01518, 0.66196, 0.01076, 0.27665, 0.37385, 0.97586, 0.87925, 0.05964, 0.5301, 0.82957, 0.97704, 0.96106, 0.95645, 0.86377, 0.40546, 0.08263, 0.83208, 0.99466, 0.93552, 0.50032, 0.14603, 0.99035, 0.81991, 0.97297, 0.92932, 0.99424, 0.46836, 0.00102, 0.85666, 0.82409, 0.06745, 0.92665, 0.85384, 0.99641, 0.93496, 0.99854, 0.99169, 0.94849, 0.52038, 0.90838, 0.24452, 0.58596, 0.91422, 0.99154, 0.12208, 0.99149, 0.63266, 0.99613, 0.86685, 0.02672, 0.556, 0.9607, 0.97139, 0.0893, 0.7781, 0.651, 0.973, 0.89309, 0.18314, 0.50577, 0.7507, 0.53432, 0.34182, 0.92505, 0.67166, 0.95401, 0.05913, 0.42693, 0.98969, 0.97323, 0.93865, 0.52375, 0.33098, 0.58656, 0.10017, 0.03785, 0.62237, 0.35472, 0.97192, 0.99836, 0.44053, 0.03863, 0.0593, 0.85589, 0.03547, 0.59798, 0.00349, 0.38133, 0.75154, 0.98827, 0.90058, 0.08425, 0.96255, 0.67267, 0.00847, 0.97369, 0.03159, 0.22932, 0.15877, 0.00542, 0.86993, 0.98078, 0.83786, 0.04895, 0.13705, 0.94514, 0.82264, 0.33001, 0.85204, 0.69434, 0.89397, 0.92591, 0.99797, 0.99502, 0.98658, 0.99459, 0.25469, 0.99865, 0.21848, 0.05439, 0.11436, 0.13193, 0.00319, 0.19961, 0.03698, 0.97135, 0.42922, 0.8523, 0.01312, 0.47859, 0.91055, 0.96643, 0.47798, 0.02835, 0.04454, 0.95661, 0.48134, 0.47579, 0.04174, 0.34384, 0.84734, 0.00026, 0.92741, 0.14499, 0.02694, 0.69686, 0.26346, 0.72221, 0.00312, 0.99301, 0.99713, 0.98529, 0.88434, 0.96554, 0.98675, 0.98257, 0.98738, 0.98589, 0.05232, 0.90617, 0.99698, 0.98953, 0.07198, 0.9974, 0.66695, 0.51597, 0.31196, 0.16849, 0.97192, 0.57497, 0.99435, 0.80836, 0.99678, 0.99754, 0.28303, 0.50012, 0.58836, 0.85387, 0.00694, 0.78815, 0.88676, 0.99197, 0.94937, 0.96176, 0.48286, 0.96861, 0.40751, 0.54507, 0.46411, 0.98906, 0.70666, 0.27512, 0.96931, 0.74928, 0.87944, 0.99003, 0.92021, 0.96969, 0.68492, 0.91356, 0.98873, 0.01752, 0.17229, 0.00634, 0.80433, 0.77193, 0.72885, 0.40883, 0.15741, 0.99388, 0.98317, 0.01345, 0.22354, 0.99751, 0.96422, 0.92243, 0.98132, 0.97307, 0.30362, 0.98573, 0.94234, 0.97476, 0.99808, 0.87173, 0.62223, 0.9661, 0.97439, 0.24269, 0.95388, 0.50916, 0.9136, 0.07422, 0.95457, 0.98938, 0.3417, 0.72896, 0.2421, 0.99721, 0.95773, 0.01664, 0.64823, 0.58311, 0.54852, 0.93533, 0.98116, 0.29077, 0.99291, 0.61731, 0.67607, 0.78501, 0.79642, 0.87576, 0.06001, 0.96621, 0.41526, 0.99001, 0.61373, 0.97976, 0.95338, 0.1378, 0.97726, 0.46852, 0.59608, 0.01373, 0.57358, 0.96113, 0.9936, 0.97672, 0.0985, 0.6997, 0.9689, 0.02564, 0.36369, 0.96527, 0.87845, 0.99807, 0.83032, 0.88814, 0.44178, 0.98608, 0.99268, 0.94268, 0.98114, 0.98245, 0.98414, 0.99131, 0.93852, 0.15943, 0.96487, 0.00812, 0.0035, 0.4571, 0.95773, 0.96266, 0.95963, 0.97867, 0.95046, 0.95773, 0.01872, 0.99627, 0.15028, 0.9139, 0.99698, 0.99592, 0.10292, 0.97029, 0.99525, 0.91085, 0.45411, 0.33337, 0.70015, 0.01763, 0.95438, 0.99734, 0.98343, 0.97198, 0.9832, 0.94957, 0.58131, 0.86799, 0.59809, 0.94981, 0.93623, 0.971, 0.99575, 0.97029, 0.98176, 0.94505, 0.99614, 0.98152, 0.9973, 0.42658, 0.69405, 0.99082, 0.94394, 0.99796, 0.99953, 0.35234, 0.81105, 0.99694, 0.04494, 0.98797, 0.96506, 0.99231, 0.92453, 0.89531, 0.72707, 0.15037, 0.29783, 0.99064, 0.94623, 0.98379, 0.83711, 0.93396, 0.93991, 0.98119, 0.97307, 0.98719, 0.98519, 0.99261, 0.29852, 0.99067, 0.56983, 0.99506, 0.97645, 0.02562, 0.00184, 0.96381, 0.16581, 0.10624, 0.71272, 0.70626, 0.00656, 0.50022, 0.98456, 0.97452, 0.8075, 0.99422, 0.14778, 0.89282, 0.52485, 0.03425, 0.97837, 0.99755, 0.95773, 0.99692, 0.86774, 0.99769, 0.06464, 0.08968, 0.01217, 0.40665, 0.02013, 0.31966, 0.07074, 0.98122, 0.96852, 0.9251, 0.07037, 0.22303, 0.998, 0.98776, 0.99726, 0.9587, 0.98376, 0.99795, 0.59291, 0.99206, 0.85339, 0.66312, 0.63573, 0.2385, 0.62963, 0.69437, 0.88849, 0.29399, 0.95773, 0.89766, 0.93352, 0.15549, 0.98899, 0.88128, 0.99072, 0.1008, 0.61733, 0.97936, 0.09523, 0.95535, 0.45565, 0.99535, 0.90343, 0.98613, 0.99439, 0.91968, 0.90386, 0.90399, 0.00982, 0.11423, 0.57105, 0.9908, 0.99438, 0.92356, 0.90253, 0.001, 0.96319, 0.98231, 0.97357, 0.81659, 0.99841, 0.92982, 0.97471, 0.78414, 0.14819, 0.77825, 0.97236, 0.73777, 0.09748, 0.74294, 0.9409, 0.99758, 0.99719, 0.9552, 0.95436, 0.87557, 0.00589, 0.04493, 0.99371, 0.5873, 0.9789, 0.999, 0.2238, 0.99781, 0.99055, 0.58022, 0.87908, 0.28809, 0.99835, 0.23295, 0.62319, 0.74571, 0.5529, 0.997, 0.98585, 0.96919, 0.71849, 0.40821, 0.8625, 0.97598, 0.49678, 0.95586, 0.99349, 0.87914, 0.62656, 0.83783, 0.96623, 0.19124, 0.9633, 0.10467, 0.99697, 0.006, 0.99515, 0.40546, 0.97001, 0.44726, 0.28807, 0.96635, 0.48801, 0.18584, 0.97433, 0.91032, 0.20485, 0.9391, 0.85791, 0.85263, 0.93834, 0.20791, 0.99832, 0.93576, 0.99811, 0.01446, 0.03707, 0.26442, 0.99556, 0.36359, 0.98428, 0.95344, 0.00293, 0.02956, 0.03477, 0.9897, 0.01371, 0.22255, 0.77304, 0.99347, 0.96989, 0.98921, 0.99086, 0.98554, 0.99753, 0.98427, 0.97703, 0.00367, 0.92079, 0.13052, 0.00245, 0.99837, 0.98901, 0.98011, 0.99629, 0.84287, 0.8306, 0.44331, 0.9609, 0.96673, 0.99815, 0.97282, 0.01302, 0.07027, 0.92539, 0.98928, 0.02387, 0.99828, 0.98104, 0.96134, 0.08345, 0.00053, 0.98688, 0.98911, 0.67632, 0.34917, 0.99755, 0.83286, 0.98656, 0.31638, 0.07845, 0.10406, 0.99723, 0.99636, 0.98039, 0.07552, 0.97307, 0.97887, 0.98923, 0.75411, 0.99021, 0.00284, 0.9768, 0.82225, 0.00323, 0.6329, 0.1882, 0.78704, 0.9995, 0.26256, 0.04615, 0.93378, 0.00505, 0.93834, 0.96554, 0.99479, 0.99563, 0.98866, 0.99504, 0.51082, 0.75469, 0.25865, 0.18406, 0.59867, 0.98715, 0.7087, 0.35111, 0.97929, 0.98341, 0.84634, 0.17065, 0.20857, 0.98964, 0.17335, 0.98727, 0.65536, 0.97801, 0.04202, 0.01937, 0.94712, 0.99876, 0.02826, 0.30255, 0.64331, 0.94844, 0.0393, 0.43823, 0.12318, 0.00224, 0.15131, 0.99933, 0.2747, 0.80189, 0.51971, 0.98808, 0.17801, 0.9956, 0.98764, 0.29344, 0.82609, 0.98214, 0.57722, 0.95773, 0.89186, 0.00592, 0.06651, 0.00494, 0.98927, 0.95658, 0.99851, 0.99892, 0.59739, 0.04204, 0.34526, 0.99748, 0.84427, 0.02079, 0.99383, 0.89835, 0.86369, 0.16998, 0.89377, 0.00966, 0.13072, 0.89585, 0.96753, 0.15891, 0.76436, 0.16985, 0.07533, 0.75391, 0.97179, 0.62183, 0.89836, 0.88943, 0.99432, 0.96147, 0.8585, 0.76391, 0.23797, 0.95078, 0.92074, 0.47423, 0.61289, 0.63432, 0.99506, 0.99442, 0.17533, 0.97758, 0.99461, 0.98856, 0.65224, 0.67676, 0.99909, 0.95592, 0.95402, 0.56802, 0.93112, 0.8525, 0.85979, 0.99903, 0.98387, 0.99254, 0.98645, 0.99593, 0.90705, 0.02556, 0.96637, 0.92806, 0.95833, 0.53066, 0.29794, 0.9967, 0.99879, 0.5799, 0.00239, 0.98754, 0.99835, 0.99626, 0.955, 0.24804, 0.65768, 0.29886, 0.39427, 0.98243, 0.00369, 0.97725, 0.70618, 0.77801, 0.95874, 0.99619, 0.87758, 0.49151, 0.99734, 0.08009, 0.99138, 0.97833, 0.02356, 0.00757, 0.80583, 0.01845, 0.96086, 0.09279, 0.27703, 0.9279, 0.96414, 0.64119, 0.35423, 0.73834, 0.80593, 0.26284, 0.90422, 0.13624, 0.04081, 0.99901, 0.06434, 0.55223, 0.84812, 0.99907, 0.94264, 0.99221, 0.99516, 0.81583, 0.63834, 0.96488, 0.07725, 0.96132, 0.97469, 0.00518, 0.81365, 0.0005, 0.71048, 0.38729, 0.01429, 0.99005, 0.62469, 0.74428, 0.15243, 0.22177, 0.00501, 0.78359, 0.79489, 0.98277, 0.99461, 0.00391, 0.04687, 0.99739, 0.75247, 0.88629, 0.99396, 0.92702, 0.99794, 0.99485, 0.99902, 0.86494, 0.09775, 0.00195, 0.96221, 0.68669, 0.99823, 0.72154, 0.27584, 0.55753, 0.94773, 0.02237, 0.99911, 0.00654, 0.99255, 0.00075, 0.77332, 0.89039, 0.62971, 0.70361, 0.81339, 0.00631, 0.99788, 0.00366, 0.96623, 0.99732, 0.02097, 0.29999, 0.98489, 0.03802, 0.00262, 0.66786, 0.98806, 0.86019, 0.4798, 0.95773, 0.13608, 0.90143, 0.99813, 0.94045, 0.52765, 0.99164, 0.99601, 0.99779, 0.88421, 0.04751, 0.79716, 0.68041, 0.97343, 0.52858, 0.98854, 0.91204, 0.09436, 0.06427, 0.95938, 0.98822, 0.97075, 0.00152, 0.96918, 0.99282, 0.98466, 0.99572, 0.95611, 0.67267, 0.66164, 0.99355, 0.93184, 0.00323, 0.98859, 0.87756, 0.99444, 0.69609, 0.99123, 0.99853, 0.05099, 0.12957, 0.32722, 0.11679, 0.75237, 0.12208, 0.71504, 0.99729, 0.99889, 0.90368, 0.94699, 0.0575, 0.97182, 0.11833, 0.97142, 0.00861, 0.44141, 0.02494, 0.00068, 0.94265, 0.99105, 0.01618, 0.8257, 0.05319, 0.00123, 0.11271, 0.03765, 0.00628, 0.89121, 0.11753, 0.00496, 0.97967, 0.83195, 0.96202, 0.99682, 0.99288, 0.59021, 0.00624, 0.74933, 0.00464, 0.41988, 0.98396, 0.97973, 0.68118, 0.99703, 0.00217, 0.00516, 0.75841, 0.8877, 0.0128, 0.00259, 0.00056, 0.98354, 0.99098, 0.97257, 0.99762, 0.38669, 0.9628, 0.95773, 0.71973, 0.91792, 0.95773, 0.98124, 0.98757, 0.1597, 0.14444, 0.92136, 0.51893, 0.94159, 0.00953, 0.00334, 0.4564, 0.11218, 0.99715, 0.23424, 0.78833, 0.95958, 0.00388, 0.50998, 0.07969, 0.91528, 0.18403, 0.99703, 0.00257, 0.02035, 0.94563, 0.96549, 0.94285, 0.99271, 0.61948, 0.95348, 0.00135, 0.02856, 0.34449, 0.9962, 0.97725, 0.95233, 0.58398, 0.00617, 0.47017, 0.79629, 0.4616, 0.02974, 0.06701, 0.22418, 0.81994, 0.83996, 0.33006, 0.03386, 0.83081, 0.00782, 0.0007, 0.01387, 0.04452, 0.06471, 0.14103, 0.98591, 0.99892, 0.99729, 0.13127, 0.00289, 0.35025, 0.32894, 0.00289, 0.05826, 0.92785, 0.992, 0.12482, 0.23085, 0.19529, 0.86655, 0.1775, 0.96951, 0.76076, 0.00547, 0.94816, 0.99662, 0.97631, 0.99133, 0.71724, 0.77032, 0.9677, 0.00583, 0.70383, 0.01696, 0.00491, 0.99931, 0.00192, 0.87891, 0.9969, 0.39451, 0.85722, 0.98744, 0.01526, 0.00633, 0.9359, 0.64016, 0.99108, 0.91821, 0.96781, 0.36733, 0.02909, 0.99669, 0.93558, 0.93806, 0.01659, 0.96661, 0.58414, 0.99868, 0.01294, 0.92281, 0.9924, 0.2342, 0.94345, 0.04307, 0.39758, 0.35609, 0.99773, 0.00309, 0.03053, 0.92383, 0.13117, 0.76092, 0.81726, 0.67162, 0.96892, 0.99602, 0.99821, 0.99654, 0.14619, 0.78486, 0.92957, 0.0594, 0.41023, 0.99416, 0.98936, 0.04398, 0.59128, 0.99102, 0.73339, 0.00236, 0.97318, 0.2135, 0.06528, 0.50178, 0.99509, 0.98297, 0.99871, 0.92663, 0.97899, 0.99934, 0.03661, 0.7116, 0.82944, 0.47253, 0.95773, 0.90525, 0.40093, 0.929, 0.88781, 0.95475, 0.9831, 0.9237, 0.13278, 0.93825, 0.69104, 0.9964, 0.6675, 0.97661, 0.39469, 0.963, 0.99352, 0.27587, 0.98842, 0.99908, 0.00324, 0.46651, 0.74123, 0.0782, 0.73226, 0.2184, 0.99506, 0.9538, 0.53365, 0.04492, 0.99747, 0.77207, 0.68224, 0.021, 0.73483, 0.0032, 0.00858, 0.10066, 0.08591, 0.00256, 0.56416, 0.80488, 0.01236, 0.95118, 0.92724, 0.42912, 0.98468, 0.40546, 0.97029, 0.99422, 0.15603, 0.99801, 0.0207, 0.994, 0.83559, 0.97663, 0.98808, 0.14768, 0.75768, 0.97833, 0.99843, 0.43757, 0.96319, 0.99121, 0.11338, 0.22604, 0.16955, 0.36818, 0.0031, 0.17682, 0.40422, 0.00213, 0.95773, 0.81526, 0.86818, 0.00193, 0.83301, 0.98632, 0.92237, 0.99181, 0.37158, 0.94587, 0.02663, 0.92905, 0.79175, 0.99516, 0.98866, 0.14768, 0.00126, 0.59993, 0.00158, 0.08852, 0.0036, 0.10038, 0.00331, 0.0004, 0.0185, 0.0742, 0.17063, 0.00495, 0.10929, 0.00217, 0.00717, 0.00547, 0.0004, 0.89421, 0.00367, 0.85635, 0.26747, 0.02442, 0.99921, 0.03745, 0.45359, 0.0024, 0.9882, 0.99469, 0.97798, 0.66626, 0.8927, 0.69166, 0.83628, 0.00517, 0.01658, 0.00925, 0.01658, 0.00777, 0.00466, 0.0014, 0.41845, 0.00166, 0.00068, 0.00467, 0.19493, 0.00136, 0.20315, 0.00108, 0.00156, 0.69371, 0.00177, 0.00466, 0.99521, 0.00358, 0.55046, 0.01824, 0.01401, 0.00281, 0.99077, 0.99418, 0.90819, 0.97127, 0.25244, 0.99239, 0.99375, 0.97261, 0.99771, 0.00225, 0.00289, 0.06776, 0.92829, 0.007, 0.00681, 0.07068, 0.00153, 0.00783, 0.98817, 0.92269, 0.96856, 0.95217, 0.98386, 0.97538, 0.60924, 0.26707, 0.79189, 0.60281, 0.7161, 0.93295, 0.99888, 0.99296, 0.18526, 0.9483, 0.05207, 0.95354, 0.84886, 0.14106, 0.98514, 0.67327, 0.99236, 0.94054, 0.97091, 0.99785, 0.96332, 0.97884, 0.88015, 0.97975, 0.7613, 0.09102, 0.97833, 0.97625, 0.49697, 0.99682, 0.99061, 0.99487, 0.99307, 0.28833, 0.98435, 0.95441, 0.87254, 0.45736, 0.98112, 0.96264, 0.49348, 0.86635, 0.96823, 0.99534, 0.88979, 0.95263, 0.00422, 0.8971, 0.9496, 0.03603, 0.99253, 0.9964, 0.40546, 0.99803, 0.99567, 0.92442, 0.06305, 0.95014, 0.75499, 0.99315, 0.99297, 0.9249, 0.90005, 0.99676, 0.89621, 0.98702, 0.98726, 0.9859, 0.0982, 0.98042, 0.58836, 0.31184, 0.82987, 0.9574, 0.98455, 0.98012, 0.99559, 0.993, 0.81634, 0.84351, 0.72831, 0.83675, 0.99901, 0.92933, 0.90918, 0.96981, 0.98315, 0.81251, 0.31901, 0.99158, 0.06318, 0.68249, 0.60843, 0.99297, 0.91484, 0.93111, 0.96842, 0.98979, 0.70013, 0.00698, 0.73783, 0.01132, 0.99801, 0.71983, 0.99855, 0.86101, 0.99265, 0.73887, 0.29538, 0.98206, 0.00953, 0.98879, 0.99382, 0.99815, 0.70432, 0.9973, 0.98384, 0.35513, 0.83851, 0.99833, 0.99444, 0.88338, 0.84955, 0.0768, 0.2066, 0.5226, 0.88186, 0.00495, 0.00145, 0.13103, 0.17745, 0.02698, 0.03299, 0.00123, 0.01983, 0.3449, 0.13491, 0.11668, 0.40561, 0.00178, 0.00114, 0.00201, 0.00271, 0.0023, 0.02184, 0.00099, 0.89302, 0.92596, 0.67609, 0.38068, 0.72593, 0.99812, 0.96464, 0.99487, 0.90502, 0.99535, 0.98647, 0.98212, 0.65801, 0.87439, 0.08368, 0.34044, 0.00349, 0.03523, 0.0397, 0.2402, 0.03276, 0.98733, 0.00133, 0.00759, 0.00309, 0.00201, 0.10714, 0.42287, 0.00216, 0.00536, 0.01011, 0.08349, 0.01186, 0.00759, 0.00964, 0.88904, 0.00083, 0.89621, 0.00107]\n"
     ]
    }
   ],
   "source": [
    "print(predicted)"
   ]
  },
  {
   "cell_type": "markdown",
   "metadata": {},
   "source": [
    "## score과 긍정확률을 추가한 dataFrame생성"
   ]
  },
  {
   "cell_type": "code",
   "execution_count": null,
   "metadata": {},
   "outputs": [
    {
     "data": {
      "text/html": [
       "<div>\n",
       "<style scoped>\n",
       "    .dataframe tbody tr th:only-of-type {\n",
       "        vertical-align: middle;\n",
       "    }\n",
       "\n",
       "    .dataframe tbody tr th {\n",
       "        vertical-align: top;\n",
       "    }\n",
       "\n",
       "    .dataframe thead th {\n",
       "        text-align: right;\n",
       "    }\n",
       "</style>\n",
       "<table border=\"1\" class=\"dataframe\">\n",
       "  <thead>\n",
       "    <tr style=\"text-align: right;\">\n",
       "      <th></th>\n",
       "      <th>0</th>\n",
       "    </tr>\n",
       "  </thead>\n",
       "  <tbody>\n",
       "    <tr>\n",
       "      <th>0</th>\n",
       "      <td>0.99508</td>\n",
       "    </tr>\n",
       "    <tr>\n",
       "      <th>1</th>\n",
       "      <td>0.99257</td>\n",
       "    </tr>\n",
       "    <tr>\n",
       "      <th>2</th>\n",
       "      <td>0.98767</td>\n",
       "    </tr>\n",
       "    <tr>\n",
       "      <th>3</th>\n",
       "      <td>0.99632</td>\n",
       "    </tr>\n",
       "    <tr>\n",
       "      <th>4</th>\n",
       "      <td>0.99201</td>\n",
       "    </tr>\n",
       "  </tbody>\n",
       "</table>\n",
       "</div>"
      ],
      "text/plain": [
       "         0\n",
       "0  0.99508\n",
       "1  0.99257\n",
       "2  0.98767\n",
       "3  0.99632\n",
       "4  0.99201"
      ]
     },
     "execution_count": 405,
     "metadata": {},
     "output_type": "execute_result"
    }
   ],
   "source": [
    "pred = pd.DataFrame(predicted)\n",
    "pred.head()"
   ]
  },
  {
   "cell_type": "code",
   "execution_count": null,
   "metadata": {},
   "outputs": [
    {
     "data": {
      "text/plain": [
       "1619"
      ]
     },
     "execution_count": 406,
     "metadata": {},
     "output_type": "execute_result"
    }
   ],
   "source": [
    "len(movie)"
   ]
  },
  {
   "cell_type": "code",
   "execution_count": null,
   "metadata": {},
   "outputs": [
    {
     "data": {
      "text/plain": [
       "1619"
      ]
     },
     "execution_count": 407,
     "metadata": {},
     "output_type": "execute_result"
    }
   ],
   "source": [
    "len(pred)"
   ]
  },
  {
   "cell_type": "code",
   "execution_count": null,
   "metadata": {},
   "outputs": [],
   "source": [
    "movie_sentiment = movie"
   ]
  },
  {
   "cell_type": "code",
   "execution_count": null,
   "metadata": {},
   "outputs": [
    {
     "data": {
      "text/html": [
       "<div>\n",
       "<style scoped>\n",
       "    .dataframe tbody tr th:only-of-type {\n",
       "        vertical-align: middle;\n",
       "    }\n",
       "\n",
       "    .dataframe tbody tr th {\n",
       "        vertical-align: top;\n",
       "    }\n",
       "\n",
       "    .dataframe thead th {\n",
       "        text-align: right;\n",
       "    }\n",
       "</style>\n",
       "<table border=\"1\" class=\"dataframe\">\n",
       "  <thead>\n",
       "    <tr style=\"text-align: right;\">\n",
       "      <th></th>\n",
       "      <th>title</th>\n",
       "      <th>link</th>\n",
       "      <th>score</th>\n",
       "      <th>review</th>\n",
       "      <th>sentiment</th>\n",
       "    </tr>\n",
       "  </thead>\n",
       "  <tbody>\n",
       "    <tr>\n",
       "      <th>0</th>\n",
       "      <td>19곰 테드</td>\n",
       "      <td>https://movie.naver.com/movie/bi/mi/pointWrite...</td>\n",
       "      <td>10</td>\n",
       "      <td>아 정말ㅋㅋㅋㅋㅋ 이런 유머 너무 좋아요</td>\n",
       "      <td>0.99508</td>\n",
       "    </tr>\n",
       "    <tr>\n",
       "      <th>1</th>\n",
       "      <td>19곰 테드</td>\n",
       "      <td>https://movie.naver.com/movie/bi/mi/pointWrite...</td>\n",
       "      <td>10</td>\n",
       "      <td>죤나게재밌다어린시절의 순수함을 가지고 성인이 ㄷㅙㄴ사람이라면 무조건 추천</td>\n",
       "      <td>0.99257</td>\n",
       "    </tr>\n",
       "    <tr>\n",
       "      <th>2</th>\n",
       "      <td>19곰 테드</td>\n",
       "      <td>https://movie.naver.com/movie/bi/mi/pointWrite...</td>\n",
       "      <td>10</td>\n",
       "      <td>진짜웃김ㅋㅋㅋ곰인형이 주인공이랑 싸울때 바지벗기고 회초리로 엉덩이 때리는부분 짱 웃...</td>\n",
       "      <td>0.98767</td>\n",
       "    </tr>\n",
       "    <tr>\n",
       "      <th>3</th>\n",
       "      <td>19곰 테드</td>\n",
       "      <td>https://movie.naver.com/movie/bi/mi/pointWrite...</td>\n",
       "      <td>10</td>\n",
       "      <td>인간과 봉제곰의 격렬한 액션씬이 가장 인상에 남는 작품</td>\n",
       "      <td>0.99632</td>\n",
       "    </tr>\n",
       "    <tr>\n",
       "      <th>4</th>\n",
       "      <td>19곰 테드</td>\n",
       "      <td>https://movie.naver.com/movie/bi/mi/pointWrite...</td>\n",
       "      <td>10</td>\n",
       "      <td>진짜ㅋㅋㅋㅋ굿</td>\n",
       "      <td>0.99201</td>\n",
       "    </tr>\n",
       "    <tr>\n",
       "      <th>...</th>\n",
       "      <td>...</td>\n",
       "      <td>...</td>\n",
       "      <td>...</td>\n",
       "      <td>...</td>\n",
       "      <td>...</td>\n",
       "    </tr>\n",
       "    <tr>\n",
       "      <th>1625</th>\n",
       "      <td>19곰 테드</td>\n",
       "      <td>https://movie.naver.com/movie/bi/mi/pointWrite...</td>\n",
       "      <td>1</td>\n",
       "      <td>장르불명기영화</td>\n",
       "      <td>0.00964</td>\n",
       "    </tr>\n",
       "    <tr>\n",
       "      <th>1626</th>\n",
       "      <td>19곰 테드</td>\n",
       "      <td>https://movie.naver.com/movie/bi/mi/pointWrite...</td>\n",
       "      <td>10</td>\n",
       "      <td>ㅋㅋㅋㅋㅋ곰돌이가 즈질인데 너무 귀엽게 생겼음 ㅋㅋ 병맛느낌 나게 재미있음 ㅋㅋㅋ</td>\n",
       "      <td>0.88904</td>\n",
       "    </tr>\n",
       "    <tr>\n",
       "      <th>1627</th>\n",
       "      <td>19곰 테드</td>\n",
       "      <td>https://movie.naver.com/movie/bi/mi/pointWrite...</td>\n",
       "      <td>1</td>\n",
       "      <td>재밌어보여서 봤는데 보고나니 왜 평점이 낮은지 알겠다 한번도 안웃었다 감동도 재미도...</td>\n",
       "      <td>0.00083</td>\n",
       "    </tr>\n",
       "    <tr>\n",
       "      <th>1628</th>\n",
       "      <td>19곰 테드</td>\n",
       "      <td>https://movie.naver.com/movie/bi/mi/pointWrite...</td>\n",
       "      <td>1</td>\n",
       "      <td>어른들을 위한 동화</td>\n",
       "      <td>0.89621</td>\n",
       "    </tr>\n",
       "    <tr>\n",
       "      <th>1629</th>\n",
       "      <td>19곰 테드</td>\n",
       "      <td>https://movie.naver.com/movie/bi/mi/pointWrite...</td>\n",
       "      <td>1</td>\n",
       "      <td>이 유치한 영화가 웃기다는 애들은 뭐임  중딩 이상 관람 금지</td>\n",
       "      <td>0.00107</td>\n",
       "    </tr>\n",
       "  </tbody>\n",
       "</table>\n",
       "<p>1619 rows × 5 columns</p>\n",
       "</div>"
      ],
      "text/plain": [
       "       title                                               link  score  \\\n",
       "0     19곰 테드  https://movie.naver.com/movie/bi/mi/pointWrite...     10   \n",
       "1     19곰 테드  https://movie.naver.com/movie/bi/mi/pointWrite...     10   \n",
       "2     19곰 테드  https://movie.naver.com/movie/bi/mi/pointWrite...     10   \n",
       "3     19곰 테드  https://movie.naver.com/movie/bi/mi/pointWrite...     10   \n",
       "4     19곰 테드  https://movie.naver.com/movie/bi/mi/pointWrite...     10   \n",
       "...      ...                                                ...    ...   \n",
       "1625  19곰 테드  https://movie.naver.com/movie/bi/mi/pointWrite...      1   \n",
       "1626  19곰 테드  https://movie.naver.com/movie/bi/mi/pointWrite...     10   \n",
       "1627  19곰 테드  https://movie.naver.com/movie/bi/mi/pointWrite...      1   \n",
       "1628  19곰 테드  https://movie.naver.com/movie/bi/mi/pointWrite...      1   \n",
       "1629  19곰 테드  https://movie.naver.com/movie/bi/mi/pointWrite...      1   \n",
       "\n",
       "                                                 review  sentiment  \n",
       "0                                아 정말ㅋㅋㅋㅋㅋ 이런 유머 너무 좋아요    0.99508  \n",
       "1              죤나게재밌다어린시절의 순수함을 가지고 성인이 ㄷㅙㄴ사람이라면 무조건 추천    0.99257  \n",
       "2     진짜웃김ㅋㅋㅋ곰인형이 주인공이랑 싸울때 바지벗기고 회초리로 엉덩이 때리는부분 짱 웃...    0.98767  \n",
       "3                        인간과 봉제곰의 격렬한 액션씬이 가장 인상에 남는 작품    0.99632  \n",
       "4                                               진짜ㅋㅋㅋㅋ굿    0.99201  \n",
       "...                                                 ...        ...  \n",
       "1625                                            장르불명기영화    0.00964  \n",
       "1626      ㅋㅋㅋㅋㅋ곰돌이가 즈질인데 너무 귀엽게 생겼음 ㅋㅋ 병맛느낌 나게 재미있음 ㅋㅋㅋ    0.88904  \n",
       "1627  재밌어보여서 봤는데 보고나니 왜 평점이 낮은지 알겠다 한번도 안웃었다 감동도 재미도...    0.00083  \n",
       "1628                                         어른들을 위한 동화    0.89621  \n",
       "1629                 이 유치한 영화가 웃기다는 애들은 뭐임  중딩 이상 관람 금지    0.00107  \n",
       "\n",
       "[1619 rows x 5 columns]"
      ]
     },
     "execution_count": 409,
     "metadata": {},
     "output_type": "execute_result"
    }
   ],
   "source": [
    "movie_sentiment.loc[:,'sentiment'] = predicted\n",
    "movie_sentiment"
   ]
  },
  {
   "cell_type": "code",
   "execution_count": null,
   "metadata": {},
   "outputs": [],
   "source": [
    "movie_sentiment.to_csv('movie_sentiment_1111_Ted.csv', encoding='euckr', index=False)"
   ]
  }
 ],
 "metadata": {
  "interpreter": {
   "hash": "d49957daa954e6bec9f177fc046718ee074770fab86eb9520507fb7fbdbef1cf"
  },
  "kernelspec": {
   "display_name": "Python 3.8.13 ('NLP')",
   "language": "python",
   "name": "python3"
  },
  "language_info": {
   "codemirror_mode": {
    "name": "ipython",
    "version": 3
   },
   "file_extension": ".py",
   "mimetype": "text/x-python",
   "name": "python",
   "nbconvert_exporter": "python",
   "pygments_lexer": "ipython3",
   "version": "3.8.13"
  }
 },
 "nbformat": 4,
 "nbformat_minor": 4
}
