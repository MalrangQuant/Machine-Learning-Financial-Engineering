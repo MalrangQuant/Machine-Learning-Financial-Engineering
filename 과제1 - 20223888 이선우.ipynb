{
 "cells": [
  {
   "cell_type": "markdown",
   "metadata": {},
   "source": [
    "# 과제 (1)"
   ]
  },
  {
   "cell_type": "markdown",
   "metadata": {},
   "source": [
    "## 20223888 이선우"
   ]
  },
  {
   "cell_type": "markdown",
   "metadata": {},
   "source": [
    "## 1. 다음의 코드를 실행하여, 다중선형회귀모형 훈련과 평가를 위한 데이터셋, Xtrain, ytrain, Xtest, ytest를 생성하고 물음에 답하여라"
   ]
  },
  {
   "cell_type": "code",
   "execution_count": 23,
   "metadata": {},
   "outputs": [],
   "source": [
    "import numpy as np"
   ]
  },
  {
   "cell_type": "code",
   "execution_count": 24,
   "metadata": {},
   "outputs": [],
   "source": [
    "np.random.seed(123)\n",
    "Xtrain = 2 * np.random.rand(100, 3)\n",
    "ytrain = 6 + Xtrain @ np.array([[3], [2], [5]]) + np.random.rand(100,1)\n",
    "Xtest = 2 * np.random.rand(20, 3)\n",
    "ytest = 6 + Xtest @ np.array([[3], [2], [5]]) + np.random.randn(20, 1)"
   ]
  },
  {
   "cell_type": "markdown",
   "metadata": {},
   "source": [
    "### 1-(1) w_pred 만들기\n",
    "\n",
    "배치경사하강법 = 전체 학습 데이터를 이용해 학습 <br>\n",
    "학습률 = 0.01 <br>\n",
    "iters = 5000 <br>"
   ]
  },
  {
   "cell_type": "code",
   "execution_count": 25,
   "metadata": {},
   "outputs": [],
   "source": [
    "def gradient_descent_steps(Xtrain, Ytrain, iters, learning_rate=0.01):\n",
    "\n",
    "    sample_size = len(Xtrain)\n",
    "    features_size = len(Xtrain.T)\n",
    "    X = np.c_[np.ones((sample_size, 1)), Xtrain]\n",
    "    \n",
    "    weight = np.random.randn(features_size+1, 1)\n",
    "\n",
    "    for i in range(iters):\n",
    "        gradients = 1/sample_size * (X.T @ (X @ weight - Ytrain)) \n",
    "        weight = weight - learning_rate * gradients\n",
    "        \n",
    "    return weight"
   ]
  },
  {
   "cell_type": "code",
   "execution_count": 26,
   "metadata": {},
   "outputs": [
    {
     "name": "stdout",
     "output_type": "stream",
     "text": [
      "w_pred =\n",
      "[[6.50554133]\n",
      " [3.03535706]\n",
      " [1.97058984]\n",
      " [4.97678638]]\n"
     ]
    }
   ],
   "source": [
    "w_pred = gradient_descent_steps(Xtrain, ytrain, iters=5000)\n",
    "print('w_pred =', w_pred, sep='\\n')"
   ]
  },
  {
   "cell_type": "markdown",
   "metadata": {},
   "source": [
    "따라서 절편항을 제외한 w_pred를 구할 수 있다. iter를 늘리면 더욱 정확한 값을 추정하게 된다.\n",
    "\n",
    "아래는 패키지를 이용한 값이다."
   ]
  },
  {
   "cell_type": "code",
   "execution_count": 27,
   "metadata": {},
   "outputs": [
    {
     "data": {
      "text/plain": [
       "array([[3.01169904, 1.94586411, 4.9573312 ]])"
      ]
     },
     "execution_count": 27,
     "metadata": {},
     "output_type": "execute_result"
    }
   ],
   "source": [
    "from sklearn.linear_model import LinearRegression\n",
    "lr = LinearRegression()\n",
    "lr.fit(Xtrain, ytrain)\n",
    "lr.coef_"
   ]
  },
  {
   "cell_type": "markdown",
   "metadata": {},
   "source": [
    "### 1-(2) 다중선형회귀모델의 성능 MSE 평가"
   ]
  },
  {
   "cell_type": "code",
   "execution_count": 28,
   "metadata": {},
   "outputs": [],
   "source": [
    "def mse_rmse_rsquare_finder (w_pred, Xtest, Ytest):\n",
    "    X = np.c_[np.ones((len(Xtest), 1)), Xtest]\n",
    "    sse = ((X @ w_pred - Ytest)**2).sum()\n",
    "    sst = ((Ytest - Ytest.mean())**2).sum()\n",
    "    mse = sse/len(Ytest)\n",
    "    rmse = mse**0.5\n",
    "    r_square = 1 - (sse/sst)\n",
    "\n",
    "    return mse, rmse, r_square"
   ]
  },
  {
   "cell_type": "code",
   "execution_count": 29,
   "metadata": {},
   "outputs": [
    {
     "name": "stdout",
     "output_type": "stream",
     "text": [
      "MSE = 1.361625 RMSE = 1.166887\n"
     ]
    }
   ],
   "source": [
    "mse, rmse, r_square = mse_rmse_rsquare_finder(w_pred, Xtest, ytest)\n",
    "print('MSE =', np.around(mse, 6), 'RMSE =', np.around(rmse, 6), sep=' ')"
   ]
  },
  {
   "cell_type": "markdown",
   "metadata": {},
   "source": [
    "MSE 값이 작으므로 예측값과 실제값의 차이가 크지 않다는 것을 알 수 있다.\n",
    "\n",
    "아래 패키지를 이용한 검산 결과 역시 계산 결과와 같다"
   ]
  },
  {
   "cell_type": "code",
   "execution_count": 30,
   "metadata": {},
   "outputs": [
    {
     "data": {
      "text/plain": [
       "1.361625"
      ]
     },
     "execution_count": 30,
     "metadata": {},
     "output_type": "execute_result"
    }
   ],
   "source": [
    "from sklearn.metrics import mean_squared_error\n",
    "X = np.c_[np.ones((len(Xtest), 1)), Xtest]\n",
    "np.around(mean_squared_error(ytest, X @ w_pred), 6)"
   ]
  },
  {
   "cell_type": "markdown",
   "metadata": {},
   "source": [
    "## 2. sklearn의 california housing 을 이용해 물음에 답하라\n",
    "\n",
    "아래 데이터 전처리에서, 특성변수들의 값을 스케일링 해 주었다."
   ]
  },
  {
   "cell_type": "code",
   "execution_count": 31,
   "metadata": {},
   "outputs": [],
   "source": [
    "import pandas as pd\n",
    "from sklearn.datasets import fetch_california_housing\n",
    "from sklearn.preprocessing import StandardScaler\n",
    "from sklearn.model_selection import train_test_split\n",
    "\n",
    "cali_house = fetch_california_housing()\n",
    "scaler = StandardScaler()\n",
    "\n",
    "cali_house_X = pd.DataFrame(cali_house.data, columns=cali_house['feature_names'])\n",
    "cali_house_Y = pd.DataFrame(cali_house.target, columns=['target'])\n",
    "\n",
    "X_data = scaler.fit(cali_house_X).transform(cali_house_X)\n",
    "y_target = cali_house.target"
   ]
  },
  {
   "cell_type": "markdown",
   "metadata": {},
   "source": [
    "## 2-(1) 주어진 데이터 셋을 훈련자료 60%, 평가자료 40%로 나누어라"
   ]
  },
  {
   "cell_type": "code",
   "execution_count": 32,
   "metadata": {},
   "outputs": [
    {
     "name": "stdout",
     "output_type": "stream",
     "text": [
      "(12384, 8) (8256, 8) (12384,) (8256,)\n"
     ]
    }
   ],
   "source": [
    "X_train, X_test, Y_train, Y_test = train_test_split(X_data, y_target, train_size=0.6, test_size=0.4, random_state=777)\n",
    "print(X_train.shape, X_test.shape, Y_train.shape, Y_test.shape)"
   ]
  },
  {
   "cell_type": "markdown",
   "metadata": {},
   "source": [
    "### 2-(2) 주어진 자료에 대해 릿지회귀 적용시, 규제조절 매개변수 중 최적의 값 선택\n",
    "\n",
    "5-fold 교차검증 (cv=5) 적용 <br>\n",
    "규제조절 매개변수 리스트 [0, 1, 10, 30, 50, 100] <br>\n",
    "MSE 이용 <br>"
   ]
  },
  {
   "cell_type": "code",
   "execution_count": 33,
   "metadata": {},
   "outputs": [],
   "source": [
    "import matplotlib.pyplot as plt\n",
    "import seaborn as sns\n",
    "from sklearn.linear_model import Ridge\n",
    "from sklearn.model_selection import cross_val_score"
   ]
  },
  {
   "cell_type": "code",
   "execution_count": 34,
   "metadata": {},
   "outputs": [
    {
     "name": "stdout",
     "output_type": "stream",
     "text": [
      "alpha = 0 -> MSE = 0.523047\n",
      "alpha = 1 -> MSE = 0.523045\n",
      "alpha = 10 -> MSE = 0.523052\n",
      "alpha = 30 -> MSE = 0.523207\n",
      "alpha = 50 -> MSE = 0.523526\n",
      "alpha = 100 -> MSE = 0.524894\n",
      "\n",
      "\n",
      "Smallest MSE when alpha = \"1\"\n",
      "\n",
      "\n"
     ]
    },
    {
     "data": {
      "image/png": "[encoded data removed]",
      "text/plain": [
       "<Figure size 1800x600 with 6 Axes>"
      ]
     },
     "metadata": {},
     "output_type": "display_data"
    }
   ],
   "source": [
    "lambdas = [0, 1, 10, 30, 50, 100]\n",
    "#lambdas = np.linspace(0, 100, 10000)\n",
    "MSE_dict = {}\n",
    "\n",
    "for l in lambdas:\n",
    "\n",
    "    ridge = Ridge(alpha=l)\n",
    "    neg_mse_scores = cross_val_score(ridge, X_train, Y_train,\\\n",
    "                                     scoring='neg_mean_squared_error',\\\n",
    "                                     cv=5)\n",
    "\n",
    "    avg_mse = np.mean((-neg_mse_scores))\n",
    "    MSE_dict[l] = avg_mse\n",
    "\n",
    "    print(f'alpha = {l} -> MSE = {np.around(avg_mse, decimals=6)}')\n",
    "    \n",
    "    alpha = min(MSE_dict, key=MSE_dict.get)\n",
    "\n",
    "print('\\n')\n",
    "print(f'Smallest MSE when alpha = \"{alpha}\"')\n",
    "print('\\n')\n",
    "\n",
    "fig, axs = plt.subplots(figsize=(18, 6), nrows=1, ncols=len(lambdas))\n",
    "coeff_df = pd.DataFrame()\n",
    "\n",
    "for idx, l in enumerate(lambdas):\n",
    "\n",
    "    ridge = Ridge(alpha=l)\n",
    "    ridge.fit(X_train, Y_train)\n",
    "    coeff = pd.Series(data=ridge.coef_, index=cali_house['feature_names'])\n",
    "    coeff = coeff.sort_values(ascending=True)\n",
    "    colname = 'alpha' + str(l)\n",
    "\n",
    "    axs[idx].set_title(colname)\n",
    "    axs[idx].set_xlim(-3,6)\n",
    "    sns.barplot(x=coeff.values, y=coeff.index, ax=axs[idx])\n",
    "    coeff_df[colname]=coeff"
   ]
  },
  {
   "cell_type": "markdown",
   "metadata": {},
   "source": [
    "### 2-(3) 선택된 $\\lambda$ 를 이용한 릿지회귀 훈련 후, 가중치 파라미터 추정치 출력후 평가자료를 이용해 $R^2$ 구하기"
   ]
  },
  {
   "cell_type": "code",
   "execution_count": 35,
   "metadata": {},
   "outputs": [
    {
     "name": "stdout",
     "output_type": "stream",
     "text": [
      "Smallest MSE when alpha = \"1\"\n",
      "coef:\n",
      "[ 8.60795e-01  1.22837e-01 -3.24316e-01  3.79869e-01 -2.66000e-04\n",
      " -3.30930e-02 -8.63573e-01 -8.41163e-01]\n",
      "intercept:\n",
      "2.067778\n"
     ]
    }
   ],
   "source": [
    "print(f'Smallest MSE when alpha = \"{alpha}\"')\n",
    "\n",
    "ridge = Ridge(alpha=alpha)\n",
    "ridge.fit(X_train, Y_train)\n",
    "print('coef:', np.around(ridge.coef_, 6), 'intercept:', np.around(ridge.intercept_, 6), sep='\\n')"
   ]
  },
  {
   "cell_type": "markdown",
   "metadata": {},
   "source": [
    "가중치 패러미터는 위와 같다"
   ]
  },
  {
   "cell_type": "code",
   "execution_count": 36,
   "metadata": {},
   "outputs": [
    {
     "name": "stdout",
     "output_type": "stream",
     "text": [
      "R^2 = 0.596844 MSE = 0.53106\n"
     ]
    }
   ],
   "source": [
    "pred = np.hstack((ridge.intercept_, ridge.coef_)).T\n",
    "mse, rmse, r_squared = mse_rmse_rsquare_finder(pred, X_test, Y_test)\n",
    "print('R^2 =', np.around(r_squared, 6), 'MSE =', np.around(mse, 6), sep=' ')"
   ]
  },
  {
   "cell_type": "markdown",
   "metadata": {},
   "source": [
    "위 훈련 자료를 통해 $R^2$ 의 값을 구한 것은 위와 같다.\n",
    "\n",
    "아래 r2_score 모듈을 이용한 결과와 같음을 알 수 있다."
   ]
  },
  {
   "cell_type": "code",
   "execution_count": 37,
   "metadata": {},
   "outputs": [
    {
     "data": {
      "text/plain": [
       "0.596844"
      ]
     },
     "execution_count": 37,
     "metadata": {},
     "output_type": "execute_result"
    }
   ],
   "source": [
    "from sklearn.metrics import r2_score\n",
    "a = ridge.predict(X_test)\n",
    "np.around(r2_score(Y_test, a), 6)\n",
    "#np.around(mean_squared_error(Y_test, a), 6)"
   ]
  },
  {
   "cell_type": "markdown",
   "metadata": {},
   "source": [
    "### 3. 일반 선형 회귀모형에 비해, Lasso 규제를 적용한 Lasso 회귀모형의 특징 중 가장 적절한 것은?"
   ]
  },
  {
   "cell_type": "markdown",
   "metadata": {},
   "source": [
    "답: 3\n",
    "\n",
    "coefficient 추정을 규제하는 Shrinkage methods가 사용되는 Lasso 회귀 모형은 위 방법을 통해 Bias를 증가시키는 대신, Variance를 줄이기 위해 노력한다. 따라서 원래 목적인 분산을 줄이는 과정에서 편향이 증가하는 폭이 작다면, 예측력이 높아지게 된다."
   ]
  }
 ],
 "metadata": {
  "kernelspec": {
   "display_name": "Python 3.8.13 ('quant')",
   "language": "python",
   "name": "python3"
  },
  "language_info": {
   "codemirror_mode": {
    "name": "ipython",
    "version": 3
   },
   "file_extension": ".py",
   "mimetype": "text/x-python",
   "name": "python",
   "nbconvert_exporter": "python",
   "pygments_lexer": "ipython3",
   "version": "3.8.13"
  },
  "orig_nbformat": 4,
  "vscode": {
   "interpreter": {
    "hash": "e7b6214bfe3ce19b2336b5ee82fe9739f68968628bd5eb86b17deae08d37c2fd"
   }
  }
 },
 "nbformat": 4,
 "nbformat_minor": 2
}
