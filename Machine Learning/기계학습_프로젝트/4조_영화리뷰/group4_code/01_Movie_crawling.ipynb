{
 "cells": [
  {
   "cell_type": "markdown",
   "metadata": {},
   "source": [
    "# 첫 번째 페이지 크롤링"
   ]
  },
  {
   "cell_type": "code",
   "execution_count": 1,
   "metadata": {},
   "outputs": [],
   "source": [
    "import requests\n",
    "from urllib import parse\n",
    "from bs4 import BeautifulSoup"
   ]
  },
  {
   "cell_type": "code",
   "execution_count": 2,
   "metadata": {},
   "outputs": [],
   "source": [
    "base_url = \"https://movie.naver.com/movie/point/af/list.naver?&page={}\"\n",
    "url = base_url.format(1)"
   ]
  },
  {
   "cell_type": "code",
   "execution_count": 3,
   "metadata": {},
   "outputs": [],
   "source": [
    "res = requests.get(url)"
   ]
  },
  {
   "cell_type": "code",
   "execution_count": 4,
   "metadata": {},
   "outputs": [
    {
     "name": "stdout",
     "output_type": "stream",
     "text": [
      "10\n",
      "담보 :: https://movie.naver.com/movie/point/af/list.naver?&page={} :: 9 :: 너무 감동적이고 눈물콧물..딱 마지막 갈때쯔음 억지 스토리만 빼면 짱!\n",
      "-------------------------------------------------------\n",
      "듄 :: https://movie.naver.com/movie/point/af/list.naver?&page={} :: 10 :: 이 시리즈 영원히 안 끝났으면 좋겠다..SF영화 중 최고...\n",
      "-------------------------------------------------------\n",
      "레지스탕스 :: https://movie.naver.com/movie/point/af/list.naver?&page={} :: 10 :: 코로나 시기에 개봉이 안타깝다.나치나 일본 학살군이나 미치광이들의 지구 흔들기였다. 이제 더 이상 의미없는 희생은 없어야 한다. 각성하라,인간!\n",
      "-------------------------------------------------------\n",
      "듄 :: https://movie.naver.com/movie/point/af/list.naver?&page={} :: 8 :: 배경음악때문에몰입감이대박인영화\n",
      "-------------------------------------------------------\n",
      "클래식 :: https://movie.naver.com/movie/point/af/list.naver?&page={} :: 10 :: 처음부터 끝까지 감정선이 너무 좋았다.다시 개봉을 해도 손색이 없는 작품.조승우 손예진의 인생작이다.\n",
      "-------------------------------------------------------\n",
      "듄 :: https://movie.naver.com/movie/point/af/list.naver?&page={} :: 10 :: 진짜 이게 끝이라고??? 진짜 궁금했던거에 30퍼밖에 해소가 안됨 본편의 예고편 본 느낌임 하지만 엄청 웅장하고 그야말로 볼게 풍성함 2편, 혹은 그 담에 3편도 나오면 무조건 볼거고ㅠㅠ빨리 나왔음 좋겠다ㅠ\n",
      "-------------------------------------------------------\n",
      "기적 :: https://movie.naver.com/movie/point/af/list.naver?&page={} :: 10 :: 스토리에 감동이 밀려오네요.주인공들 연기도 만점입니다.구수한 사투리 아주 인상적이에요.\n",
      "-------------------------------------------------------\n",
      "나는 내일, 어제의 너와 만난다 :: https://movie.naver.com/movie/point/af/list.naver?&page={} :: 8 :: 비현실적인 환타지 로맨스지만... 어쩌면 나도 다시 돌아갈 수만 있다면 진짜 사랑할 수 있을텐데... 반성하게 만드는 현실충고 로맨스... 이렇게 많이 운 로맨스 영화는 첨이다...\n",
      "-------------------------------------------------------\n",
      "해리 포터와 죽음의 성물 - 2부 :: https://movie.naver.com/movie/point/af/list.naver?&page={} :: 10 :: \n",
      "-------------------------------------------------------\n",
      "라스트 듀얼: 최후의 결투 :: https://movie.naver.com/movie/point/af/list.naver?&page={} :: 8 :: 이렇게 잘만든 영화 흥행 왜이럼?\n",
      "-------------------------------------------------------\n"
     ]
    },
    {
     "name": "stderr",
     "output_type": "stream",
     "text": [
      "D:\\program\\anaconda3\\lib\\site-packages\\bs4\\__init__.py:177: UserWarning: No parser was explicitly specified, so I'm using the best available HTML parser for this system (\"lxml\"). This usually isn't a problem, but if you run this code on another system, or in a different virtual environment, it may use a different parser and behave differently.\n",
      "\n",
      "The code that caused this warning is on line 194 of the file D:\\program\\anaconda3\\lib\\runpy.py. To get rid of this warning, change code that looks like this:\n",
      "\n",
      " BeautifulSoup(YOUR_MARKUP})\n",
      "\n",
      "to this:\n",
      "\n",
      " BeautifulSoup(YOUR_MARKUP, \"lxml\")\n",
      "\n",
      "  warnings.warn(self.NO_PARSER_SPECIFIED_WARNING % dict(\n"
     ]
    }
   ],
   "source": [
    "if res.status_code == 200:\n",
    "    soup = BeautifulSoup(res.text)\n",
    "    tds = soup.select('table.list_netizen > tbody > tr > td.title')\n",
    "    print(len(tds))\n",
    "    \n",
    "    for td in tds:\n",
    "        movie_title = td.select_one('a.movie').text.strip()\n",
    "        link = td.select_one('a.movie').get('herf')\n",
    "        link = parse.urljoin(base_url, link)\n",
    "        score = td.select_one('div.list_netizen_score > em').text.strip()\n",
    "        comment = td.select_one('br').next_sibling.strip()\n",
    "        print(movie_title, link, score, comment, sep=' :: ')\n",
    "        print('-------------------------------------------------------')"
   ]
  },
  {
   "cell_type": "markdown",
   "metadata": {},
   "source": [
    "# 네이버 영화 평정과 리뷰 크롤링 후 저장"
   ]
  },
  {
   "cell_type": "code",
   "execution_count": 2,
   "metadata": {},
   "outputs": [],
   "source": [
    "import random\n",
    "import requests\n",
    "import time\n",
    "from bs4 import BeautifulSoup"
   ]
  },
  {
   "cell_type": "code",
   "execution_count": 6,
   "metadata": {},
   "outputs": [
    {
     "data": {
      "text/plain": [
       "0.7308643969712971"
      ]
     },
     "execution_count": 6,
     "metadata": {},
     "output_type": "execute_result"
    }
   ],
   "source": [
    "random.uniform(0.2, 1.2)"
   ]
  },
  {
   "cell_type": "code",
   "execution_count": 7,
   "metadata": {},
   "outputs": [],
   "source": [
    "base_url = \"https://movie.naver.com/movie/point/af/list.naver?&page={}\""
   ]
  },
  {
   "cell_type": "code",
   "execution_count": 8,
   "metadata": {},
   "outputs": [],
   "source": [
    "# 결과 저장 list\n",
    "comment_list = []"
   ]
  },
  {
   "cell_type": "code",
   "execution_count": 9,
   "metadata": {},
   "outputs": [
    {
     "name": "stdout",
     "output_type": "stream",
     "text": [
      "finish\n"
     ]
    }
   ],
   "source": [
    "for page in range(1, 1001):\n",
    "    url = base_url.format(page)\n",
    "    res = requests.get(url)\n",
    "    \n",
    "    if res.status_code == 200:\n",
    "        soup = BeautifulSoup(res.text, 'lxml')\n",
    "        tds = soup.select('table.list_netizen > tbody > tr > td.title')\n",
    "        \n",
    "        for td in tds:\n",
    "            movie_title = td.select_one('a.movie').text.strip()\n",
    "            link = td.select_one('a.movie').get('herf')\n",
    "            link = parse.urljoin(base_url, link)\n",
    "            score = td.select_one('div.list_netizen_score > em').text.strip()\n",
    "            comment = td.select_one('br').next_sibling.strip()\n",
    "            \n",
    "            comment_list.append((movie_title, link, score, comment))\n",
    "            \n",
    "        # 크롤링 시 너무 자주 접근하면 사이트가 접근 방지할 수 있으므로 딜레이 걸어줌\n",
    "        interval = round(random.uniform(0.2, 1.2), 2)\n",
    "        time.sleep(interval)\n",
    "        \n",
    "print(\"finish\")"
   ]
  },
  {
   "cell_type": "code",
   "execution_count": 10,
   "metadata": {},
   "outputs": [],
   "source": [
    "import pandas as pd"
   ]
  },
  {
   "cell_type": "code",
   "execution_count": 11,
   "metadata": {},
   "outputs": [
    {
     "data": {
      "text/html": [
       "<div>\n",
       "<style scoped>\n",
       "    .dataframe tbody tr th:only-of-type {\n",
       "        vertical-align: middle;\n",
       "    }\n",
       "\n",
       "    .dataframe tbody tr th {\n",
       "        vertical-align: top;\n",
       "    }\n",
       "\n",
       "    .dataframe thead th {\n",
       "        text-align: right;\n",
       "    }\n",
       "</style>\n",
       "<table border=\"1\" class=\"dataframe\">\n",
       "  <thead>\n",
       "    <tr style=\"text-align: right;\">\n",
       "      <th></th>\n",
       "      <th>title</th>\n",
       "      <th>link</th>\n",
       "      <th>score</th>\n",
       "      <th>review</th>\n",
       "    </tr>\n",
       "  </thead>\n",
       "  <tbody>\n",
       "    <tr>\n",
       "      <th>0</th>\n",
       "      <td>담보</td>\n",
       "      <td>https://movie.naver.com/movie/point/af/list.na...</td>\n",
       "      <td>9</td>\n",
       "      <td>너무 감동적이고 눈물콧물..딱 마지막 갈때쯔음 억지 스토리만 빼면 짱!</td>\n",
       "    </tr>\n",
       "    <tr>\n",
       "      <th>1</th>\n",
       "      <td>듄</td>\n",
       "      <td>https://movie.naver.com/movie/point/af/list.na...</td>\n",
       "      <td>10</td>\n",
       "      <td>이 시리즈 영원히 안 끝났으면 좋겠다..SF영화 중 최고...</td>\n",
       "    </tr>\n",
       "    <tr>\n",
       "      <th>2</th>\n",
       "      <td>레지스탕스</td>\n",
       "      <td>https://movie.naver.com/movie/point/af/list.na...</td>\n",
       "      <td>10</td>\n",
       "      <td>코로나 시기에 개봉이 안타깝다.나치나 일본 학살군이나 미치광이들의 지구 흔들기였다....</td>\n",
       "    </tr>\n",
       "    <tr>\n",
       "      <th>3</th>\n",
       "      <td>듄</td>\n",
       "      <td>https://movie.naver.com/movie/point/af/list.na...</td>\n",
       "      <td>8</td>\n",
       "      <td>배경음악때문에몰입감이대박인영화</td>\n",
       "    </tr>\n",
       "    <tr>\n",
       "      <th>4</th>\n",
       "      <td>클래식</td>\n",
       "      <td>https://movie.naver.com/movie/point/af/list.na...</td>\n",
       "      <td>10</td>\n",
       "      <td>처음부터 끝까지 감정선이 너무 좋았다.다시 개봉을 해도 손색이 없는 작품.조승우 손...</td>\n",
       "    </tr>\n",
       "  </tbody>\n",
       "</table>\n",
       "</div>"
      ],
      "text/plain": [
       "   title                                               link score  \\\n",
       "0     담보  https://movie.naver.com/movie/point/af/list.na...     9   \n",
       "1      듄  https://movie.naver.com/movie/point/af/list.na...    10   \n",
       "2  레지스탕스  https://movie.naver.com/movie/point/af/list.na...    10   \n",
       "3      듄  https://movie.naver.com/movie/point/af/list.na...     8   \n",
       "4    클래식  https://movie.naver.com/movie/point/af/list.na...    10   \n",
       "\n",
       "                                              review  \n",
       "0            너무 감동적이고 눈물콧물..딱 마지막 갈때쯔음 억지 스토리만 빼면 짱!  \n",
       "1                 이 시리즈 영원히 안 끝났으면 좋겠다..SF영화 중 최고...  \n",
       "2  코로나 시기에 개봉이 안타깝다.나치나 일본 학살군이나 미치광이들의 지구 흔들기였다....  \n",
       "3                                   배경음악때문에몰입감이대박인영화  \n",
       "4  처음부터 끝까지 감정선이 너무 좋았다.다시 개봉을 해도 손색이 없는 작품.조승우 손...  "
      ]
     },
     "execution_count": 11,
     "metadata": {},
     "output_type": "execute_result"
    }
   ],
   "source": [
    "df = pd.DataFrame(comment_list, columns=['title', 'link', 'score', 'review'])\n",
    "df.head()"
   ]
  },
  {
   "cell_type": "code",
   "execution_count": 12,
   "metadata": {},
   "outputs": [
    {
     "name": "stdout",
     "output_type": "stream",
     "text": [
      "<class 'pandas.core.frame.DataFrame'>\n",
      "RangeIndex: 10000 entries, 0 to 9999\n",
      "Data columns (total 4 columns):\n",
      " #   Column  Non-Null Count  Dtype \n",
      "---  ------  --------------  ----- \n",
      " 0   title   10000 non-null  object\n",
      " 1   link    10000 non-null  object\n",
      " 2   score   10000 non-null  object\n",
      " 3   review  10000 non-null  object\n",
      "dtypes: object(4)\n",
      "memory usage: 312.6+ KB\n"
     ]
    }
   ],
   "source": [
    "df.info()"
   ]
  },
  {
   "cell_type": "code",
   "execution_count": 13,
   "metadata": {},
   "outputs": [],
   "source": [
    "df.to_csv('naver_movie_review_1102.csv', encoding='euckr', index=False)"
   ]
  },
  {
   "cell_type": "markdown",
   "metadata": {},
   "source": [
    "# 특정 영화 리뷰 데이터 크롤링"
   ]
  },
  {
   "cell_type": "code",
   "execution_count": 26,
   "metadata": {},
   "outputs": [],
   "source": [
    "base_url = \"https://movie.naver.com/movie/point/af/list.naver?st=mcode&sword=113170&target=after&page={}\"\n",
    "url = base_url.format(1)"
   ]
  },
  {
   "cell_type": "code",
   "execution_count": 27,
   "metadata": {},
   "outputs": [],
   "source": [
    "res = requests.get(url)"
   ]
  },
  {
   "cell_type": "code",
   "execution_count": 28,
   "metadata": {},
   "outputs": [
    {
     "name": "stdout",
     "output_type": "stream",
     "text": [
      "10\n",
      "마담 프루스트의 비밀정원 :: https://movie.naver.com/movie/point/af/list.naver?st=mcode&sword=113170&target=after&page={} :: 9 :: 추천 받아서 봤는데 생각보다 매우 좋았어요. 추천합니다.\n",
      "-------------------------------------------------------\n",
      "마담 프루스트의 비밀정원 :: https://movie.naver.com/movie/point/af/list.naver?st=mcode&sword=113170&target=after&page={} :: 10 :: 내 인생 3대영화아바타, 프로메테우스 그리고 마담프루스\n",
      "-------------------------------------------------------\n",
      "마담 프루스트의 비밀정원 :: https://movie.naver.com/movie/point/af/list.naver?st=mcode&sword=113170&target=after&page={} :: 10 :: 나중에 자식을 낳았을때 아이가 15살이 되면 보여주고 싶은 영화\n",
      "-------------------------------------------------------\n",
      "마담 프루스트의 비밀정원 :: https://movie.naver.com/movie/point/af/list.naver?st=mcode&sword=113170&target=after&page={} :: 10 :: 진짜 좋은영화 잔잔하면서도 주옥같은 ost\n",
      "-------------------------------------------------------\n",
      "마담 프루스트의 비밀정원 :: https://movie.naver.com/movie/point/af/list.naver?st=mcode&sword=113170&target=after&page={} :: 7 :: 음악 소리와 힐링하는 과정이 아름다운 잔잔한 영화\n",
      "-------------------------------------------------------\n",
      "마담 프루스트의 비밀정원 :: https://movie.naver.com/movie/point/af/list.naver?st=mcode&sword=113170&target=after&page={} :: 10 :: 진심으로 행복해졌다.\n",
      "-------------------------------------------------------\n",
      "마담 프루스트의 비밀정원 :: https://movie.naver.com/movie/point/af/list.naver?st=mcode&sword=113170&target=after&page={} :: 10 :: 슬픔을 평화로 승화시키는 프랑스식 영화\n",
      "-------------------------------------------------------\n",
      "마담 프루스트의 비밀정원 :: https://movie.naver.com/movie/point/af/list.naver?st=mcode&sword=113170&target=after&page={} :: 9 :: 잔잔한 감동 프랑스영ㅇ화만의 갬성\n",
      "-------------------------------------------------------\n",
      "마담 프루스트의 비밀정원 :: https://movie.naver.com/movie/point/af/list.naver?st=mcode&sword=113170&target=after&page={} :: 10 :: o.s.t넘 좋아요. 피아노 유튜브에서 찾아봤어요. 좋아요\n",
      "-------------------------------------------------------\n",
      "마담 프루스트의 비밀정원 :: https://movie.naver.com/movie/point/af/list.naver?st=mcode&sword=113170&target=after&page={} :: 10 :: 여운이 남는 아름다운 영화\n",
      "-------------------------------------------------------\n"
     ]
    }
   ],
   "source": [
    "if res.status_code == 200:\n",
    "    soup = BeautifulSoup(res.text)\n",
    "    tds = soup.select('table.list_netizen > tbody > tr > td.title')\n",
    "    print(len(tds))\n",
    "    \n",
    "    for td in tds:\n",
    "        movie_title = td.select_one('a.movie').text.strip()\n",
    "        link = td.select_one('a.movie').get('herf')\n",
    "        link = parse.urljoin(base_url, link)\n",
    "        score = td.select_one('div.list_netizen_score > em').text.strip()\n",
    "        comment = td.select_one('br').next_sibling.strip()\n",
    "        print(movie_title, link, score, comment, sep=' :: ')\n",
    "        print('-------------------------------------------------------')"
   ]
  },
  {
   "cell_type": "code",
   "execution_count": 17,
   "metadata": {},
   "outputs": [
    {
     "data": {
      "text/plain": [
       "0.9894644113514122"
      ]
     },
     "execution_count": 17,
     "metadata": {},
     "output_type": "execute_result"
    }
   ],
   "source": [
    "random.uniform(0.2, 1.2)"
   ]
  },
  {
   "cell_type": "code",
   "execution_count": 18,
   "metadata": {},
   "outputs": [],
   "source": [
    "base_url = \"https://movie.naver.com/movie/point/af/list.naver?st=mcode&sword=113170&target=after&page={}\""
   ]
  },
  {
   "cell_type": "code",
   "execution_count": 19,
   "metadata": {},
   "outputs": [],
   "source": [
    "# 결과 저장 list\n",
    "comment_list = []"
   ]
  },
  {
   "cell_type": "code",
   "execution_count": 20,
   "metadata": {},
   "outputs": [
    {
     "name": "stdout",
     "output_type": "stream",
     "text": [
      "finish\n"
     ]
    }
   ],
   "source": [
    "for page in range(1, 250):\n",
    "    url = base_url.format(page)\n",
    "    res = requests.get(url)\n",
    "    \n",
    "    if res.status_code == 200:\n",
    "        soup = BeautifulSoup(res.text, 'lxml')\n",
    "        tds = soup.select('table.list_netizen > tbody > tr > td.title')\n",
    "        \n",
    "        for td in tds:\n",
    "            movie_title = td.select_one('a.movie').text.strip()\n",
    "            link = td.select_one('a.movie').get('herf')\n",
    "            link = parse.urljoin(base_url, link)\n",
    "            score = td.select_one('div.list_netizen_score > em').text.strip()\n",
    "            comment = td.select_one('br').next_sibling.strip()\n",
    "            \n",
    "            comment_list.append((movie_title, link, score, comment))\n",
    "            \n",
    "        # 크롤링 시 너무 자주 접근하면 사이트가 접근 방지할 수 있으므로 딜레이 걸어줌\n",
    "        interval = round(random.uniform(0.2, 1.2), 2)\n",
    "        time.sleep(interval)\n",
    "        \n",
    "print(\"finish\")"
   ]
  },
  {
   "cell_type": "code",
   "execution_count": 10,
   "metadata": {},
   "outputs": [],
   "source": [
    "import pandas as pd"
   ]
  },
  {
   "cell_type": "code",
   "execution_count": 21,
   "metadata": {},
   "outputs": [
    {
     "data": {
      "text/html": [
       "<div>\n",
       "<style scoped>\n",
       "    .dataframe tbody tr th:only-of-type {\n",
       "        vertical-align: middle;\n",
       "    }\n",
       "\n",
       "    .dataframe tbody tr th {\n",
       "        vertical-align: top;\n",
       "    }\n",
       "\n",
       "    .dataframe thead th {\n",
       "        text-align: right;\n",
       "    }\n",
       "</style>\n",
       "<table border=\"1\" class=\"dataframe\">\n",
       "  <thead>\n",
       "    <tr style=\"text-align: right;\">\n",
       "      <th></th>\n",
       "      <th>title</th>\n",
       "      <th>link</th>\n",
       "      <th>score</th>\n",
       "      <th>review</th>\n",
       "    </tr>\n",
       "  </thead>\n",
       "  <tbody>\n",
       "    <tr>\n",
       "      <th>0</th>\n",
       "      <td>마담 프루스트의 비밀정원</td>\n",
       "      <td>https://movie.naver.com/movie/point/af/list.na...</td>\n",
       "      <td>9</td>\n",
       "      <td>추천 받아서 봤는데 생각보다 매우 좋았어요. 추천합니다.</td>\n",
       "    </tr>\n",
       "    <tr>\n",
       "      <th>1</th>\n",
       "      <td>마담 프루스트의 비밀정원</td>\n",
       "      <td>https://movie.naver.com/movie/point/af/list.na...</td>\n",
       "      <td>10</td>\n",
       "      <td>내 인생 3대영화아바타, 프로메테우스 그리고 마담프루스</td>\n",
       "    </tr>\n",
       "    <tr>\n",
       "      <th>2</th>\n",
       "      <td>마담 프루스트의 비밀정원</td>\n",
       "      <td>https://movie.naver.com/movie/point/af/list.na...</td>\n",
       "      <td>10</td>\n",
       "      <td>나중에 자식을 낳았을때 아이가 15살이 되면 보여주고 싶은 영화</td>\n",
       "    </tr>\n",
       "    <tr>\n",
       "      <th>3</th>\n",
       "      <td>마담 프루스트의 비밀정원</td>\n",
       "      <td>https://movie.naver.com/movie/point/af/list.na...</td>\n",
       "      <td>10</td>\n",
       "      <td>진짜 좋은영화 잔잔하면서도 주옥같은 ost</td>\n",
       "    </tr>\n",
       "    <tr>\n",
       "      <th>4</th>\n",
       "      <td>마담 프루스트의 비밀정원</td>\n",
       "      <td>https://movie.naver.com/movie/point/af/list.na...</td>\n",
       "      <td>7</td>\n",
       "      <td>음악 소리와 힐링하는 과정이 아름다운 잔잔한 영화</td>\n",
       "    </tr>\n",
       "  </tbody>\n",
       "</table>\n",
       "</div>"
      ],
      "text/plain": [
       "           title                                               link score  \\\n",
       "0  마담 프루스트의 비밀정원  https://movie.naver.com/movie/point/af/list.na...     9   \n",
       "1  마담 프루스트의 비밀정원  https://movie.naver.com/movie/point/af/list.na...    10   \n",
       "2  마담 프루스트의 비밀정원  https://movie.naver.com/movie/point/af/list.na...    10   \n",
       "3  마담 프루스트의 비밀정원  https://movie.naver.com/movie/point/af/list.na...    10   \n",
       "4  마담 프루스트의 비밀정원  https://movie.naver.com/movie/point/af/list.na...     7   \n",
       "\n",
       "                                review  \n",
       "0      추천 받아서 봤는데 생각보다 매우 좋았어요. 추천합니다.  \n",
       "1       내 인생 3대영화아바타, 프로메테우스 그리고 마담프루스  \n",
       "2  나중에 자식을 낳았을때 아이가 15살이 되면 보여주고 싶은 영화  \n",
       "3              진짜 좋은영화 잔잔하면서도 주옥같은 ost  \n",
       "4          음악 소리와 힐링하는 과정이 아름다운 잔잔한 영화  "
      ]
     },
     "execution_count": 21,
     "metadata": {},
     "output_type": "execute_result"
    }
   ],
   "source": [
    "df = pd.DataFrame(comment_list, columns=['title', 'link', 'score', 'review'])\n",
    "df.head()"
   ]
  },
  {
   "cell_type": "code",
   "execution_count": 22,
   "metadata": {},
   "outputs": [
    {
     "name": "stdout",
     "output_type": "stream",
     "text": [
      "<class 'pandas.core.frame.DataFrame'>\n",
      "RangeIndex: 2490 entries, 0 to 2489\n",
      "Data columns (total 4 columns):\n",
      " #   Column  Non-Null Count  Dtype \n",
      "---  ------  --------------  ----- \n",
      " 0   title   2490 non-null   object\n",
      " 1   link    2490 non-null   object\n",
      " 2   score   2490 non-null   object\n",
      " 3   review  2490 non-null   object\n",
      "dtypes: object(4)\n",
      "memory usage: 77.9+ KB\n"
     ]
    }
   ],
   "source": [
    "df.info()"
   ]
  },
  {
   "cell_type": "code",
   "execution_count": 29,
   "metadata": {},
   "outputs": [],
   "source": [
    "df.to_csv('naver_movie_review_1104_AttilaMarcel.csv', encoding='euckr', index=False)"
   ]
  }
 ],
 "metadata": {
  "kernelspec": {
   "display_name": "Python 3",
   "language": "python",
   "name": "python3"
  },
  "language_info": {
   "codemirror_mode": {
    "name": "ipython",
    "version": 3
   },
   "file_extension": ".py",
   "mimetype": "text/x-python",
   "name": "python",
   "nbconvert_exporter": "python",
   "pygments_lexer": "ipython3",
   "version": "3.8.5"
  }
 },
 "nbformat": 4,
 "nbformat_minor": 4
}
