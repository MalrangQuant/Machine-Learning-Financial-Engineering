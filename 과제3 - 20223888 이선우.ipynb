{
 "cells": [
  {
   "cell_type": "code",
   "execution_count": 1,
   "metadata": {},
   "outputs": [],
   "source": [
    "import numpy as np\n",
    "import pandas as pd\n",
    "import matplotlib.pyplot as plt\n",
    "import seaborn as sns\n",
    "from warnings import filterwarnings\n",
    "\n",
    "filterwarnings('ignore')"
   ]
  },
  {
   "cell_type": "markdown",
   "metadata": {},
   "source": [
    "## 1번\n",
    "\n",
    "<img src='Tree Sketch.jpeg' size=600>"
   ]
  },
  {
   "cell_type": "markdown",
   "metadata": {},
   "source": [
    "## 2번\n",
    "다음과 같은 자료, $ X < c, X \\geq c $  분할 기준, 왼쪽 오른쪽 마디 구분"
   ]
  },
  {
   "cell_type": "code",
   "execution_count": 2,
   "metadata": {},
   "outputs": [],
   "source": [
    "X = np.array([1, 3, 3, 4, 5, 5, 6, 6, 7, 8, 9])\n",
    "Y = np.array([0, 0, 1, 0, 0, 1, 0, 1, 1, 1, 1])\n",
    "\n",
    "test = np.vstack([X, Y]).T"
   ]
  },
  {
   "cell_type": "code",
   "execution_count": 3,
   "metadata": {},
   "outputs": [
    {
     "data": {
      "text/html": [
       "<div>\n",
       "<style scoped>\n",
       "    .dataframe tbody tr th:only-of-type {\n",
       "        vertical-align: middle;\n",
       "    }\n",
       "\n",
       "    .dataframe tbody tr th {\n",
       "        vertical-align: top;\n",
       "    }\n",
       "\n",
       "    .dataframe thead th {\n",
       "        text-align: right;\n",
       "    }\n",
       "</style>\n",
       "<table border=\"1\" class=\"dataframe\">\n",
       "  <thead>\n",
       "    <tr style=\"text-align: right;\">\n",
       "      <th></th>\n",
       "      <th>X</th>\n",
       "      <th>Y</th>\n",
       "      <th>c=5</th>\n",
       "      <th>c=7</th>\n",
       "    </tr>\n",
       "  </thead>\n",
       "  <tbody>\n",
       "    <tr>\n",
       "      <th>0</th>\n",
       "      <td>1</td>\n",
       "      <td>0</td>\n",
       "      <td>True</td>\n",
       "      <td>True</td>\n",
       "    </tr>\n",
       "    <tr>\n",
       "      <th>1</th>\n",
       "      <td>3</td>\n",
       "      <td>0</td>\n",
       "      <td>True</td>\n",
       "      <td>True</td>\n",
       "    </tr>\n",
       "    <tr>\n",
       "      <th>2</th>\n",
       "      <td>3</td>\n",
       "      <td>1</td>\n",
       "      <td>None</td>\n",
       "      <td>None</td>\n",
       "    </tr>\n",
       "    <tr>\n",
       "      <th>3</th>\n",
       "      <td>4</td>\n",
       "      <td>0</td>\n",
       "      <td>True</td>\n",
       "      <td>True</td>\n",
       "    </tr>\n",
       "    <tr>\n",
       "      <th>4</th>\n",
       "      <td>5</td>\n",
       "      <td>0</td>\n",
       "      <td>None</td>\n",
       "      <td>True</td>\n",
       "    </tr>\n",
       "    <tr>\n",
       "      <th>5</th>\n",
       "      <td>5</td>\n",
       "      <td>1</td>\n",
       "      <td>True</td>\n",
       "      <td>None</td>\n",
       "    </tr>\n",
       "    <tr>\n",
       "      <th>6</th>\n",
       "      <td>6</td>\n",
       "      <td>0</td>\n",
       "      <td>None</td>\n",
       "      <td>True</td>\n",
       "    </tr>\n",
       "    <tr>\n",
       "      <th>7</th>\n",
       "      <td>6</td>\n",
       "      <td>1</td>\n",
       "      <td>True</td>\n",
       "      <td>None</td>\n",
       "    </tr>\n",
       "    <tr>\n",
       "      <th>8</th>\n",
       "      <td>7</td>\n",
       "      <td>1</td>\n",
       "      <td>True</td>\n",
       "      <td>True</td>\n",
       "    </tr>\n",
       "    <tr>\n",
       "      <th>9</th>\n",
       "      <td>8</td>\n",
       "      <td>1</td>\n",
       "      <td>True</td>\n",
       "      <td>True</td>\n",
       "    </tr>\n",
       "    <tr>\n",
       "      <th>10</th>\n",
       "      <td>9</td>\n",
       "      <td>1</td>\n",
       "      <td>True</td>\n",
       "      <td>True</td>\n",
       "    </tr>\n",
       "  </tbody>\n",
       "</table>\n",
       "</div>"
      ],
      "text/plain": [
       "    X  Y   c=5   c=7\n",
       "0   1  0  True  True\n",
       "1   3  0  True  True\n",
       "2   3  1  None  None\n",
       "3   4  0  True  True\n",
       "4   5  0  None  True\n",
       "5   5  1  True  None\n",
       "6   6  0  None  True\n",
       "7   6  1  True  None\n",
       "8   7  1  True  True\n",
       "9   8  1  True  True\n",
       "10  9  1  True  True"
      ]
     },
     "execution_count": 3,
     "metadata": {},
     "output_type": "execute_result"
    }
   ],
   "source": [
    "tmp = pd.DataFrame(data=[X,Y], index=['X', 'Y']).T\n",
    "tmp['c=5'] = np.where(np.where(tmp['X']<5, 0, 1) - tmp['Y'] == 0, True, None)\n",
    "tmp['c=7'] = np.where(np.where(tmp['X']<7, 0, 1) - tmp['Y'] == 0, True, None)\n",
    "tmp"
   ]
  },
  {
   "cell_type": "code",
   "execution_count": 4,
   "metadata": {},
   "outputs": [
    {
     "data": {
      "text/plain": [
       "0.4958677685950414"
      ]
     },
     "execution_count": 4,
     "metadata": {},
     "output_type": "execute_result"
    }
   ],
   "source": [
    "'''부모마디의 지니 불순도'''\n",
    "gini_imp = 1 - (tmp[tmp['Y'] == 0]['Y'].count()/len(tmp))**2\\\n",
    "             - (tmp[tmp['Y'] == 1]['Y'].count()/len(tmp))**2\n",
    "gini_imp"
   ]
  },
  {
   "cell_type": "code",
   "execution_count": 5,
   "metadata": {},
   "outputs": [
    {
     "name": "stdout",
     "output_type": "stream",
     "text": [
      "Gini Impurity when c=5 : 0.3961\n",
      "Gini Impurity Improvement : 0.0998\n"
     ]
    }
   ],
   "source": [
    "'''c=5, gini'''\n",
    "gini_1 = 1 - (tmp['c=5'].iloc[:4].count()/len(tmp.iloc[:4]))**2\\\n",
    "           - (tmp['c=5'].iloc[:4].isnull().sum()/len(tmp.iloc[:4]))**2\n",
    "gini_2 = 1 - (tmp['c=5'].iloc[4:].count()/len(tmp.iloc[4:]))**2\\\n",
    "           - (tmp['c=5'].iloc[4:].isnull().sum()/len(tmp.iloc[4:]))**2\n",
    "\n",
    "gini_1, gini_2\n",
    "\n",
    "gini_impurity = (len(tmp['c=5'].iloc[:4])/len(tmp)) * gini_1 + (len(tmp['c=5'].iloc[4:])/len(tmp)) * gini_2\n",
    "print(f'Gini Impurity when c=5 : {np.round(gini_impurity,4)}')\n",
    "print(f'Gini Impurity Improvement : {np.round(gini_imp - gini_impurity, 4)}')\n"
   ]
  },
  {
   "cell_type": "code",
   "execution_count": 6,
   "metadata": {},
   "outputs": [
    {
     "name": "stdout",
     "output_type": "stream",
     "text": [
      "Gini Impurity when c=7 : 0.3409\n",
      "Gini Impurity Improvement : 0.155\n"
     ]
    }
   ],
   "source": [
    "'''c=7, gini'''\n",
    "gini_3 = 1 - (tmp['c=7'].iloc[:8].count()/len(tmp.iloc[:8]))**2\\\n",
    "           - (tmp['c=7'].iloc[:8].isnull().sum()/len(tmp.iloc[:8]))**2\n",
    "gini_4 = 1 - (tmp['c=7'].iloc[8:].count()/len(tmp.iloc[8:]))**2\\\n",
    "           - (tmp['c=7'].iloc[8:].isnull().sum()/len(tmp.iloc[8:]))**2\n",
    "gini_3, gini_4\n",
    "\n",
    "gini_impurity_2 = (len(tmp['c=7'].iloc[:8])/len(tmp)) * gini_3 + (len(tmp['c=7'].iloc[8:])/len(tmp)) * gini_4\n",
    "print(f'Gini Impurity when c=7 : {np.round(gini_impurity_2,4)}')\n",
    "print(f'Gini Impurity Improvement : {np.round(gini_imp - gini_impurity_2, 4)}')"
   ]
  },
  {
   "cell_type": "markdown",
   "metadata": {},
   "source": [
    "따라서 c가 7일 때, 지니 불순도가 더 개선된다."
   ]
  },
  {
   "cell_type": "markdown",
   "metadata": {},
   "source": [
    "## 3번\n",
    "\n",
    "Churn_Modelling.csv"
   ]
  },
  {
   "cell_type": "code",
   "execution_count": 7,
   "metadata": {},
   "outputs": [],
   "source": [
    "raw_df = pd.read_csv('./Data/Churn_Modelling.csv', index_col=0)"
   ]
  },
  {
   "cell_type": "code",
   "execution_count": 8,
   "metadata": {},
   "outputs": [],
   "source": [
    "X = raw_df[['Age', 'Balance', 'CreditScore', 'EstimatedSalary',\\\n",
    "            'NumOfProducts', 'Tenure', 'Gender', 'HasCrCard', 'IsActiveMember']]\n",
    "Y = raw_df['Exited']\n",
    "X['Gender'] = np.where(X['Gender'] == 'Male', 0, 1).copy()"
   ]
  },
  {
   "cell_type": "code",
   "execution_count": 9,
   "metadata": {},
   "outputs": [
    {
     "data": {
      "text/plain": [
       "0    7963\n",
       "1    2037\n",
       "Name: Exited, dtype: int64"
      ]
     },
     "execution_count": 9,
     "metadata": {},
     "output_type": "execute_result"
    }
   ],
   "source": [
    "Y.value_counts()"
   ]
  },
  {
   "cell_type": "markdown",
   "metadata": {},
   "source": [
    "### 3-(1) 분리"
   ]
  },
  {
   "cell_type": "code",
   "execution_count": 10,
   "metadata": {},
   "outputs": [
    {
     "data": {
      "text/plain": [
       "((7000, 9), (3000, 9), (7000,), (3000,))"
      ]
     },
     "execution_count": 10,
     "metadata": {},
     "output_type": "execute_result"
    }
   ],
   "source": [
    "from sklearn.model_selection import train_test_split\n",
    "\n",
    "X_train, X_val, y_train, y_val = train_test_split(X, Y, train_size=0.7, random_state=100, shuffle=True)\n",
    "\n",
    "X_train.shape, X_val.shape, y_train.shape, y_val.shape\n"
   ]
  },
  {
   "cell_type": "markdown",
   "metadata": {},
   "source": [
    "### 3-(2) Adaboost"
   ]
  },
  {
   "cell_type": "code",
   "execution_count": 11,
   "metadata": {},
   "outputs": [
    {
     "name": "stdout",
     "output_type": "stream",
     "text": [
      "20 0.8493333333333334\n"
     ]
    }
   ],
   "source": [
    "from sklearn.ensemble import AdaBoostClassifier\n",
    "from sklearn.tree import DecisionTreeClassifier\n",
    "from sklearn.metrics import accuracy_score\n",
    "\n",
    "ada = AdaBoostClassifier(DecisionTreeClassifier(max_depth=2),\\\n",
    "                         n_estimators=50, random_state=100,\n",
    "                         algorithm='SAMME.R')\n",
    "ada.fit(X_train, y_train)\n",
    "init_reg = accuracy_score(y_val, ada.predict(X_val))\n",
    "acc = [accuracy_score(y_val, y_valpred) for y_valpred in ada.staged_predict(X_val)]\n",
    "bst_n_estimators = np.argmax(acc)\n",
    "\n",
    "print(bst_n_estimators, init_reg)"
   ]
  },
  {
   "cell_type": "code",
   "execution_count": 12,
   "metadata": {},
   "outputs": [
    {
     "data": {
      "image/png": "[encoded data removed]",
      "text/plain": [
       "<Figure size 640x480 with 1 Axes>"
      ]
     },
     "metadata": {},
     "output_type": "display_data"
    }
   ],
   "source": [
    "import matplotlib.pyplot as plt\n",
    "plt.plot(acc)\n",
    "plt.xlabel('m')\n",
    "plt.ylabel('accuracy')\n",
    "plt.title('Accuracy with n_estimators', size=20)\n",
    "plt.show()"
   ]
  },
  {
   "cell_type": "code",
   "execution_count": 13,
   "metadata": {},
   "outputs": [
    {
     "data": {
      "text/plain": [
       "0.858"
      ]
     },
     "execution_count": 13,
     "metadata": {},
     "output_type": "execute_result"
    }
   ],
   "source": [
    "ada_best = AdaBoostClassifier(DecisionTreeClassifier(max_depth=2),\\\n",
    "                         n_estimators=bst_n_estimators, random_state=2,\n",
    "                         algorithm='SAMME.R')\n",
    "ada_best.fit(X_train, y_train)\n",
    "accuracy_score(y_val, ada_best.predict(X_val))"
   ]
  },
  {
   "cell_type": "markdown",
   "metadata": {},
   "source": [
    "### 3-(3) Feature Importance"
   ]
  },
  {
   "cell_type": "code",
   "execution_count": 14,
   "metadata": {},
   "outputs": [
    {
     "data": {
      "image/png": "[encoded data removed]",
      "text/plain": [
       "<Figure size 800x600 with 1 Axes>"
      ]
     },
     "metadata": {},
     "output_type": "display_data"
    }
   ],
   "source": [
    "import seaborn as sns\n",
    "\n",
    "imp_values = pd.Series(ada_best.feature_importances_, index=X_train.columns)\n",
    "imp_values = imp_values.sort_values(ascending=False)\n",
    "plt.figure( figsize=(8,6) )\n",
    "plt.title('Feature Importance', size=20)\n",
    "sns.barplot(x=imp_values, y=imp_values.index)\n",
    "plt.show()"
   ]
  },
  {
   "cell_type": "markdown",
   "metadata": {},
   "source": [
    "중요한 변수는, 순서대로, 'AGE', 'Balance', 'CreditScore' 이다"
   ]
  },
  {
   "cell_type": "markdown",
   "metadata": {},
   "source": [
    "## 4번"
   ]
  },
  {
   "cell_type": "markdown",
   "metadata": {},
   "source": [
    "> 답) 1번 2번\n",
    "\n",
    "배깅은 일부러 왜곡된 데이터를 만들고, (부트스트랩) 노이즈가 다른 분포를 가지는 학습기들을 만들어 결합함으로써 변동으로 인한 영향을 줄일 수 있다."
   ]
  },
  {
   "cell_type": "markdown",
   "metadata": {},
   "source": [
    "## 5번"
   ]
  },
  {
   "cell_type": "markdown",
   "metadata": {},
   "source": [
    "### PCA\n",
    "\n",
    "$$\\text{COV}_{matrix}=P\\Sigma P^{T}$$\n",
    "\n",
    "P는 고유벡터(고유값 순으로 정렬된 것), $\\Sigma$ 는 diagonal한 고유값 행렬"
   ]
  },
  {
   "cell_type": "code",
   "execution_count": 15,
   "metadata": {},
   "outputs": [],
   "source": [
    "cov = np.array([[4, 2, 0 ],\n",
    "                [2, 9, 6 ],\n",
    "                [0, 6, 16]])\n",
    "\n",
    "eig_value, eig_vector = np.linalg.eig(cov)\n",
    "'''Eigenvalues and vectors sorting'''\n",
    "idx = eig_value.argsort()[::-1]\n",
    "eig_value = eig_value[idx]\n",
    "eig_vector = eig_vector[:,idx]"
   ]
  },
  {
   "cell_type": "code",
   "execution_count": 16,
   "metadata": {},
   "outputs": [
    {
     "name": "stdout",
     "output_type": "stream",
     "text": [
      "[0.065 0.504 0.861]\n",
      "[-0.535 -0.711  0.456]\n",
      "[-0.842  0.491 -0.224]\n"
     ]
    }
   ],
   "source": [
    "'''주성분'''\n",
    "print(np.round(eig_vector[:,0],3),\n",
    "      np.round(eig_vector[:,1],3),\n",
    "      np.round(eig_vector[:,2],3), sep='\\n')"
   ]
  },
  {
   "cell_type": "markdown",
   "metadata": {},
   "source": [
    "PCA를 통해 구한 주성분 <br>\n",
    "\n",
    "$주성분_1 = + 0.065 x_1 + 0.504 x_2 + 0.861 x_3$ <br>\n",
    "$주성분_2 = -0.535 x_1 - 0.711 x_2 + 0.456 x_3$ <br>\n",
    "$주성분_3 = -0.842 x_1 + 0.491 x_2 - 0.224 x_3$ <br>"
   ]
  },
  {
   "cell_type": "code",
   "execution_count": 17,
   "metadata": {},
   "outputs": [
    {
     "name": "stdout",
     "output_type": "stream",
     "text": [
      "[0.673 0.229 0.098]\n"
     ]
    }
   ],
   "source": [
    "'''Explained Variance Ratio'''\n",
    "explained_variance = []\n",
    "\n",
    "for i in range(len(eig_value)):\n",
    "    explained_variance.append(eig_value[i] / np.sum(eig_value))\n",
    "\n",
    "print(np.round(explained_variance,3))"
   ]
  },
  {
   "cell_type": "markdown",
   "metadata": {},
   "source": [
    "주성분 별 Explained Ratio\n",
    "\n",
    "$주성분_1 = 0.673 = 67.3\\%$ <br>\n",
    "$주성분_2 = 0.229 = 22.9\\%$ <br>\n",
    "$주성분_3 = 0.098 = 9.80\\%$ <br>\n"
   ]
  },
  {
   "cell_type": "markdown",
   "metadata": {},
   "source": [
    "## 6번\n",
    "상관행렬을 이용한 주성분 분석 : 표준화 변수를 이용한 공분산 행렬을 주성분 분석에 활용"
   ]
  },
  {
   "cell_type": "markdown",
   "metadata": {},
   "source": [
    "### 6-(1): 첫 두개의 주성분 산출 식"
   ]
  },
  {
   "cell_type": "code",
   "execution_count": 18,
   "metadata": {},
   "outputs": [],
   "source": [
    "df = pd.read_csv('Data/PCAdata.csv')"
   ]
  },
  {
   "cell_type": "code",
   "execution_count": 19,
   "metadata": {},
   "outputs": [
    {
     "data": {
      "text/plain": [
       "array([[ 0.53589947,  0.58318363,  0.27819087,  0.54343209],\n",
       "       [ 0.41818087,  0.1879856 , -0.87280619, -0.16731864]])"
      ]
     },
     "execution_count": 19,
     "metadata": {},
     "output_type": "execute_result"
    }
   ],
   "source": [
    "from sklearn.preprocessing import StandardScaler\n",
    "from sklearn.decomposition import PCA\n",
    "\n",
    "df_scaled = StandardScaler().fit_transform(df)\n",
    "pca = PCA(n_components=4)\n",
    "pca.fit(df_scaled)\n",
    "df_pca = pca.transform(df_scaled)\n",
    "pca.components_[:2,]"
   ]
  },
  {
   "cell_type": "markdown",
   "metadata": {},
   "source": [
    "$주성분_1 = 0.536 x_1 + 0.583 x_2 + 0.278 x_3 + 0.543 x_4$ <br>\n",
    "$주성분_2 = 0.418 x_1 + 0.188 x_2 - 0.873 x_3 - 0.167 x_4$"
   ]
  },
  {
   "cell_type": "markdown",
   "metadata": {},
   "source": [
    "### 6-(2)"
   ]
  },
  {
   "cell_type": "code",
   "execution_count": 20,
   "metadata": {},
   "outputs": [
    {
     "data": {
      "text/plain": [
       "(86.75, array([0.62006039, 0.24744129]))"
      ]
     },
     "execution_count": 20,
     "metadata": {},
     "output_type": "execute_result"
    }
   ],
   "source": [
    "from sklearn.preprocessing import StandardScaler\n",
    "from sklearn.decomposition import PCA\n",
    "\n",
    "df_scaled = StandardScaler().fit_transform(df)\n",
    "pca = PCA(n_components=4)\n",
    "pca.fit(df_scaled)\n",
    "df_pca = pca.transform(df_scaled)\n",
    "np.round(pca.explained_variance_ratio_[0:2].sum(), 4) * 100,\\\n",
    "         pca.explained_variance_ratio_[0:2]"
   ]
  },
  {
   "cell_type": "markdown",
   "metadata": {},
   "source": [
    "첫 두개의 주성분은, 특성변수의 전체 변동 중 약 86.75%를 설명하고 있다. (62% & 24.74%)"
   ]
  },
  {
   "cell_type": "code",
   "execution_count": 21,
   "metadata": {},
   "outputs": [
    {
     "data": {
      "text/html": [
       "<div>\n",
       "<style scoped>\n",
       "    .dataframe tbody tr th:only-of-type {\n",
       "        vertical-align: middle;\n",
       "    }\n",
       "\n",
       "    .dataframe tbody tr th {\n",
       "        vertical-align: top;\n",
       "    }\n",
       "\n",
       "    .dataframe thead th {\n",
       "        text-align: right;\n",
       "    }\n",
       "</style>\n",
       "<table border=\"1\" class=\"dataframe\">\n",
       "  <thead>\n",
       "    <tr style=\"text-align: right;\">\n",
       "      <th></th>\n",
       "      <th>pca1</th>\n",
       "      <th>pca2</th>\n",
       "      <th>pca3</th>\n",
       "      <th>pca4</th>\n",
       "    </tr>\n",
       "  </thead>\n",
       "  <tbody>\n",
       "    <tr>\n",
       "      <th>0</th>\n",
       "      <td>0.985566</td>\n",
       "      <td>1.133392</td>\n",
       "      <td>-0.444269</td>\n",
       "      <td>0.156267</td>\n",
       "    </tr>\n",
       "    <tr>\n",
       "      <th>1</th>\n",
       "      <td>1.950138</td>\n",
       "      <td>1.073213</td>\n",
       "      <td>2.040003</td>\n",
       "      <td>-0.438583</td>\n",
       "    </tr>\n",
       "    <tr>\n",
       "      <th>2</th>\n",
       "      <td>1.763164</td>\n",
       "      <td>-0.745957</td>\n",
       "      <td>0.054781</td>\n",
       "      <td>-0.834653</td>\n",
       "    </tr>\n",
       "    <tr>\n",
       "      <th>3</th>\n",
       "      <td>-0.141420</td>\n",
       "      <td>1.119797</td>\n",
       "      <td>0.114574</td>\n",
       "      <td>-0.182811</td>\n",
       "    </tr>\n",
       "    <tr>\n",
       "      <th>4</th>\n",
       "      <td>2.523980</td>\n",
       "      <td>-1.542934</td>\n",
       "      <td>0.598557</td>\n",
       "      <td>-0.341996</td>\n",
       "    </tr>\n",
       "  </tbody>\n",
       "</table>\n",
       "</div>"
      ],
      "text/plain": [
       "       pca1      pca2      pca3      pca4\n",
       "0  0.985566  1.133392 -0.444269  0.156267\n",
       "1  1.950138  1.073213  2.040003 -0.438583\n",
       "2  1.763164 -0.745957  0.054781 -0.834653\n",
       "3 -0.141420  1.119797  0.114574 -0.182811\n",
       "4  2.523980 -1.542934  0.598557 -0.341996"
      ]
     },
     "execution_count": 21,
     "metadata": {},
     "output_type": "execute_result"
    }
   ],
   "source": [
    "pd.DataFrame(df_pca, index=df.index, columns=[f'pca{num+1}' for num in range(df.shape[1])]).head()"
   ]
  },
  {
   "cell_type": "markdown",
   "metadata": {},
   "source": [
    "### 6-(3) 첫 두개의 주성분 점수를 산점도를 이용해 시각화"
   ]
  },
  {
   "cell_type": "code",
   "execution_count": 22,
   "metadata": {},
   "outputs": [
    {
     "data": {
      "image/png": "[encoded data removed]",
      "text/plain": [
       "<Figure size 1000x1000 with 1 Axes>"
      ]
     },
     "metadata": {},
     "output_type": "display_data"
    }
   ],
   "source": [
    "plt.figure(figsize=(10, 10))\n",
    "plt.scatter(df_pca[:,0], df_pca[:,1])\n",
    "plt.xlabel('PCA_1')\n",
    "plt.ylabel('PCA_2')\n",
    "plt.show()"
   ]
  },
  {
   "cell_type": "markdown",
   "metadata": {},
   "source": [
    "### 6-(4)"
   ]
  },
  {
   "cell_type": "code",
   "execution_count": 23,
   "metadata": {},
   "outputs": [
    {
     "data": {
      "text/plain": [
       "<AxesSubplot:title={'center':'2st PC Loadings'}>"
      ]
     },
     "execution_count": 23,
     "metadata": {},
     "output_type": "execute_result"
    },
    {
     "data": {
      "image/png": "[encoded data removed]",
      "text/plain": [
       "<Figure size 600x500 with 1 Axes>"
      ]
     },
     "metadata": {},
     "output_type": "display_data"
    }
   ],
   "source": [
    "plt.figure(figsize=(6,5))\n",
    "plt.title('2st PC Loadings')\n",
    "sns.barplot(x=pca.components_[1], y=df.columns)"
   ]
  },
  {
   "cell_type": "markdown",
   "metadata": {},
   "source": [
    "두번째 주성분은 첫번째 주성분 다음으로 데이터의 변동이 큰 주성분이며, V3의 변수의 변동을 음의 방향으로 크게 반영하는 주성분이다. 첫번째 주성분과 비교했을 때, 각 특성변수 중, V3의 영향이 두드러지며, 음의 방향으로 이 V3 특성을 반영하고 있다."
   ]
  }
 ],
 "metadata": {
  "kernelspec": {
   "display_name": "Python 3 (ipykernel)",
   "language": "python",
   "name": "python3"
  },
  "language_info": {
   "codemirror_mode": {
    "name": "ipython",
    "version": 3
   },
   "file_extension": ".py",
   "mimetype": "text/x-python",
   "name": "python",
   "nbconvert_exporter": "python",
   "pygments_lexer": "ipython3",
   "version": "3.8.13"
  },
  "vscode": {
   "interpreter": {
    "hash": "e7b6214bfe3ce19b2336b5ee82fe9739f68968628bd5eb86b17deae08d37c2fd"
   }
  }
 },
 "nbformat": 4,
 "nbformat_minor": 2
}
