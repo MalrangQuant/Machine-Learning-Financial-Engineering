{
 "cells": [
  {
   "cell_type": "code",
   "execution_count": 2,
   "metadata": {},
   "outputs": [],
   "source": [
    "import pandas as pd"
   ]
  },
  {
   "cell_type": "markdown",
   "metadata": {},
   "source": [
    "# 데이터 결측값 확인 & 제거"
   ]
  },
  {
   "cell_type": "code",
   "execution_count": 3,
   "metadata": {},
   "outputs": [
    {
     "data": {
      "text/html": [
       "<div>\n",
       "<style scoped>\n",
       "    .dataframe tbody tr th:only-of-type {\n",
       "        vertical-align: middle;\n",
       "    }\n",
       "\n",
       "    .dataframe tbody tr th {\n",
       "        vertical-align: top;\n",
       "    }\n",
       "\n",
       "    .dataframe thead th {\n",
       "        text-align: right;\n",
       "    }\n",
       "</style>\n",
       "<table border=\"1\" class=\"dataframe\">\n",
       "  <thead>\n",
       "    <tr style=\"text-align: right;\">\n",
       "      <th></th>\n",
       "      <th>title</th>\n",
       "      <th>link</th>\n",
       "      <th>score</th>\n",
       "      <th>review</th>\n",
       "    </tr>\n",
       "  </thead>\n",
       "  <tbody>\n",
       "    <tr>\n",
       "      <th>0</th>\n",
       "      <td>극한직업</td>\n",
       "      <td>https://movie.naver.com/movie/bi/mi/pointWrite...</td>\n",
       "      <td>10</td>\n",
       "      <td>일단 진선규님께 박수갈채도 부족함 진짜 연기를 다양하게 잘하셔서 놀랐어요 오랜만에 ...</td>\n",
       "    </tr>\n",
       "    <tr>\n",
       "      <th>1</th>\n",
       "      <td>극한직업</td>\n",
       "      <td>https://movie.naver.com/movie/bi/mi/pointWrite...</td>\n",
       "      <td>8</td>\n",
       "      <td>류승룡 드디어 심폐소생술 성공!</td>\n",
       "    </tr>\n",
       "    <tr>\n",
       "      <th>2</th>\n",
       "      <td>극한직업</td>\n",
       "      <td>https://movie.naver.com/movie/bi/mi/pointWrite...</td>\n",
       "      <td>10</td>\n",
       "      <td>진짜 뻥안치고 ㅈㄴ 웃겼다</td>\n",
       "    </tr>\n",
       "    <tr>\n",
       "      <th>3</th>\n",
       "      <td>극한직업</td>\n",
       "      <td>https://movie.naver.com/movie/bi/mi/pointWrite...</td>\n",
       "      <td>10</td>\n",
       "      <td>계속 웃으면서 봤어요!\"지금까지 이런맛은 없었다이것은 갈비인가 통닭인가수원왕갈비통닭...</td>\n",
       "    </tr>\n",
       "    <tr>\n",
       "      <th>4</th>\n",
       "      <td>극한직업</td>\n",
       "      <td>https://movie.naver.com/movie/bi/mi/pointWrite...</td>\n",
       "      <td>10</td>\n",
       "      <td>지금까지 이런 영화는 없었다  이것은 영화인가 통닭광고인가</td>\n",
       "    </tr>\n",
       "    <tr>\n",
       "      <th>5</th>\n",
       "      <td>극한직업</td>\n",
       "      <td>https://movie.naver.com/movie/bi/mi/pointWrite...</td>\n",
       "      <td>10</td>\n",
       "      <td>간만에 정치색 안띠고 마냥 한국식으로 웃긴 영화다~류승룡도 완전 찰지고ㅋ흥해라</td>\n",
       "    </tr>\n",
       "    <tr>\n",
       "      <th>6</th>\n",
       "      <td>극한직업</td>\n",
       "      <td>https://movie.naver.com/movie/bi/mi/pointWrite...</td>\n",
       "      <td>8</td>\n",
       "      <td>아주그냥  진지한척 심오한척 메세지있는척 겉멋은잔뜩들고 막상 까보면 텅빈 영화들만 ...</td>\n",
       "    </tr>\n",
       "    <tr>\n",
       "      <th>7</th>\n",
       "      <td>극한직업</td>\n",
       "      <td>https://movie.naver.com/movie/bi/mi/pointWrite...</td>\n",
       "      <td>10</td>\n",
       "      <td>류승룡 좀비설 너무 웃겼어여</td>\n",
       "    </tr>\n",
       "    <tr>\n",
       "      <th>8</th>\n",
       "      <td>극한직업</td>\n",
       "      <td>https://movie.naver.com/movie/bi/mi/pointWrite...</td>\n",
       "      <td>10</td>\n",
       "      <td>마약반 형사들 각각 캐릭터가 확실했습니다. 겹치는 점도 없었고 조합도 너무 좋았습니...</td>\n",
       "    </tr>\n",
       "    <tr>\n",
       "      <th>9</th>\n",
       "      <td>극한직업</td>\n",
       "      <td>https://movie.naver.com/movie/bi/mi/pointWrite...</td>\n",
       "      <td>10</td>\n",
       "      <td>완전 내스타일.. 류승룡 영화 요즘 말아먹더니 이번엔 대박 웃기네 ㅋㅋ역시 갓승룡</td>\n",
       "    </tr>\n",
       "  </tbody>\n",
       "</table>\n",
       "</div>"
      ],
      "text/plain": [
       "  title                                               link  score  \\\n",
       "0  극한직업  https://movie.naver.com/movie/bi/mi/pointWrite...     10   \n",
       "1  극한직업  https://movie.naver.com/movie/bi/mi/pointWrite...      8   \n",
       "2  극한직업  https://movie.naver.com/movie/bi/mi/pointWrite...     10   \n",
       "3  극한직업  https://movie.naver.com/movie/bi/mi/pointWrite...     10   \n",
       "4  극한직업  https://movie.naver.com/movie/bi/mi/pointWrite...     10   \n",
       "5  극한직업  https://movie.naver.com/movie/bi/mi/pointWrite...     10   \n",
       "6  극한직업  https://movie.naver.com/movie/bi/mi/pointWrite...      8   \n",
       "7  극한직업  https://movie.naver.com/movie/bi/mi/pointWrite...     10   \n",
       "8  극한직업  https://movie.naver.com/movie/bi/mi/pointWrite...     10   \n",
       "9  극한직업  https://movie.naver.com/movie/bi/mi/pointWrite...     10   \n",
       "\n",
       "                                              review  \n",
       "0  일단 진선규님께 박수갈채도 부족함 진짜 연기를 다양하게 잘하셔서 놀랐어요 오랜만에 ...  \n",
       "1                                  류승룡 드디어 심폐소생술 성공!  \n",
       "2                                     진짜 뻥안치고 ㅈㄴ 웃겼다  \n",
       "3  계속 웃으면서 봤어요!\"지금까지 이런맛은 없었다이것은 갈비인가 통닭인가수원왕갈비통닭...  \n",
       "4                   지금까지 이런 영화는 없었다  이것은 영화인가 통닭광고인가  \n",
       "5        간만에 정치색 안띠고 마냥 한국식으로 웃긴 영화다~류승룡도 완전 찰지고ㅋ흥해라  \n",
       "6  아주그냥  진지한척 심오한척 메세지있는척 겉멋은잔뜩들고 막상 까보면 텅빈 영화들만 ...  \n",
       "7                                    류승룡 좀비설 너무 웃겼어여  \n",
       "8  마약반 형사들 각각 캐릭터가 확실했습니다. 겹치는 점도 없었고 조합도 너무 좋았습니...  \n",
       "9      완전 내스타일.. 류승룡 영화 요즘 말아먹더니 이번엔 대박 웃기네 ㅋㅋ역시 갓승룡  "
      ]
     },
     "execution_count": 3,
     "metadata": {},
     "output_type": "execute_result"
    }
   ],
   "source": [
    "df = pd.read_csv('./naver_movie_review_1111_comedy.csv', encoding='euckr')\n",
    "df.head(10)"
   ]
  },
  {
   "cell_type": "code",
   "execution_count": 4,
   "metadata": {},
   "outputs": [
    {
     "data": {
      "text/html": [
       "<div>\n",
       "<style scoped>\n",
       "    .dataframe tbody tr th:only-of-type {\n",
       "        vertical-align: middle;\n",
       "    }\n",
       "\n",
       "    .dataframe tbody tr th {\n",
       "        vertical-align: top;\n",
       "    }\n",
       "\n",
       "    .dataframe thead th {\n",
       "        text-align: right;\n",
       "    }\n",
       "</style>\n",
       "<table border=\"1\" class=\"dataframe\">\n",
       "  <thead>\n",
       "    <tr style=\"text-align: right;\">\n",
       "      <th></th>\n",
       "      <th>review</th>\n",
       "    </tr>\n",
       "  </thead>\n",
       "  <tbody>\n",
       "    <tr>\n",
       "      <th>0</th>\n",
       "      <td>일단 진선규님께 박수갈채도 부족함 진짜 연기를 다양하게 잘하셔서 놀랐어요 오랜만에 ...</td>\n",
       "    </tr>\n",
       "    <tr>\n",
       "      <th>1</th>\n",
       "      <td>류승룡 드디어 심폐소생술 성공!</td>\n",
       "    </tr>\n",
       "    <tr>\n",
       "      <th>2</th>\n",
       "      <td>진짜 뻥안치고 ㅈㄴ 웃겼다</td>\n",
       "    </tr>\n",
       "    <tr>\n",
       "      <th>3</th>\n",
       "      <td>계속 웃으면서 봤어요!\"지금까지 이런맛은 없었다이것은 갈비인가 통닭인가수원왕갈비통닭...</td>\n",
       "    </tr>\n",
       "    <tr>\n",
       "      <th>4</th>\n",
       "      <td>지금까지 이런 영화는 없었다  이것은 영화인가 통닭광고인가</td>\n",
       "    </tr>\n",
       "    <tr>\n",
       "      <th>5</th>\n",
       "      <td>간만에 정치색 안띠고 마냥 한국식으로 웃긴 영화다~류승룡도 완전 찰지고ㅋ흥해라</td>\n",
       "    </tr>\n",
       "    <tr>\n",
       "      <th>6</th>\n",
       "      <td>아주그냥  진지한척 심오한척 메세지있는척 겉멋은잔뜩들고 막상 까보면 텅빈 영화들만 ...</td>\n",
       "    </tr>\n",
       "    <tr>\n",
       "      <th>7</th>\n",
       "      <td>류승룡 좀비설 너무 웃겼어여</td>\n",
       "    </tr>\n",
       "    <tr>\n",
       "      <th>8</th>\n",
       "      <td>마약반 형사들 각각 캐릭터가 확실했습니다. 겹치는 점도 없었고 조합도 너무 좋았습니...</td>\n",
       "    </tr>\n",
       "    <tr>\n",
       "      <th>9</th>\n",
       "      <td>완전 내스타일.. 류승룡 영화 요즘 말아먹더니 이번엔 대박 웃기네 ㅋㅋ역시 갓승룡</td>\n",
       "    </tr>\n",
       "  </tbody>\n",
       "</table>\n",
       "</div>"
      ],
      "text/plain": [
       "                                              review\n",
       "0  일단 진선규님께 박수갈채도 부족함 진짜 연기를 다양하게 잘하셔서 놀랐어요 오랜만에 ...\n",
       "1                                  류승룡 드디어 심폐소생술 성공!\n",
       "2                                     진짜 뻥안치고 ㅈㄴ 웃겼다\n",
       "3  계속 웃으면서 봤어요!\"지금까지 이런맛은 없었다이것은 갈비인가 통닭인가수원왕갈비통닭...\n",
       "4                   지금까지 이런 영화는 없었다  이것은 영화인가 통닭광고인가\n",
       "5        간만에 정치색 안띠고 마냥 한국식으로 웃긴 영화다~류승룡도 완전 찰지고ㅋ흥해라\n",
       "6  아주그냥  진지한척 심오한척 메세지있는척 겉멋은잔뜩들고 막상 까보면 텅빈 영화들만 ...\n",
       "7                                    류승룡 좀비설 너무 웃겼어여\n",
       "8  마약반 형사들 각각 캐릭터가 확실했습니다. 겹치는 점도 없었고 조합도 너무 좋았습니...\n",
       "9      완전 내스타일.. 류승룡 영화 요즘 말아먹더니 이번엔 대박 웃기네 ㅋㅋ역시 갓승룡"
      ]
     },
     "execution_count": 4,
     "metadata": {},
     "output_type": "execute_result"
    }
   ],
   "source": [
    "rev = pd.DataFrame(df['review'])\n",
    "rev.head(10)"
   ]
  },
  {
   "cell_type": "code",
   "execution_count": 5,
   "metadata": {},
   "outputs": [
    {
     "data": {
      "text/plain": [
       "True"
      ]
     },
     "execution_count": 5,
     "metadata": {},
     "output_type": "execute_result"
    }
   ],
   "source": [
    "rev.isnull().values.any()"
   ]
  },
  {
   "cell_type": "code",
   "execution_count": 6,
   "metadata": {},
   "outputs": [
    {
     "name": "stdout",
     "output_type": "stream",
     "text": [
      "<class 'pandas.core.frame.DataFrame'>\n",
      "RangeIndex: 74175 entries, 0 to 74174\n",
      "Data columns (total 1 columns):\n",
      " #   Column  Non-Null Count  Dtype \n",
      "---  ------  --------------  ----- \n",
      " 0   review  73998 non-null  object\n",
      "dtypes: object(1)\n",
      "memory usage: 579.6+ KB\n"
     ]
    }
   ],
   "source": [
    "rev.info()"
   ]
  },
  {
   "cell_type": "code",
   "execution_count": 7,
   "metadata": {},
   "outputs": [
    {
     "data": {
      "text/plain": [
       "74175"
      ]
     },
     "execution_count": 7,
     "metadata": {},
     "output_type": "execute_result"
    }
   ],
   "source": [
    "len(rev)"
   ]
  },
  {
   "cell_type": "code",
   "execution_count": 8,
   "metadata": {},
   "outputs": [
    {
     "data": {
      "text/html": [
       "<div>\n",
       "<style scoped>\n",
       "    .dataframe tbody tr th:only-of-type {\n",
       "        vertical-align: middle;\n",
       "    }\n",
       "\n",
       "    .dataframe tbody tr th {\n",
       "        vertical-align: top;\n",
       "    }\n",
       "\n",
       "    .dataframe thead th {\n",
       "        text-align: right;\n",
       "    }\n",
       "</style>\n",
       "<table border=\"1\" class=\"dataframe\">\n",
       "  <thead>\n",
       "    <tr style=\"text-align: right;\">\n",
       "      <th></th>\n",
       "      <th>review</th>\n",
       "    </tr>\n",
       "  </thead>\n",
       "  <tbody>\n",
       "    <tr>\n",
       "      <th>0</th>\n",
       "      <td>일단 진선규님께 박수갈채도 부족함 진짜 연기를 다양하게 잘하셔서 놀랐어요 오랜만에 ...</td>\n",
       "    </tr>\n",
       "    <tr>\n",
       "      <th>1</th>\n",
       "      <td>류승룡 드디어 심폐소생술 성공!</td>\n",
       "    </tr>\n",
       "    <tr>\n",
       "      <th>2</th>\n",
       "      <td>진짜 뻥안치고 ㅈㄴ 웃겼다</td>\n",
       "    </tr>\n",
       "    <tr>\n",
       "      <th>3</th>\n",
       "      <td>계속 웃으면서 봤어요!\"지금까지 이런맛은 없었다이것은 갈비인가 통닭인가수원왕갈비통닭...</td>\n",
       "    </tr>\n",
       "    <tr>\n",
       "      <th>4</th>\n",
       "      <td>지금까지 이런 영화는 없었다  이것은 영화인가 통닭광고인가</td>\n",
       "    </tr>\n",
       "    <tr>\n",
       "      <th>...</th>\n",
       "      <td>...</td>\n",
       "    </tr>\n",
       "    <tr>\n",
       "      <th>74170</th>\n",
       "      <td>장르불명OOO기영화</td>\n",
       "    </tr>\n",
       "    <tr>\n",
       "      <th>74171</th>\n",
       "      <td>ㅋㅋㅋㅋㅋ곰돌이가 즈질인데 너무 귀엽게 생겼음 ㅋㅋ 병맛느낌 나게 재미있음 ㅋㅋㅋ</td>\n",
       "    </tr>\n",
       "    <tr>\n",
       "      <th>74172</th>\n",
       "      <td>재밌어보여서 봤는데 보고나니 왜 평점이 낮은지 알겠다. 한번도 안웃었다. 감동도 재...</td>\n",
       "    </tr>\n",
       "    <tr>\n",
       "      <th>74173</th>\n",
       "      <td>어른들을 위한 1동화..</td>\n",
       "    </tr>\n",
       "    <tr>\n",
       "      <th>74174</th>\n",
       "      <td>이 유치한 영화가 웃기다는 애들은 뭐임?  중딩 이상 관람 금지.</td>\n",
       "    </tr>\n",
       "  </tbody>\n",
       "</table>\n",
       "<p>73998 rows × 1 columns</p>\n",
       "</div>"
      ],
      "text/plain": [
       "                                                  review\n",
       "0      일단 진선규님께 박수갈채도 부족함 진짜 연기를 다양하게 잘하셔서 놀랐어요 오랜만에 ...\n",
       "1                                      류승룡 드디어 심폐소생술 성공!\n",
       "2                                         진짜 뻥안치고 ㅈㄴ 웃겼다\n",
       "3      계속 웃으면서 봤어요!\"지금까지 이런맛은 없었다이것은 갈비인가 통닭인가수원왕갈비통닭...\n",
       "4                       지금까지 이런 영화는 없었다  이것은 영화인가 통닭광고인가\n",
       "...                                                  ...\n",
       "74170                                         장르불명OOO기영화\n",
       "74171      ㅋㅋㅋㅋㅋ곰돌이가 즈질인데 너무 귀엽게 생겼음 ㅋㅋ 병맛느낌 나게 재미있음 ㅋㅋㅋ\n",
       "74172  재밌어보여서 봤는데 보고나니 왜 평점이 낮은지 알겠다. 한번도 안웃었다. 감동도 재...\n",
       "74173                                      어른들을 위한 1동화..\n",
       "74174               이 유치한 영화가 웃기다는 애들은 뭐임?  중딩 이상 관람 금지.\n",
       "\n",
       "[73998 rows x 1 columns]"
      ]
     },
     "execution_count": 8,
     "metadata": {},
     "output_type": "execute_result"
    }
   ],
   "source": [
    "rev = rev.dropna(axis=0)\n",
    "rev"
   ]
  },
  {
   "cell_type": "code",
   "execution_count": 9,
   "metadata": {},
   "outputs": [
    {
     "data": {
      "text/html": [
       "<div>\n",
       "<style scoped>\n",
       "    .dataframe tbody tr th:only-of-type {\n",
       "        vertical-align: middle;\n",
       "    }\n",
       "\n",
       "    .dataframe tbody tr th {\n",
       "        vertical-align: top;\n",
       "    }\n",
       "\n",
       "    .dataframe thead th {\n",
       "        text-align: right;\n",
       "    }\n",
       "</style>\n",
       "<table border=\"1\" class=\"dataframe\">\n",
       "  <thead>\n",
       "    <tr style=\"text-align: right;\">\n",
       "      <th></th>\n",
       "      <th>review</th>\n",
       "    </tr>\n",
       "  </thead>\n",
       "  <tbody>\n",
       "    <tr>\n",
       "      <th>0</th>\n",
       "      <td>일단 진선규님께 박수갈채도 부족함 진짜 연기를 다양하게 잘하셔서 놀랐어요 오랜만에 ...</td>\n",
       "    </tr>\n",
       "    <tr>\n",
       "      <th>1</th>\n",
       "      <td>류승룡 드디어 심폐소생술 성공!</td>\n",
       "    </tr>\n",
       "    <tr>\n",
       "      <th>2</th>\n",
       "      <td>진짜 뻥안치고 ㅈㄴ 웃겼다</td>\n",
       "    </tr>\n",
       "    <tr>\n",
       "      <th>3</th>\n",
       "      <td>계속 웃으면서 봤어요!\"지금까지 이런맛은 없었다이것은 갈비인가 통닭인가수원왕갈비통닭...</td>\n",
       "    </tr>\n",
       "    <tr>\n",
       "      <th>4</th>\n",
       "      <td>지금까지 이런 영화는 없었다  이것은 영화인가 통닭광고인가</td>\n",
       "    </tr>\n",
       "    <tr>\n",
       "      <th>...</th>\n",
       "      <td>...</td>\n",
       "    </tr>\n",
       "    <tr>\n",
       "      <th>73993</th>\n",
       "      <td>장르불명OOO기영화</td>\n",
       "    </tr>\n",
       "    <tr>\n",
       "      <th>73994</th>\n",
       "      <td>ㅋㅋㅋㅋㅋ곰돌이가 즈질인데 너무 귀엽게 생겼음 ㅋㅋ 병맛느낌 나게 재미있음 ㅋㅋㅋ</td>\n",
       "    </tr>\n",
       "    <tr>\n",
       "      <th>73995</th>\n",
       "      <td>재밌어보여서 봤는데 보고나니 왜 평점이 낮은지 알겠다. 한번도 안웃었다. 감동도 재...</td>\n",
       "    </tr>\n",
       "    <tr>\n",
       "      <th>73996</th>\n",
       "      <td>어른들을 위한 1동화..</td>\n",
       "    </tr>\n",
       "    <tr>\n",
       "      <th>73997</th>\n",
       "      <td>이 유치한 영화가 웃기다는 애들은 뭐임?  중딩 이상 관람 금지.</td>\n",
       "    </tr>\n",
       "  </tbody>\n",
       "</table>\n",
       "<p>73998 rows × 1 columns</p>\n",
       "</div>"
      ],
      "text/plain": [
       "                                                  review\n",
       "0      일단 진선규님께 박수갈채도 부족함 진짜 연기를 다양하게 잘하셔서 놀랐어요 오랜만에 ...\n",
       "1                                      류승룡 드디어 심폐소생술 성공!\n",
       "2                                         진짜 뻥안치고 ㅈㄴ 웃겼다\n",
       "3      계속 웃으면서 봤어요!\"지금까지 이런맛은 없었다이것은 갈비인가 통닭인가수원왕갈비통닭...\n",
       "4                       지금까지 이런 영화는 없었다  이것은 영화인가 통닭광고인가\n",
       "...                                                  ...\n",
       "73993                                         장르불명OOO기영화\n",
       "73994      ㅋㅋㅋㅋㅋ곰돌이가 즈질인데 너무 귀엽게 생겼음 ㅋㅋ 병맛느낌 나게 재미있음 ㅋㅋㅋ\n",
       "73995  재밌어보여서 봤는데 보고나니 왜 평점이 낮은지 알겠다. 한번도 안웃었다. 감동도 재...\n",
       "73996                                      어른들을 위한 1동화..\n",
       "73997               이 유치한 영화가 웃기다는 애들은 뭐임?  중딩 이상 관람 금지.\n",
       "\n",
       "[73998 rows x 1 columns]"
      ]
     },
     "execution_count": 9,
     "metadata": {},
     "output_type": "execute_result"
    }
   ],
   "source": [
    "rev = rev.reset_index(drop=True)\n",
    "rev"
   ]
  },
  {
   "cell_type": "code",
   "execution_count": 10,
   "metadata": {},
   "outputs": [
    {
     "data": {
      "text/plain": [
       "73998"
      ]
     },
     "execution_count": 10,
     "metadata": {},
     "output_type": "execute_result"
    }
   ],
   "source": [
    "len(rev)"
   ]
  },
  {
   "cell_type": "markdown",
   "metadata": {},
   "source": [
    "# 데이터 중복 확인"
   ]
  },
  {
   "cell_type": "code",
   "execution_count": 11,
   "metadata": {},
   "outputs": [
    {
     "data": {
      "text/plain": [
       "True"
      ]
     },
     "execution_count": 11,
     "metadata": {},
     "output_type": "execute_result"
    }
   ],
   "source": [
    "rev.duplicated().values.any()"
   ]
  },
  {
   "cell_type": "code",
   "execution_count": 12,
   "metadata": {},
   "outputs": [
    {
     "data": {
      "text/html": [
       "<div>\n",
       "<style scoped>\n",
       "    .dataframe tbody tr th:only-of-type {\n",
       "        vertical-align: middle;\n",
       "    }\n",
       "\n",
       "    .dataframe tbody tr th {\n",
       "        vertical-align: top;\n",
       "    }\n",
       "\n",
       "    .dataframe thead th {\n",
       "        text-align: right;\n",
       "    }\n",
       "</style>\n",
       "<table border=\"1\" class=\"dataframe\">\n",
       "  <thead>\n",
       "    <tr style=\"text-align: right;\">\n",
       "      <th></th>\n",
       "      <th>review</th>\n",
       "    </tr>\n",
       "  </thead>\n",
       "  <tbody>\n",
       "    <tr>\n",
       "      <th>699</th>\n",
       "      <td>너무나 예측되는... 솔직히 저는 재미없었습니다. 어디서 웃길지 너무 예측되어서요..</td>\n",
       "    </tr>\n",
       "    <tr>\n",
       "      <th>719</th>\n",
       "      <td>남들이 개연성 등 여러 가지 따지면서 욕하는 영화도 아무것도 모르고 재밌게 보는 사...</td>\n",
       "    </tr>\n",
       "    <tr>\n",
       "      <th>851</th>\n",
       "      <td>남들이 개연성 등 여러 가지 따지면서 욕하는 영화도 아무것도 모르고 재밌게 보는 사...</td>\n",
       "    </tr>\n",
       "    <tr>\n",
       "      <th>1109</th>\n",
       "      <td>개노잼 ㅜㅜ진심 시간아깝</td>\n",
       "    </tr>\n",
       "    <tr>\n",
       "      <th>3012</th>\n",
       "      <td>재밌긴 한데 1600만 갈정돈 아닌듯..</td>\n",
       "    </tr>\n",
       "    <tr>\n",
       "      <th>...</th>\n",
       "      <td>...</td>\n",
       "    </tr>\n",
       "    <tr>\n",
       "      <th>73689</th>\n",
       "      <td>굳</td>\n",
       "    </tr>\n",
       "    <tr>\n",
       "      <th>73697</th>\n",
       "      <td>굿</td>\n",
       "    </tr>\n",
       "    <tr>\n",
       "      <th>73713</th>\n",
       "      <td>재밌음</td>\n",
       "    </tr>\n",
       "    <tr>\n",
       "      <th>73744</th>\n",
       "      <td>최악</td>\n",
       "    </tr>\n",
       "    <tr>\n",
       "      <th>73763</th>\n",
       "      <td>쓰레기</td>\n",
       "    </tr>\n",
       "  </tbody>\n",
       "</table>\n",
       "<p>586 rows × 1 columns</p>\n",
       "</div>"
      ],
      "text/plain": [
       "                                                  review\n",
       "699      너무나 예측되는... 솔직히 저는 재미없었습니다. 어디서 웃길지 너무 예측되어서요..\n",
       "719    남들이 개연성 등 여러 가지 따지면서 욕하는 영화도 아무것도 모르고 재밌게 보는 사...\n",
       "851    남들이 개연성 등 여러 가지 따지면서 욕하는 영화도 아무것도 모르고 재밌게 보는 사...\n",
       "1109                                       개노잼 ㅜㅜ진심 시간아깝\n",
       "3012                              재밌긴 한데 1600만 갈정돈 아닌듯..\n",
       "...                                                  ...\n",
       "73689                                                  굳\n",
       "73697                                                  굿\n",
       "73713                                                재밌음\n",
       "73744                                                 최악\n",
       "73763                                                쓰레기\n",
       "\n",
       "[586 rows x 1 columns]"
      ]
     },
     "execution_count": 12,
     "metadata": {},
     "output_type": "execute_result"
    }
   ],
   "source": [
    "rev_dup = rev.loc[rev.duplicated()]\n",
    "rev_dup"
   ]
  },
  {
   "cell_type": "code",
   "execution_count": 17,
   "metadata": {
    "scrolled": false
   },
   "outputs": [
    {
     "data": {
      "text/plain": [
       "'굳'"
      ]
     },
     "execution_count": 17,
     "metadata": {},
     "output_type": "execute_result"
    }
   ],
   "source": [
    "rev['review'][73689]"
   ]
  },
  {
   "cell_type": "code",
   "execution_count": 18,
   "metadata": {},
   "outputs": [
    {
     "name": "stdout",
     "output_type": "stream",
     "text": [
      "yes 71619\n",
      "yes 72360\n",
      "yes 72855\n",
      "yes 72875\n"
     ]
    }
   ],
   "source": [
    "for i in range(1, len(rev)):\n",
    "    if i != 73689:\n",
    "        if rev['review'][i] == rev['review'][73689]:\n",
    "            print('yes', i)"
   ]
  },
  {
   "cell_type": "markdown",
   "metadata": {},
   "source": [
    "# 데이터 중복 제거"
   ]
  },
  {
   "cell_type": "code",
   "execution_count": 19,
   "metadata": {},
   "outputs": [
    {
     "data": {
      "text/html": [
       "<div>\n",
       "<style scoped>\n",
       "    .dataframe tbody tr th:only-of-type {\n",
       "        vertical-align: middle;\n",
       "    }\n",
       "\n",
       "    .dataframe tbody tr th {\n",
       "        vertical-align: top;\n",
       "    }\n",
       "\n",
       "    .dataframe thead th {\n",
       "        text-align: right;\n",
       "    }\n",
       "</style>\n",
       "<table border=\"1\" class=\"dataframe\">\n",
       "  <thead>\n",
       "    <tr style=\"text-align: right;\">\n",
       "      <th></th>\n",
       "      <th>review</th>\n",
       "    </tr>\n",
       "  </thead>\n",
       "  <tbody>\n",
       "    <tr>\n",
       "      <th>0</th>\n",
       "      <td>일단 진선규님께 박수갈채도 부족함 진짜 연기를 다양하게 잘하셔서 놀랐어요 오랜만에 ...</td>\n",
       "    </tr>\n",
       "    <tr>\n",
       "      <th>1</th>\n",
       "      <td>류승룡 드디어 심폐소생술 성공!</td>\n",
       "    </tr>\n",
       "    <tr>\n",
       "      <th>2</th>\n",
       "      <td>진짜 뻥안치고 ㅈㄴ 웃겼다</td>\n",
       "    </tr>\n",
       "    <tr>\n",
       "      <th>3</th>\n",
       "      <td>계속 웃으면서 봤어요!\"지금까지 이런맛은 없었다이것은 갈비인가 통닭인가수원왕갈비통닭...</td>\n",
       "    </tr>\n",
       "    <tr>\n",
       "      <th>4</th>\n",
       "      <td>지금까지 이런 영화는 없었다  이것은 영화인가 통닭광고인가</td>\n",
       "    </tr>\n",
       "    <tr>\n",
       "      <th>...</th>\n",
       "      <td>...</td>\n",
       "    </tr>\n",
       "    <tr>\n",
       "      <th>73993</th>\n",
       "      <td>장르불명OOO기영화</td>\n",
       "    </tr>\n",
       "    <tr>\n",
       "      <th>73994</th>\n",
       "      <td>ㅋㅋㅋㅋㅋ곰돌이가 즈질인데 너무 귀엽게 생겼음 ㅋㅋ 병맛느낌 나게 재미있음 ㅋㅋㅋ</td>\n",
       "    </tr>\n",
       "    <tr>\n",
       "      <th>73995</th>\n",
       "      <td>재밌어보여서 봤는데 보고나니 왜 평점이 낮은지 알겠다. 한번도 안웃었다. 감동도 재...</td>\n",
       "    </tr>\n",
       "    <tr>\n",
       "      <th>73996</th>\n",
       "      <td>어른들을 위한 1동화..</td>\n",
       "    </tr>\n",
       "    <tr>\n",
       "      <th>73997</th>\n",
       "      <td>이 유치한 영화가 웃기다는 애들은 뭐임?  중딩 이상 관람 금지.</td>\n",
       "    </tr>\n",
       "  </tbody>\n",
       "</table>\n",
       "<p>73412 rows × 1 columns</p>\n",
       "</div>"
      ],
      "text/plain": [
       "                                                  review\n",
       "0      일단 진선규님께 박수갈채도 부족함 진짜 연기를 다양하게 잘하셔서 놀랐어요 오랜만에 ...\n",
       "1                                      류승룡 드디어 심폐소생술 성공!\n",
       "2                                         진짜 뻥안치고 ㅈㄴ 웃겼다\n",
       "3      계속 웃으면서 봤어요!\"지금까지 이런맛은 없었다이것은 갈비인가 통닭인가수원왕갈비통닭...\n",
       "4                       지금까지 이런 영화는 없었다  이것은 영화인가 통닭광고인가\n",
       "...                                                  ...\n",
       "73993                                         장르불명OOO기영화\n",
       "73994      ㅋㅋㅋㅋㅋ곰돌이가 즈질인데 너무 귀엽게 생겼음 ㅋㅋ 병맛느낌 나게 재미있음 ㅋㅋㅋ\n",
       "73995  재밌어보여서 봤는데 보고나니 왜 평점이 낮은지 알겠다. 한번도 안웃었다. 감동도 재...\n",
       "73996                                      어른들을 위한 1동화..\n",
       "73997               이 유치한 영화가 웃기다는 애들은 뭐임?  중딩 이상 관람 금지.\n",
       "\n",
       "[73412 rows x 1 columns]"
      ]
     },
     "execution_count": 19,
     "metadata": {},
     "output_type": "execute_result"
    }
   ],
   "source": [
    "rev_without_dup = rev.drop_duplicates(['review'], keep='first')\n",
    "rev_without_dup"
   ]
  },
  {
   "cell_type": "code",
   "execution_count": 20,
   "metadata": {},
   "outputs": [
    {
     "data": {
      "text/plain": [
       "False"
      ]
     },
     "execution_count": 20,
     "metadata": {},
     "output_type": "execute_result"
    }
   ],
   "source": [
    "rev_without_dup.duplicated().values.any()"
   ]
  }
 ],
 "metadata": {
  "kernelspec": {
   "display_name": "Python 3",
   "language": "python",
   "name": "python3"
  },
  "language_info": {
   "codemirror_mode": {
    "name": "ipython",
    "version": 3
   },
   "file_extension": ".py",
   "mimetype": "text/x-python",
   "name": "python",
   "nbconvert_exporter": "python",
   "pygments_lexer": "ipython3",
   "version": "3.8.5"
  }
 },
 "nbformat": 4,
 "nbformat_minor": 4
}
