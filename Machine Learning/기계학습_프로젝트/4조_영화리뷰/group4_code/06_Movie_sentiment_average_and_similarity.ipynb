{
 "cells": [
  {
   "cell_type": "code",
   "execution_count": 13,
   "metadata": {},
   "outputs": [],
   "source": [
    "import warnings\n",
    "warnings.filterwarnings('ignore')"
   ]
  },
  {
   "cell_type": "code",
   "execution_count": 1,
   "metadata": {},
   "outputs": [],
   "source": [
    "import pandas as pd\n",
    "import numpy as np\n",
    "from sklearn.metrics.pairwise import cosine_similarity"
   ]
  },
  {
   "cell_type": "code",
   "execution_count": 2,
   "metadata": {},
   "outputs": [
    {
     "data": {
      "text/html": [
       "<div>\n",
       "<style scoped>\n",
       "    .dataframe tbody tr th:only-of-type {\n",
       "        vertical-align: middle;\n",
       "    }\n",
       "\n",
       "    .dataframe tbody tr th {\n",
       "        vertical-align: top;\n",
       "    }\n",
       "\n",
       "    .dataframe thead th {\n",
       "        text-align: right;\n",
       "    }\n",
       "</style>\n",
       "<table border=\"1\" class=\"dataframe\">\n",
       "  <thead>\n",
       "    <tr style=\"text-align: right;\">\n",
       "      <th></th>\n",
       "      <th>title</th>\n",
       "      <th>link</th>\n",
       "      <th>score</th>\n",
       "      <th>review</th>\n",
       "      <th>sentiment</th>\n",
       "    </tr>\n",
       "  </thead>\n",
       "  <tbody>\n",
       "    <tr>\n",
       "      <th>0</th>\n",
       "      <td>극한직업</td>\n",
       "      <td>https://movie.naver.com/movie/bi/mi/pointWrite...</td>\n",
       "      <td>10</td>\n",
       "      <td>일단 진선규님께 박수갈채도 부족함 진짜 연기를 다양하게 잘하셔서 놀랐어요 오랜만에 ...</td>\n",
       "      <td>0.97671</td>\n",
       "    </tr>\n",
       "    <tr>\n",
       "      <th>1</th>\n",
       "      <td>극한직업</td>\n",
       "      <td>https://movie.naver.com/movie/bi/mi/pointWrite...</td>\n",
       "      <td>8</td>\n",
       "      <td>류승룡 드디어 심폐소생술 성공</td>\n",
       "      <td>0.74820</td>\n",
       "    </tr>\n",
       "    <tr>\n",
       "      <th>2</th>\n",
       "      <td>극한직업</td>\n",
       "      <td>https://movie.naver.com/movie/bi/mi/pointWrite...</td>\n",
       "      <td>10</td>\n",
       "      <td>진짜 뻥안치고 ㅈㄴ 웃겼다</td>\n",
       "      <td>0.91061</td>\n",
       "    </tr>\n",
       "    <tr>\n",
       "      <th>3</th>\n",
       "      <td>극한직업</td>\n",
       "      <td>https://movie.naver.com/movie/bi/mi/pointWrite...</td>\n",
       "      <td>10</td>\n",
       "      <td>계속 웃으면서 봤어요지금까지 이런맛은 없었다이것은 갈비인가 통닭인가수원왕갈비통닭입니...</td>\n",
       "      <td>0.68138</td>\n",
       "    </tr>\n",
       "    <tr>\n",
       "      <th>4</th>\n",
       "      <td>극한직업</td>\n",
       "      <td>https://movie.naver.com/movie/bi/mi/pointWrite...</td>\n",
       "      <td>10</td>\n",
       "      <td>지금까지 이런 영화는 없었다  이것은 영화인가 통닭광고인가</td>\n",
       "      <td>0.19145</td>\n",
       "    </tr>\n",
       "  </tbody>\n",
       "</table>\n",
       "</div>"
      ],
      "text/plain": [
       "  title                                               link  score  \\\n",
       "0  극한직업  https://movie.naver.com/movie/bi/mi/pointWrite...     10   \n",
       "1  극한직업  https://movie.naver.com/movie/bi/mi/pointWrite...      8   \n",
       "2  극한직업  https://movie.naver.com/movie/bi/mi/pointWrite...     10   \n",
       "3  극한직업  https://movie.naver.com/movie/bi/mi/pointWrite...     10   \n",
       "4  극한직업  https://movie.naver.com/movie/bi/mi/pointWrite...     10   \n",
       "\n",
       "                                              review  sentiment  \n",
       "0  일단 진선규님께 박수갈채도 부족함 진짜 연기를 다양하게 잘하셔서 놀랐어요 오랜만에 ...    0.97671  \n",
       "1                                   류승룡 드디어 심폐소생술 성공    0.74820  \n",
       "2                                     진짜 뻥안치고 ㅈㄴ 웃겼다    0.91061  \n",
       "3  계속 웃으면서 봤어요지금까지 이런맛은 없었다이것은 갈비인가 통닭인가수원왕갈비통닭입니...    0.68138  \n",
       "4                   지금까지 이런 영화는 없었다  이것은 영화인가 통닭광고인가    0.19145  "
      ]
     },
     "execution_count": 2,
     "metadata": {},
     "output_type": "execute_result"
    }
   ],
   "source": [
    "data = pd.read_csv('./sentiment/all/all_movie.csv')\n",
    "data.head()"
   ]
  },
  {
   "cell_type": "code",
   "execution_count": 3,
   "metadata": {
    "scrolled": true
   },
   "outputs": [
    {
     "name": "stdout",
     "output_type": "stream",
     "text": [
      "<class 'pandas.core.frame.DataFrame'>\n",
      "RangeIndex: 180073 entries, 0 to 180072\n",
      "Data columns (total 5 columns):\n",
      " #   Column     Non-Null Count   Dtype  \n",
      "---  ------     --------------   -----  \n",
      " 0   title      180073 non-null  object \n",
      " 1   link       180073 non-null  object \n",
      " 2   score      180073 non-null  int64  \n",
      " 3   review     180073 non-null  object \n",
      " 4   sentiment  180073 non-null  float64\n",
      "dtypes: float64(1), int64(1), object(3)\n",
      "memory usage: 6.9+ MB\n"
     ]
    }
   ],
   "source": [
    "data.info()"
   ]
  },
  {
   "cell_type": "markdown",
   "metadata": {},
   "source": [
    "# 감성 점수와 평점 사이 상관관계 (cosine similarity)"
   ]
  },
  {
   "cell_type": "code",
   "execution_count": 14,
   "metadata": {},
   "outputs": [
    {
     "data": {
      "text/html": [
       "<div>\n",
       "<style scoped>\n",
       "    .dataframe tbody tr th:only-of-type {\n",
       "        vertical-align: middle;\n",
       "    }\n",
       "\n",
       "    .dataframe tbody tr th {\n",
       "        vertical-align: top;\n",
       "    }\n",
       "\n",
       "    .dataframe thead th {\n",
       "        text-align: right;\n",
       "    }\n",
       "</style>\n",
       "<table border=\"1\" class=\"dataframe\">\n",
       "  <thead>\n",
       "    <tr style=\"text-align: right;\">\n",
       "      <th></th>\n",
       "      <th>score</th>\n",
       "      <th>sentiment</th>\n",
       "    </tr>\n",
       "  </thead>\n",
       "  <tbody>\n",
       "    <tr>\n",
       "      <th>0</th>\n",
       "      <td>10</td>\n",
       "      <td>0.97671</td>\n",
       "    </tr>\n",
       "    <tr>\n",
       "      <th>1</th>\n",
       "      <td>8</td>\n",
       "      <td>0.74820</td>\n",
       "    </tr>\n",
       "    <tr>\n",
       "      <th>2</th>\n",
       "      <td>10</td>\n",
       "      <td>0.91061</td>\n",
       "    </tr>\n",
       "    <tr>\n",
       "      <th>3</th>\n",
       "      <td>10</td>\n",
       "      <td>0.68138</td>\n",
       "    </tr>\n",
       "    <tr>\n",
       "      <th>4</th>\n",
       "      <td>10</td>\n",
       "      <td>0.19145</td>\n",
       "    </tr>\n",
       "    <tr>\n",
       "      <th>...</th>\n",
       "      <td>...</td>\n",
       "      <td>...</td>\n",
       "    </tr>\n",
       "    <tr>\n",
       "      <th>180068</th>\n",
       "      <td>2</td>\n",
       "      <td>0.13013</td>\n",
       "    </tr>\n",
       "    <tr>\n",
       "      <th>180069</th>\n",
       "      <td>5</td>\n",
       "      <td>0.12017</td>\n",
       "    </tr>\n",
       "    <tr>\n",
       "      <th>180070</th>\n",
       "      <td>1</td>\n",
       "      <td>0.09625</td>\n",
       "    </tr>\n",
       "    <tr>\n",
       "      <th>180071</th>\n",
       "      <td>6</td>\n",
       "      <td>0.99745</td>\n",
       "    </tr>\n",
       "    <tr>\n",
       "      <th>180072</th>\n",
       "      <td>1</td>\n",
       "      <td>0.01658</td>\n",
       "    </tr>\n",
       "  </tbody>\n",
       "</table>\n",
       "<p>180073 rows × 2 columns</p>\n",
       "</div>"
      ],
      "text/plain": [
       "        score  sentiment\n",
       "0          10    0.97671\n",
       "1           8    0.74820\n",
       "2          10    0.91061\n",
       "3          10    0.68138\n",
       "4          10    0.19145\n",
       "...       ...        ...\n",
       "180068      2    0.13013\n",
       "180069      5    0.12017\n",
       "180070      1    0.09625\n",
       "180071      6    0.99745\n",
       "180072      1    0.01658\n",
       "\n",
       "[180073 rows x 2 columns]"
      ]
     },
     "execution_count": 14,
     "metadata": {},
     "output_type": "execute_result"
    }
   ],
   "source": [
    "score_senti = data[['score', 'sentiment']]\n",
    "score_senti"
   ]
  },
  {
   "cell_type": "code",
   "execution_count": 15,
   "metadata": {},
   "outputs": [
    {
     "data": {
      "text/html": [
       "<div>\n",
       "<style scoped>\n",
       "    .dataframe tbody tr th:only-of-type {\n",
       "        vertical-align: middle;\n",
       "    }\n",
       "\n",
       "    .dataframe tbody tr th {\n",
       "        vertical-align: top;\n",
       "    }\n",
       "\n",
       "    .dataframe thead th {\n",
       "        text-align: right;\n",
       "    }\n",
       "</style>\n",
       "<table border=\"1\" class=\"dataframe\">\n",
       "  <thead>\n",
       "    <tr style=\"text-align: right;\">\n",
       "      <th></th>\n",
       "      <th>score</th>\n",
       "      <th>sentiment</th>\n",
       "    </tr>\n",
       "  </thead>\n",
       "  <tbody>\n",
       "    <tr>\n",
       "      <th>0</th>\n",
       "      <td>1.0</td>\n",
       "      <td>0.97671</td>\n",
       "    </tr>\n",
       "    <tr>\n",
       "      <th>1</th>\n",
       "      <td>0.8</td>\n",
       "      <td>0.74820</td>\n",
       "    </tr>\n",
       "    <tr>\n",
       "      <th>2</th>\n",
       "      <td>1.0</td>\n",
       "      <td>0.91061</td>\n",
       "    </tr>\n",
       "    <tr>\n",
       "      <th>3</th>\n",
       "      <td>1.0</td>\n",
       "      <td>0.68138</td>\n",
       "    </tr>\n",
       "    <tr>\n",
       "      <th>4</th>\n",
       "      <td>1.0</td>\n",
       "      <td>0.19145</td>\n",
       "    </tr>\n",
       "    <tr>\n",
       "      <th>5</th>\n",
       "      <td>1.0</td>\n",
       "      <td>0.98723</td>\n",
       "    </tr>\n",
       "    <tr>\n",
       "      <th>6</th>\n",
       "      <td>0.8</td>\n",
       "      <td>0.74198</td>\n",
       "    </tr>\n",
       "    <tr>\n",
       "      <th>7</th>\n",
       "      <td>1.0</td>\n",
       "      <td>0.53808</td>\n",
       "    </tr>\n",
       "    <tr>\n",
       "      <th>8</th>\n",
       "      <td>1.0</td>\n",
       "      <td>0.98998</td>\n",
       "    </tr>\n",
       "    <tr>\n",
       "      <th>9</th>\n",
       "      <td>1.0</td>\n",
       "      <td>0.98883</td>\n",
       "    </tr>\n",
       "  </tbody>\n",
       "</table>\n",
       "</div>"
      ],
      "text/plain": [
       "   score  sentiment\n",
       "0    1.0    0.97671\n",
       "1    0.8    0.74820\n",
       "2    1.0    0.91061\n",
       "3    1.0    0.68138\n",
       "4    1.0    0.19145\n",
       "5    1.0    0.98723\n",
       "6    0.8    0.74198\n",
       "7    1.0    0.53808\n",
       "8    1.0    0.98998\n",
       "9    1.0    0.98883"
      ]
     },
     "execution_count": 15,
     "metadata": {},
     "output_type": "execute_result"
    }
   ],
   "source": [
    "score_senti['score'] = score_senti['score'] / 10\n",
    "score_senti.head(10)"
   ]
  },
  {
   "cell_type": "code",
   "execution_count": 16,
   "metadata": {},
   "outputs": [
    {
     "data": {
      "text/plain": [
       "array([[0.92901427]])"
      ]
     },
     "execution_count": 16,
     "metadata": {},
     "output_type": "execute_result"
    }
   ],
   "source": [
    "# 코사인 유사도. 1에 가까우면 유사함, 0에 가까우면 관련 없음, -1에 가까우면 음의 상관관계\n",
    "cosine_similarity([score_senti['score']], [score_senti['sentiment']])"
   ]
  },
  {
   "cell_type": "markdown",
   "metadata": {},
   "source": [
    "코사인 유사도는 1에 가까울수록 유사도가 높다. 관람객 평점과 리뷰 감성점수의 코사인 유사도는 약 0.93으로 두 데이터는 매우 유사하다고 할 수 있다"
   ]
  },
  {
   "cell_type": "markdown",
   "metadata": {},
   "source": [
    "즉, 관람객의 종합 평점평균 데이터는 믿을만 한 데이터이다"
   ]
  },
  {
   "cell_type": "markdown",
   "metadata": {},
   "source": [
    "# 감성 점수 평균과 실제 관람객 평점 비교"
   ]
  },
  {
   "cell_type": "markdown",
   "metadata": {},
   "source": [
    "### 코미디, 극한직업"
   ]
  },
  {
   "cell_type": "code",
   "execution_count": 17,
   "metadata": {
    "scrolled": true
   },
   "outputs": [
    {
     "data": {
      "text/html": [
       "<div>\n",
       "<style scoped>\n",
       "    .dataframe tbody tr th:only-of-type {\n",
       "        vertical-align: middle;\n",
       "    }\n",
       "\n",
       "    .dataframe tbody tr th {\n",
       "        vertical-align: top;\n",
       "    }\n",
       "\n",
       "    .dataframe thead th {\n",
       "        text-align: right;\n",
       "    }\n",
       "</style>\n",
       "<table border=\"1\" class=\"dataframe\">\n",
       "  <thead>\n",
       "    <tr style=\"text-align: right;\">\n",
       "      <th></th>\n",
       "      <th>title</th>\n",
       "      <th>link</th>\n",
       "      <th>score</th>\n",
       "      <th>review</th>\n",
       "      <th>sentiment</th>\n",
       "    </tr>\n",
       "  </thead>\n",
       "  <tbody>\n",
       "    <tr>\n",
       "      <th>0</th>\n",
       "      <td>극한직업</td>\n",
       "      <td>https://movie.naver.com/movie/bi/mi/pointWrite...</td>\n",
       "      <td>10</td>\n",
       "      <td>일단 진선규님께 박수갈채도 부족함 진짜 연기를 다양하게 잘하셔서 놀랐어요 오랜만에 ...</td>\n",
       "      <td>0.97671</td>\n",
       "    </tr>\n",
       "    <tr>\n",
       "      <th>1</th>\n",
       "      <td>극한직업</td>\n",
       "      <td>https://movie.naver.com/movie/bi/mi/pointWrite...</td>\n",
       "      <td>8</td>\n",
       "      <td>류승룡 드디어 심폐소생술 성공</td>\n",
       "      <td>0.74820</td>\n",
       "    </tr>\n",
       "    <tr>\n",
       "      <th>2</th>\n",
       "      <td>극한직업</td>\n",
       "      <td>https://movie.naver.com/movie/bi/mi/pointWrite...</td>\n",
       "      <td>10</td>\n",
       "      <td>진짜 뻥안치고 ㅈㄴ 웃겼다</td>\n",
       "      <td>0.91061</td>\n",
       "    </tr>\n",
       "    <tr>\n",
       "      <th>3</th>\n",
       "      <td>극한직업</td>\n",
       "      <td>https://movie.naver.com/movie/bi/mi/pointWrite...</td>\n",
       "      <td>10</td>\n",
       "      <td>계속 웃으면서 봤어요지금까지 이런맛은 없었다이것은 갈비인가 통닭인가수원왕갈비통닭입니...</td>\n",
       "      <td>0.68138</td>\n",
       "    </tr>\n",
       "    <tr>\n",
       "      <th>4</th>\n",
       "      <td>극한직업</td>\n",
       "      <td>https://movie.naver.com/movie/bi/mi/pointWrite...</td>\n",
       "      <td>10</td>\n",
       "      <td>지금까지 이런 영화는 없었다  이것은 영화인가 통닭광고인가</td>\n",
       "      <td>0.19145</td>\n",
       "    </tr>\n",
       "  </tbody>\n",
       "</table>\n",
       "</div>"
      ],
      "text/plain": [
       "  title                                               link  score  \\\n",
       "0  극한직업  https://movie.naver.com/movie/bi/mi/pointWrite...     10   \n",
       "1  극한직업  https://movie.naver.com/movie/bi/mi/pointWrite...      8   \n",
       "2  극한직업  https://movie.naver.com/movie/bi/mi/pointWrite...     10   \n",
       "3  극한직업  https://movie.naver.com/movie/bi/mi/pointWrite...     10   \n",
       "4  극한직업  https://movie.naver.com/movie/bi/mi/pointWrite...     10   \n",
       "\n",
       "                                              review  sentiment  \n",
       "0  일단 진선규님께 박수갈채도 부족함 진짜 연기를 다양하게 잘하셔서 놀랐어요 오랜만에 ...    0.97671  \n",
       "1                                   류승룡 드디어 심폐소생술 성공    0.74820  \n",
       "2                                     진짜 뻥안치고 ㅈㄴ 웃겼다    0.91061  \n",
       "3  계속 웃으면서 봤어요지금까지 이런맛은 없었다이것은 갈비인가 통닭인가수원왕갈비통닭입니...    0.68138  \n",
       "4                   지금까지 이런 영화는 없었다  이것은 영화인가 통닭광고인가    0.19145  "
      ]
     },
     "execution_count": 17,
     "metadata": {},
     "output_type": "execute_result"
    }
   ],
   "source": [
    "comedy = pd.read_csv('./sentiment/comedy/movie_sentiment_1111_ExtremeJob.csv')\n",
    "comedy.head()"
   ]
  },
  {
   "cell_type": "code",
   "execution_count": 18,
   "metadata": {},
   "outputs": [
    {
     "name": "stdout",
     "output_type": "stream",
     "text": [
      "<class 'pandas.core.frame.DataFrame'>\n",
      "RangeIndex: 47031 entries, 0 to 47030\n",
      "Data columns (total 5 columns):\n",
      " #   Column     Non-Null Count  Dtype  \n",
      "---  ------     --------------  -----  \n",
      " 0   title      47031 non-null  object \n",
      " 1   link       47031 non-null  object \n",
      " 2   score      47031 non-null  int64  \n",
      " 3   review     47031 non-null  object \n",
      " 4   sentiment  47031 non-null  float64\n",
      "dtypes: float64(1), int64(1), object(3)\n",
      "memory usage: 1.8+ MB\n"
     ]
    }
   ],
   "source": [
    "comedy.info()"
   ]
  },
  {
   "cell_type": "code",
   "execution_count": 19,
   "metadata": {},
   "outputs": [
    {
     "data": {
      "text/html": [
       "<div>\n",
       "<style scoped>\n",
       "    .dataframe tbody tr th:only-of-type {\n",
       "        vertical-align: middle;\n",
       "    }\n",
       "\n",
       "    .dataframe tbody tr th {\n",
       "        vertical-align: top;\n",
       "    }\n",
       "\n",
       "    .dataframe thead th {\n",
       "        text-align: right;\n",
       "    }\n",
       "</style>\n",
       "<table border=\"1\" class=\"dataframe\">\n",
       "  <thead>\n",
       "    <tr style=\"text-align: right;\">\n",
       "      <th></th>\n",
       "      <th>sentiment</th>\n",
       "    </tr>\n",
       "  </thead>\n",
       "  <tbody>\n",
       "    <tr>\n",
       "      <th>0</th>\n",
       "      <td>0.97671</td>\n",
       "    </tr>\n",
       "    <tr>\n",
       "      <th>1</th>\n",
       "      <td>0.74820</td>\n",
       "    </tr>\n",
       "    <tr>\n",
       "      <th>2</th>\n",
       "      <td>0.91061</td>\n",
       "    </tr>\n",
       "    <tr>\n",
       "      <th>3</th>\n",
       "      <td>0.68138</td>\n",
       "    </tr>\n",
       "    <tr>\n",
       "      <th>4</th>\n",
       "      <td>0.19145</td>\n",
       "    </tr>\n",
       "    <tr>\n",
       "      <th>5</th>\n",
       "      <td>0.98723</td>\n",
       "    </tr>\n",
       "    <tr>\n",
       "      <th>6</th>\n",
       "      <td>0.74198</td>\n",
       "    </tr>\n",
       "    <tr>\n",
       "      <th>7</th>\n",
       "      <td>0.53808</td>\n",
       "    </tr>\n",
       "    <tr>\n",
       "      <th>8</th>\n",
       "      <td>0.98998</td>\n",
       "    </tr>\n",
       "    <tr>\n",
       "      <th>9</th>\n",
       "      <td>0.98883</td>\n",
       "    </tr>\n",
       "  </tbody>\n",
       "</table>\n",
       "</div>"
      ],
      "text/plain": [
       "   sentiment\n",
       "0    0.97671\n",
       "1    0.74820\n",
       "2    0.91061\n",
       "3    0.68138\n",
       "4    0.19145\n",
       "5    0.98723\n",
       "6    0.74198\n",
       "7    0.53808\n",
       "8    0.98998\n",
       "9    0.98883"
      ]
     },
     "execution_count": 19,
     "metadata": {},
     "output_type": "execute_result"
    }
   ],
   "source": [
    "comedy_senti = pd.DataFrame(comedy['sentiment'])\n",
    "comedy_senti.head(10)"
   ]
  },
  {
   "cell_type": "code",
   "execution_count": 20,
   "metadata": {},
   "outputs": [
    {
     "data": {
      "text/plain": [
       "sentiment    0.716204\n",
       "dtype: float64"
      ]
     },
     "execution_count": 20,
     "metadata": {},
     "output_type": "execute_result"
    }
   ],
   "source": [
    "np.mean(comedy_senti)"
   ]
  },
  {
   "cell_type": "markdown",
   "metadata": {},
   "source": [
    "* 극한직업 네티즌 평점 평균: 8.51\n",
    "* 극한직업 리뷰 감성점수 평균: 7.16"
   ]
  },
  {
   "cell_type": "markdown",
   "metadata": {},
   "source": [
    "### 판타지, 가디언즈 오브 갤럭시"
   ]
  },
  {
   "cell_type": "code",
   "execution_count": 22,
   "metadata": {
    "scrolled": true
   },
   "outputs": [
    {
     "data": {
      "text/html": [
       "<div>\n",
       "<style scoped>\n",
       "    .dataframe tbody tr th:only-of-type {\n",
       "        vertical-align: middle;\n",
       "    }\n",
       "\n",
       "    .dataframe tbody tr th {\n",
       "        vertical-align: top;\n",
       "    }\n",
       "\n",
       "    .dataframe thead th {\n",
       "        text-align: right;\n",
       "    }\n",
       "</style>\n",
       "<table border=\"1\" class=\"dataframe\">\n",
       "  <thead>\n",
       "    <tr style=\"text-align: right;\">\n",
       "      <th></th>\n",
       "      <th>title</th>\n",
       "      <th>link</th>\n",
       "      <th>score</th>\n",
       "      <th>review</th>\n",
       "      <th>sentiment</th>\n",
       "    </tr>\n",
       "  </thead>\n",
       "  <tbody>\n",
       "    <tr>\n",
       "      <th>0</th>\n",
       "      <td>가디언즈오브갤럭시</td>\n",
       "      <td>https://movie.naver.com/movie/bi/mi/pointWrite...</td>\n",
       "      <td>10</td>\n",
       "      <td>난 오늘 퇴근하고 너구리를 분양받으러 가겠다</td>\n",
       "      <td>0.91007</td>\n",
       "    </tr>\n",
       "    <tr>\n",
       "      <th>1</th>\n",
       "      <td>가디언즈오브갤럭시</td>\n",
       "      <td>https://movie.naver.com/movie/bi/mi/pointWrite...</td>\n",
       "      <td>10</td>\n",
       "      <td>우리는그루트다 명대사입니다 추천영화</td>\n",
       "      <td>0.98510</td>\n",
       "    </tr>\n",
       "    <tr>\n",
       "      <th>2</th>\n",
       "      <td>가디언즈오브갤럭시</td>\n",
       "      <td>https://movie.naver.com/movie/bi/mi/pointWrite...</td>\n",
       "      <td>10</td>\n",
       "      <td>와 이번영화 장난없네요 마블 영화중 제일 재미있었던것같네요 지금 한국 대작영화들이 ...</td>\n",
       "      <td>0.99462</td>\n",
       "    </tr>\n",
       "    <tr>\n",
       "      <th>3</th>\n",
       "      <td>가디언즈오브갤럭시</td>\n",
       "      <td>https://movie.naver.com/movie/bi/mi/pointWrite...</td>\n",
       "      <td>10</td>\n",
       "      <td>말이 필요없음 마블에서 최초로 우주로나간 작품인데 대박임</td>\n",
       "      <td>0.99672</td>\n",
       "    </tr>\n",
       "    <tr>\n",
       "      <th>4</th>\n",
       "      <td>가디언즈오브갤럭시</td>\n",
       "      <td>https://movie.naver.com/movie/bi/mi/pointWrite...</td>\n",
       "      <td>10</td>\n",
       "      <td>마블영화중 갑 레알 꼭보세여ㅛ</td>\n",
       "      <td>0.93305</td>\n",
       "    </tr>\n",
       "  </tbody>\n",
       "</table>\n",
       "</div>"
      ],
      "text/plain": [
       "       title                                               link  score  \\\n",
       "0  가디언즈오브갤럭시  https://movie.naver.com/movie/bi/mi/pointWrite...     10   \n",
       "1  가디언즈오브갤럭시  https://movie.naver.com/movie/bi/mi/pointWrite...     10   \n",
       "2  가디언즈오브갤럭시  https://movie.naver.com/movie/bi/mi/pointWrite...     10   \n",
       "3  가디언즈오브갤럭시  https://movie.naver.com/movie/bi/mi/pointWrite...     10   \n",
       "4  가디언즈오브갤럭시  https://movie.naver.com/movie/bi/mi/pointWrite...     10   \n",
       "\n",
       "                                              review  sentiment  \n",
       "0                           난 오늘 퇴근하고 너구리를 분양받으러 가겠다    0.91007  \n",
       "1                                우리는그루트다 명대사입니다 추천영화    0.98510  \n",
       "2  와 이번영화 장난없네요 마블 영화중 제일 재미있었던것같네요 지금 한국 대작영화들이 ...    0.99462  \n",
       "3                    말이 필요없음 마블에서 최초로 우주로나간 작품인데 대박임    0.99672  \n",
       "4                                   마블영화중 갑 레알 꼭보세여ㅛ    0.93305  "
      ]
     },
     "execution_count": 22,
     "metadata": {},
     "output_type": "execute_result"
    }
   ],
   "source": [
    "fantasy = pd.read_csv('./sentiment/fantasy/movie_sentiment_1112_guardian.csv', encoding='euckr')\n",
    "fantasy.head()"
   ]
  },
  {
   "cell_type": "code",
   "execution_count": 23,
   "metadata": {},
   "outputs": [
    {
     "name": "stdout",
     "output_type": "stream",
     "text": [
      "<class 'pandas.core.frame.DataFrame'>\n",
      "RangeIndex: 7925 entries, 0 to 7924\n",
      "Data columns (total 5 columns):\n",
      " #   Column     Non-Null Count  Dtype  \n",
      "---  ------     --------------  -----  \n",
      " 0   title      7925 non-null   object \n",
      " 1   link       7925 non-null   object \n",
      " 2   score      7925 non-null   int64  \n",
      " 3   review     7925 non-null   object \n",
      " 4   sentiment  7925 non-null   float64\n",
      "dtypes: float64(1), int64(1), object(3)\n",
      "memory usage: 309.7+ KB\n"
     ]
    }
   ],
   "source": [
    "fantasy.info()"
   ]
  },
  {
   "cell_type": "code",
   "execution_count": 24,
   "metadata": {},
   "outputs": [
    {
     "data": {
      "text/html": [
       "<div>\n",
       "<style scoped>\n",
       "    .dataframe tbody tr th:only-of-type {\n",
       "        vertical-align: middle;\n",
       "    }\n",
       "\n",
       "    .dataframe tbody tr th {\n",
       "        vertical-align: top;\n",
       "    }\n",
       "\n",
       "    .dataframe thead th {\n",
       "        text-align: right;\n",
       "    }\n",
       "</style>\n",
       "<table border=\"1\" class=\"dataframe\">\n",
       "  <thead>\n",
       "    <tr style=\"text-align: right;\">\n",
       "      <th></th>\n",
       "      <th>sentiment</th>\n",
       "    </tr>\n",
       "  </thead>\n",
       "  <tbody>\n",
       "    <tr>\n",
       "      <th>0</th>\n",
       "      <td>0.91007</td>\n",
       "    </tr>\n",
       "    <tr>\n",
       "      <th>1</th>\n",
       "      <td>0.98510</td>\n",
       "    </tr>\n",
       "    <tr>\n",
       "      <th>2</th>\n",
       "      <td>0.99462</td>\n",
       "    </tr>\n",
       "    <tr>\n",
       "      <th>3</th>\n",
       "      <td>0.99672</td>\n",
       "    </tr>\n",
       "    <tr>\n",
       "      <th>4</th>\n",
       "      <td>0.93305</td>\n",
       "    </tr>\n",
       "    <tr>\n",
       "      <th>5</th>\n",
       "      <td>0.95416</td>\n",
       "    </tr>\n",
       "    <tr>\n",
       "      <th>6</th>\n",
       "      <td>0.44376</td>\n",
       "    </tr>\n",
       "    <tr>\n",
       "      <th>7</th>\n",
       "      <td>0.42162</td>\n",
       "    </tr>\n",
       "    <tr>\n",
       "      <th>8</th>\n",
       "      <td>0.33009</td>\n",
       "    </tr>\n",
       "    <tr>\n",
       "      <th>9</th>\n",
       "      <td>0.99787</td>\n",
       "    </tr>\n",
       "  </tbody>\n",
       "</table>\n",
       "</div>"
      ],
      "text/plain": [
       "   sentiment\n",
       "0    0.91007\n",
       "1    0.98510\n",
       "2    0.99462\n",
       "3    0.99672\n",
       "4    0.93305\n",
       "5    0.95416\n",
       "6    0.44376\n",
       "7    0.42162\n",
       "8    0.33009\n",
       "9    0.99787"
      ]
     },
     "execution_count": 24,
     "metadata": {},
     "output_type": "execute_result"
    }
   ],
   "source": [
    "fantasy_senti = pd.DataFrame(fantasy['sentiment'])\n",
    "fantasy_senti.head(10)"
   ]
  },
  {
   "cell_type": "code",
   "execution_count": 25,
   "metadata": {},
   "outputs": [
    {
     "data": {
      "text/plain": [
       "sentiment    0.773554\n",
       "dtype: float64"
      ]
     },
     "execution_count": 25,
     "metadata": {},
     "output_type": "execute_result"
    }
   ],
   "source": [
    "np.mean(fantasy_senti)"
   ]
  },
  {
   "cell_type": "markdown",
   "metadata": {},
   "source": [
    "* 가디언즈 오브 갤럭시 네티즌 평점 평균: 8.57\n",
    "* 가디언즈 오브 갤럭시 리뷰 감성점수 평균: 7.74"
   ]
  },
  {
   "cell_type": "markdown",
   "metadata": {},
   "source": [
    "### 호러, 랑종"
   ]
  },
  {
   "cell_type": "code",
   "execution_count": 26,
   "metadata": {},
   "outputs": [
    {
     "data": {
      "text/html": [
       "<div>\n",
       "<style scoped>\n",
       "    .dataframe tbody tr th:only-of-type {\n",
       "        vertical-align: middle;\n",
       "    }\n",
       "\n",
       "    .dataframe tbody tr th {\n",
       "        vertical-align: top;\n",
       "    }\n",
       "\n",
       "    .dataframe thead th {\n",
       "        text-align: right;\n",
       "    }\n",
       "</style>\n",
       "<table border=\"1\" class=\"dataframe\">\n",
       "  <thead>\n",
       "    <tr style=\"text-align: right;\">\n",
       "      <th></th>\n",
       "      <th>title</th>\n",
       "      <th>link</th>\n",
       "      <th>score</th>\n",
       "      <th>review</th>\n",
       "      <th>sentiment</th>\n",
       "    </tr>\n",
       "  </thead>\n",
       "  <tbody>\n",
       "    <tr>\n",
       "      <th>0</th>\n",
       "      <td>랑종</td>\n",
       "      <td>https://movie.naver.com/movie/point/af/list.na...</td>\n",
       "      <td>6</td>\n",
       "      <td>곡성 생각하고 봤지만 기대 이하 공포보다는 찝찝함이 더 큰 영화</td>\n",
       "      <td>0.01174</td>\n",
       "    </tr>\n",
       "    <tr>\n",
       "      <th>1</th>\n",
       "      <td>랑종</td>\n",
       "      <td>https://movie.naver.com/movie/point/af/list.na...</td>\n",
       "      <td>8</td>\n",
       "      <td>기괴하긴 하지만 태국의 샤머니즘 잘 보았다는 생각이 듭니다</td>\n",
       "      <td>0.85743</td>\n",
       "    </tr>\n",
       "    <tr>\n",
       "      <th>2</th>\n",
       "      <td>랑종</td>\n",
       "      <td>https://movie.naver.com/movie/point/af/list.na...</td>\n",
       "      <td>5</td>\n",
       "      <td>예고편이 가장 괜찮았던 영화</td>\n",
       "      <td>0.83910</td>\n",
       "    </tr>\n",
       "    <tr>\n",
       "      <th>3</th>\n",
       "      <td>랑종</td>\n",
       "      <td>https://movie.naver.com/movie/point/af/list.na...</td>\n",
       "      <td>5</td>\n",
       "      <td>굳이 다큐형식으로 찍을 필요가  장점 보다는 단점이 돋보이는 영화  끝까지 불편하고...</td>\n",
       "      <td>0.00695</td>\n",
       "    </tr>\n",
       "    <tr>\n",
       "      <th>4</th>\n",
       "      <td>랑종</td>\n",
       "      <td>https://movie.naver.com/movie/point/af/list.na...</td>\n",
       "      <td>10</td>\n",
       "      <td>이건아니야정말 아니야</td>\n",
       "      <td>0.14242</td>\n",
       "    </tr>\n",
       "  </tbody>\n",
       "</table>\n",
       "</div>"
      ],
      "text/plain": [
       "  title                                               link  score  \\\n",
       "0    랑종  https://movie.naver.com/movie/point/af/list.na...      6   \n",
       "1    랑종  https://movie.naver.com/movie/point/af/list.na...      8   \n",
       "2    랑종  https://movie.naver.com/movie/point/af/list.na...      5   \n",
       "3    랑종  https://movie.naver.com/movie/point/af/list.na...      5   \n",
       "4    랑종  https://movie.naver.com/movie/point/af/list.na...     10   \n",
       "\n",
       "                                              review  sentiment  \n",
       "0                곡성 생각하고 봤지만 기대 이하 공포보다는 찝찝함이 더 큰 영화    0.01174  \n",
       "1                   기괴하긴 하지만 태국의 샤머니즘 잘 보았다는 생각이 듭니다    0.85743  \n",
       "2                                    예고편이 가장 괜찮았던 영화    0.83910  \n",
       "3  굳이 다큐형식으로 찍을 필요가  장점 보다는 단점이 돋보이는 영화  끝까지 불편하고...    0.00695  \n",
       "4                                        이건아니야정말 아니야    0.14242  "
      ]
     },
     "execution_count": 26,
     "metadata": {},
     "output_type": "execute_result"
    }
   ],
   "source": [
    "horror = pd.read_csv('./sentiment/horror/movie_sentiment_1105_랑종.csv')\n",
    "horror.head()"
   ]
  },
  {
   "cell_type": "code",
   "execution_count": 27,
   "metadata": {},
   "outputs": [
    {
     "name": "stdout",
     "output_type": "stream",
     "text": [
      "<class 'pandas.core.frame.DataFrame'>\n",
      "RangeIndex: 7829 entries, 0 to 7828\n",
      "Data columns (total 5 columns):\n",
      " #   Column     Non-Null Count  Dtype  \n",
      "---  ------     --------------  -----  \n",
      " 0   title      7829 non-null   object \n",
      " 1   link       7829 non-null   object \n",
      " 2   score      7829 non-null   int64  \n",
      " 3   review     7829 non-null   object \n",
      " 4   sentiment  7829 non-null   float64\n",
      "dtypes: float64(1), int64(1), object(3)\n",
      "memory usage: 305.9+ KB\n"
     ]
    }
   ],
   "source": [
    "horror.info()"
   ]
  },
  {
   "cell_type": "code",
   "execution_count": 28,
   "metadata": {},
   "outputs": [
    {
     "data": {
      "text/html": [
       "<div>\n",
       "<style scoped>\n",
       "    .dataframe tbody tr th:only-of-type {\n",
       "        vertical-align: middle;\n",
       "    }\n",
       "\n",
       "    .dataframe tbody tr th {\n",
       "        vertical-align: top;\n",
       "    }\n",
       "\n",
       "    .dataframe thead th {\n",
       "        text-align: right;\n",
       "    }\n",
       "</style>\n",
       "<table border=\"1\" class=\"dataframe\">\n",
       "  <thead>\n",
       "    <tr style=\"text-align: right;\">\n",
       "      <th></th>\n",
       "      <th>sentiment</th>\n",
       "    </tr>\n",
       "  </thead>\n",
       "  <tbody>\n",
       "    <tr>\n",
       "      <th>0</th>\n",
       "      <td>0.01174</td>\n",
       "    </tr>\n",
       "    <tr>\n",
       "      <th>1</th>\n",
       "      <td>0.85743</td>\n",
       "    </tr>\n",
       "    <tr>\n",
       "      <th>2</th>\n",
       "      <td>0.83910</td>\n",
       "    </tr>\n",
       "    <tr>\n",
       "      <th>3</th>\n",
       "      <td>0.00695</td>\n",
       "    </tr>\n",
       "    <tr>\n",
       "      <th>4</th>\n",
       "      <td>0.14242</td>\n",
       "    </tr>\n",
       "    <tr>\n",
       "      <th>5</th>\n",
       "      <td>0.93156</td>\n",
       "    </tr>\n",
       "    <tr>\n",
       "      <th>6</th>\n",
       "      <td>0.25754</td>\n",
       "    </tr>\n",
       "    <tr>\n",
       "      <th>7</th>\n",
       "      <td>0.54639</td>\n",
       "    </tr>\n",
       "    <tr>\n",
       "      <th>8</th>\n",
       "      <td>0.03903</td>\n",
       "    </tr>\n",
       "    <tr>\n",
       "      <th>9</th>\n",
       "      <td>0.26861</td>\n",
       "    </tr>\n",
       "  </tbody>\n",
       "</table>\n",
       "</div>"
      ],
      "text/plain": [
       "   sentiment\n",
       "0    0.01174\n",
       "1    0.85743\n",
       "2    0.83910\n",
       "3    0.00695\n",
       "4    0.14242\n",
       "5    0.93156\n",
       "6    0.25754\n",
       "7    0.54639\n",
       "8    0.03903\n",
       "9    0.26861"
      ]
     },
     "execution_count": 28,
     "metadata": {},
     "output_type": "execute_result"
    }
   ],
   "source": [
    "horror_senti = pd.DataFrame(horror['sentiment'])\n",
    "horror_senti.head(10)"
   ]
  },
  {
   "cell_type": "code",
   "execution_count": 29,
   "metadata": {},
   "outputs": [
    {
     "data": {
      "text/plain": [
       "sentiment    0.36156\n",
       "dtype: float64"
      ]
     },
     "execution_count": 29,
     "metadata": {},
     "output_type": "execute_result"
    }
   ],
   "source": [
    "np.mean(horror_senti)"
   ]
  },
  {
   "cell_type": "markdown",
   "metadata": {},
   "source": [
    "* 랑종 네티즌 평점 평균: 5.23\n",
    "* 랑종 리뷰 감성점수 평균: 3.62"
   ]
  },
  {
   "cell_type": "markdown",
   "metadata": {},
   "source": [
    "### 로맨스, 어바웃 타임"
   ]
  },
  {
   "cell_type": "code",
   "execution_count": 31,
   "metadata": {},
   "outputs": [
    {
     "data": {
      "text/html": [
       "<div>\n",
       "<style scoped>\n",
       "    .dataframe tbody tr th:only-of-type {\n",
       "        vertical-align: middle;\n",
       "    }\n",
       "\n",
       "    .dataframe tbody tr th {\n",
       "        vertical-align: top;\n",
       "    }\n",
       "\n",
       "    .dataframe thead th {\n",
       "        text-align: right;\n",
       "    }\n",
       "</style>\n",
       "<table border=\"1\" class=\"dataframe\">\n",
       "  <thead>\n",
       "    <tr style=\"text-align: right;\">\n",
       "      <th></th>\n",
       "      <th>title</th>\n",
       "      <th>link</th>\n",
       "      <th>score</th>\n",
       "      <th>review</th>\n",
       "      <th>sentiment</th>\n",
       "    </tr>\n",
       "  </thead>\n",
       "  <tbody>\n",
       "    <tr>\n",
       "      <th>0</th>\n",
       "      <td>어바웃 타임</td>\n",
       "      <td>https://movie.naver.com/movie/bi/mi/pointWrite...</td>\n",
       "      <td>10</td>\n",
       "      <td>시간을 되돌릴 수 있다면 결과는 같다 씨네  이현경  스포성 전문가 평점 좀 없었으...</td>\n",
       "      <td>0.47227</td>\n",
       "    </tr>\n",
       "    <tr>\n",
       "      <th>1</th>\n",
       "      <td>어바웃 타임</td>\n",
       "      <td>https://movie.naver.com/movie/bi/mi/pointWrite...</td>\n",
       "      <td>10</td>\n",
       "      <td>가슴을 따뜻하게 해주는 정말 완전소중한 영화 ㅠㅠ</td>\n",
       "      <td>0.99611</td>\n",
       "    </tr>\n",
       "    <tr>\n",
       "      <th>2</th>\n",
       "      <td>어바웃 타임</td>\n",
       "      <td>https://movie.naver.com/movie/bi/mi/pointWrite...</td>\n",
       "      <td>10</td>\n",
       "      <td>아버지와 탁구시합 후 산책하러 가는장면에서 너무 많이울었네요 지금도 눈물이 살짝 고...</td>\n",
       "      <td>0.99850</td>\n",
       "    </tr>\n",
       "    <tr>\n",
       "      <th>3</th>\n",
       "      <td>어바웃 타임</td>\n",
       "      <td>https://movie.naver.com/movie/bi/mi/pointWrite...</td>\n",
       "      <td>10</td>\n",
       "      <td>재밋습니다 후회없습니다</td>\n",
       "      <td>0.96820</td>\n",
       "    </tr>\n",
       "    <tr>\n",
       "      <th>4</th>\n",
       "      <td>어바웃 타임</td>\n",
       "      <td>https://movie.naver.com/movie/bi/mi/pointWrite...</td>\n",
       "      <td>10</td>\n",
       "      <td>가슴 따뜻해지는 영화입니다 올겨울 강추</td>\n",
       "      <td>0.99830</td>\n",
       "    </tr>\n",
       "  </tbody>\n",
       "</table>\n",
       "</div>"
      ],
      "text/plain": [
       "    title                                               link  score  \\\n",
       "0  어바웃 타임  https://movie.naver.com/movie/bi/mi/pointWrite...     10   \n",
       "1  어바웃 타임  https://movie.naver.com/movie/bi/mi/pointWrite...     10   \n",
       "2  어바웃 타임  https://movie.naver.com/movie/bi/mi/pointWrite...     10   \n",
       "3  어바웃 타임  https://movie.naver.com/movie/bi/mi/pointWrite...     10   \n",
       "4  어바웃 타임  https://movie.naver.com/movie/bi/mi/pointWrite...     10   \n",
       "\n",
       "                                              review  sentiment  \n",
       "0  시간을 되돌릴 수 있다면 결과는 같다 씨네  이현경  스포성 전문가 평점 좀 없었으...    0.47227  \n",
       "1                        가슴을 따뜻하게 해주는 정말 완전소중한 영화 ㅠㅠ    0.99611  \n",
       "2  아버지와 탁구시합 후 산책하러 가는장면에서 너무 많이울었네요 지금도 눈물이 살짝 고...    0.99850  \n",
       "3                                       재밋습니다 후회없습니다    0.96820  \n",
       "4                              가슴 따뜻해지는 영화입니다 올겨울 강추    0.99830  "
      ]
     },
     "execution_count": 31,
     "metadata": {},
     "output_type": "execute_result"
    }
   ],
   "source": [
    "romance = pd.read_csv('./sentiment/romance/movie_sentiment_1111_About_Time.csv')\n",
    "romance.head()"
   ]
  },
  {
   "cell_type": "code",
   "execution_count": 32,
   "metadata": {},
   "outputs": [
    {
     "name": "stdout",
     "output_type": "stream",
     "text": [
      "<class 'pandas.core.frame.DataFrame'>\n",
      "RangeIndex: 13371 entries, 0 to 13370\n",
      "Data columns (total 5 columns):\n",
      " #   Column     Non-Null Count  Dtype  \n",
      "---  ------     --------------  -----  \n",
      " 0   title      13371 non-null  object \n",
      " 1   link       13371 non-null  object \n",
      " 2   score      13371 non-null  int64  \n",
      " 3   review     13371 non-null  object \n",
      " 4   sentiment  13371 non-null  float64\n",
      "dtypes: float64(1), int64(1), object(3)\n",
      "memory usage: 522.4+ KB\n"
     ]
    }
   ],
   "source": [
    "romance.info()"
   ]
  },
  {
   "cell_type": "code",
   "execution_count": 33,
   "metadata": {},
   "outputs": [
    {
     "data": {
      "text/html": [
       "<div>\n",
       "<style scoped>\n",
       "    .dataframe tbody tr th:only-of-type {\n",
       "        vertical-align: middle;\n",
       "    }\n",
       "\n",
       "    .dataframe tbody tr th {\n",
       "        vertical-align: top;\n",
       "    }\n",
       "\n",
       "    .dataframe thead th {\n",
       "        text-align: right;\n",
       "    }\n",
       "</style>\n",
       "<table border=\"1\" class=\"dataframe\">\n",
       "  <thead>\n",
       "    <tr style=\"text-align: right;\">\n",
       "      <th></th>\n",
       "      <th>sentiment</th>\n",
       "    </tr>\n",
       "  </thead>\n",
       "  <tbody>\n",
       "    <tr>\n",
       "      <th>0</th>\n",
       "      <td>0.47227</td>\n",
       "    </tr>\n",
       "    <tr>\n",
       "      <th>1</th>\n",
       "      <td>0.99611</td>\n",
       "    </tr>\n",
       "    <tr>\n",
       "      <th>2</th>\n",
       "      <td>0.99850</td>\n",
       "    </tr>\n",
       "    <tr>\n",
       "      <th>3</th>\n",
       "      <td>0.96820</td>\n",
       "    </tr>\n",
       "    <tr>\n",
       "      <th>4</th>\n",
       "      <td>0.99830</td>\n",
       "    </tr>\n",
       "    <tr>\n",
       "      <th>5</th>\n",
       "      <td>0.92383</td>\n",
       "    </tr>\n",
       "    <tr>\n",
       "      <th>6</th>\n",
       "      <td>0.99844</td>\n",
       "    </tr>\n",
       "    <tr>\n",
       "      <th>7</th>\n",
       "      <td>0.99698</td>\n",
       "    </tr>\n",
       "    <tr>\n",
       "      <th>8</th>\n",
       "      <td>0.99801</td>\n",
       "    </tr>\n",
       "    <tr>\n",
       "      <th>9</th>\n",
       "      <td>0.94315</td>\n",
       "    </tr>\n",
       "  </tbody>\n",
       "</table>\n",
       "</div>"
      ],
      "text/plain": [
       "   sentiment\n",
       "0    0.47227\n",
       "1    0.99611\n",
       "2    0.99850\n",
       "3    0.96820\n",
       "4    0.99830\n",
       "5    0.92383\n",
       "6    0.99844\n",
       "7    0.99698\n",
       "8    0.99801\n",
       "9    0.94315"
      ]
     },
     "execution_count": 33,
     "metadata": {},
     "output_type": "execute_result"
    }
   ],
   "source": [
    "romance_senti = pd.DataFrame(romance['sentiment'])\n",
    "romance_senti.head(10)"
   ]
  },
  {
   "cell_type": "code",
   "execution_count": 34,
   "metadata": {},
   "outputs": [
    {
     "data": {
      "text/plain": [
       "sentiment    0.85571\n",
       "dtype: float64"
      ]
     },
     "execution_count": 34,
     "metadata": {},
     "output_type": "execute_result"
    }
   ],
   "source": [
    "np.mean(romance_senti)"
   ]
  },
  {
   "cell_type": "markdown",
   "metadata": {},
   "source": [
    "* 어바웃 타임 네티즌 평점 평균: 9.19\n",
    "* 어바웃 타임 리뷰 감성점수 평균: 8.56"
   ]
  },
  {
   "cell_type": "markdown",
   "metadata": {},
   "source": [
    "### 최근 영화, 이터널스"
   ]
  },
  {
   "cell_type": "code",
   "execution_count": 36,
   "metadata": {},
   "outputs": [
    {
     "data": {
      "text/html": [
       "<div>\n",
       "<style scoped>\n",
       "    .dataframe tbody tr th:only-of-type {\n",
       "        vertical-align: middle;\n",
       "    }\n",
       "\n",
       "    .dataframe tbody tr th {\n",
       "        vertical-align: top;\n",
       "    }\n",
       "\n",
       "    .dataframe thead th {\n",
       "        text-align: right;\n",
       "    }\n",
       "</style>\n",
       "<table border=\"1\" class=\"dataframe\">\n",
       "  <thead>\n",
       "    <tr style=\"text-align: right;\">\n",
       "      <th></th>\n",
       "      <th>title</th>\n",
       "      <th>link</th>\n",
       "      <th>score</th>\n",
       "      <th>review</th>\n",
       "      <th>sentiment</th>\n",
       "    </tr>\n",
       "  </thead>\n",
       "  <tbody>\n",
       "    <tr>\n",
       "      <th>0</th>\n",
       "      <td>이터널스</td>\n",
       "      <td>https://movie.naver.com/movie/bi/mi/pointWrite...</td>\n",
       "      <td>2</td>\n",
       "      <td>ㄹㅇ내가여태본 마블영화중 가장 재미없었다</td>\n",
       "      <td>0.01081</td>\n",
       "    </tr>\n",
       "    <tr>\n",
       "      <th>1</th>\n",
       "      <td>이터널스</td>\n",
       "      <td>https://movie.naver.com/movie/bi/mi/pointWrite...</td>\n",
       "      <td>1</td>\n",
       "      <td>히로시마 감성팔이 극혐</td>\n",
       "      <td>0.03851</td>\n",
       "    </tr>\n",
       "    <tr>\n",
       "      <th>2</th>\n",
       "      <td>이터널스</td>\n",
       "      <td>https://movie.naver.com/movie/bi/mi/pointWrite...</td>\n",
       "      <td>7</td>\n",
       "      <td>아주 다들 사랑꾼들이여</td>\n",
       "      <td>0.94702</td>\n",
       "    </tr>\n",
       "    <tr>\n",
       "      <th>3</th>\n",
       "      <td>이터널스</td>\n",
       "      <td>https://movie.naver.com/movie/bi/mi/pointWrite...</td>\n",
       "      <td>6</td>\n",
       "      <td>솔직히 나는 그들이 돌아오지 않았으면 좋겠다 영원히</td>\n",
       "      <td>0.74626</td>\n",
       "    </tr>\n",
       "    <tr>\n",
       "      <th>4</th>\n",
       "      <td>이터널스</td>\n",
       "      <td>https://movie.naver.com/movie/bi/mi/pointWrite...</td>\n",
       "      <td>1</td>\n",
       "      <td>한마디로 재미없음 머글들을 타겟층으로 했다기엔 액션이 매우 별로고 그렇다고 마블 덕...</td>\n",
       "      <td>0.02242</td>\n",
       "    </tr>\n",
       "  </tbody>\n",
       "</table>\n",
       "</div>"
      ],
      "text/plain": [
       "  title                                               link  score  \\\n",
       "0  이터널스  https://movie.naver.com/movie/bi/mi/pointWrite...      2   \n",
       "1  이터널스  https://movie.naver.com/movie/bi/mi/pointWrite...      1   \n",
       "2  이터널스  https://movie.naver.com/movie/bi/mi/pointWrite...      7   \n",
       "3  이터널스  https://movie.naver.com/movie/bi/mi/pointWrite...      6   \n",
       "4  이터널스  https://movie.naver.com/movie/bi/mi/pointWrite...      1   \n",
       "\n",
       "                                              review  sentiment  \n",
       "0                             ㄹㅇ내가여태본 마블영화중 가장 재미없었다    0.01081  \n",
       "1                                       히로시마 감성팔이 극혐    0.03851  \n",
       "2                                       아주 다들 사랑꾼들이여    0.94702  \n",
       "3                       솔직히 나는 그들이 돌아오지 않았으면 좋겠다 영원히    0.74626  \n",
       "4  한마디로 재미없음 머글들을 타겟층으로 했다기엔 액션이 매우 별로고 그렇다고 마블 덕...    0.02242  "
      ]
     },
     "execution_count": 36,
     "metadata": {},
     "output_type": "execute_result"
    }
   ],
   "source": [
    "new = pd.read_csv('./sentiment/new/movie_sentiment_1124_Eternals.csv', encoding='euckr')\n",
    "new.head()"
   ]
  },
  {
   "cell_type": "code",
   "execution_count": 37,
   "metadata": {},
   "outputs": [
    {
     "name": "stdout",
     "output_type": "stream",
     "text": [
      "<class 'pandas.core.frame.DataFrame'>\n",
      "RangeIndex: 9603 entries, 0 to 9602\n",
      "Data columns (total 5 columns):\n",
      " #   Column     Non-Null Count  Dtype  \n",
      "---  ------     --------------  -----  \n",
      " 0   title      9603 non-null   object \n",
      " 1   link       9603 non-null   object \n",
      " 2   score      9603 non-null   int64  \n",
      " 3   review     9603 non-null   object \n",
      " 4   sentiment  9603 non-null   float64\n",
      "dtypes: float64(1), int64(1), object(3)\n",
      "memory usage: 375.2+ KB\n"
     ]
    }
   ],
   "source": [
    "new.info()"
   ]
  },
  {
   "cell_type": "code",
   "execution_count": 38,
   "metadata": {},
   "outputs": [
    {
     "data": {
      "text/html": [
       "<div>\n",
       "<style scoped>\n",
       "    .dataframe tbody tr th:only-of-type {\n",
       "        vertical-align: middle;\n",
       "    }\n",
       "\n",
       "    .dataframe tbody tr th {\n",
       "        vertical-align: top;\n",
       "    }\n",
       "\n",
       "    .dataframe thead th {\n",
       "        text-align: right;\n",
       "    }\n",
       "</style>\n",
       "<table border=\"1\" class=\"dataframe\">\n",
       "  <thead>\n",
       "    <tr style=\"text-align: right;\">\n",
       "      <th></th>\n",
       "      <th>sentiment</th>\n",
       "    </tr>\n",
       "  </thead>\n",
       "  <tbody>\n",
       "    <tr>\n",
       "      <th>0</th>\n",
       "      <td>0.01081</td>\n",
       "    </tr>\n",
       "    <tr>\n",
       "      <th>1</th>\n",
       "      <td>0.03851</td>\n",
       "    </tr>\n",
       "    <tr>\n",
       "      <th>2</th>\n",
       "      <td>0.94702</td>\n",
       "    </tr>\n",
       "    <tr>\n",
       "      <th>3</th>\n",
       "      <td>0.74626</td>\n",
       "    </tr>\n",
       "    <tr>\n",
       "      <th>4</th>\n",
       "      <td>0.02242</td>\n",
       "    </tr>\n",
       "    <tr>\n",
       "      <th>5</th>\n",
       "      <td>0.87522</td>\n",
       "    </tr>\n",
       "    <tr>\n",
       "      <th>6</th>\n",
       "      <td>0.06601</td>\n",
       "    </tr>\n",
       "    <tr>\n",
       "      <th>7</th>\n",
       "      <td>0.05254</td>\n",
       "    </tr>\n",
       "    <tr>\n",
       "      <th>8</th>\n",
       "      <td>0.03233</td>\n",
       "    </tr>\n",
       "    <tr>\n",
       "      <th>9</th>\n",
       "      <td>0.41337</td>\n",
       "    </tr>\n",
       "  </tbody>\n",
       "</table>\n",
       "</div>"
      ],
      "text/plain": [
       "   sentiment\n",
       "0    0.01081\n",
       "1    0.03851\n",
       "2    0.94702\n",
       "3    0.74626\n",
       "4    0.02242\n",
       "5    0.87522\n",
       "6    0.06601\n",
       "7    0.05254\n",
       "8    0.03233\n",
       "9    0.41337"
      ]
     },
     "execution_count": 38,
     "metadata": {},
     "output_type": "execute_result"
    }
   ],
   "source": [
    "new_senti = pd.DataFrame(new['sentiment'])\n",
    "new_senti.head(10)"
   ]
  },
  {
   "cell_type": "code",
   "execution_count": 39,
   "metadata": {},
   "outputs": [
    {
     "data": {
      "text/plain": [
       "sentiment    0.405442\n",
       "dtype: float64"
      ]
     },
     "execution_count": 39,
     "metadata": {},
     "output_type": "execute_result"
    }
   ],
   "source": [
    "np.mean(new_senti)"
   ]
  },
  {
   "cell_type": "markdown",
   "metadata": {},
   "source": [
    "* 이터널스 네티즌 평점 평균: 5.57\n",
    "* 이터널스 리뷰 감성점수 평균: 4.05"
   ]
  }
 ],
 "metadata": {
  "kernelspec": {
   "display_name": "Python 3",
   "language": "python",
   "name": "python3"
  },
  "language_info": {
   "codemirror_mode": {
    "name": "ipython",
    "version": 3
   },
   "file_extension": ".py",
   "mimetype": "text/x-python",
   "name": "python",
   "nbconvert_exporter": "python",
   "pygments_lexer": "ipython3",
   "version": "3.8.5"
  }
 },
 "nbformat": 4,
 "nbformat_minor": 4
}
