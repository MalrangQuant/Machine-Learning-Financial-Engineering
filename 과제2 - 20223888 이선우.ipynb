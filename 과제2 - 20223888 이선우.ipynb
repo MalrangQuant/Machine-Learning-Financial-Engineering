{
 "cells": [
  {
   "cell_type": "code",
   "execution_count": 1,
   "metadata": {},
   "outputs": [],
   "source": [
    "import numpy as np\n",
    "import pandas as pd\n",
    "\n",
    "from sklearn.preprocessing import StandardScaler"
   ]
  },
  {
   "cell_type": "markdown",
   "metadata": {},
   "source": [
    "## 1. default.csv 자료를 이용해 아래 질문에 대답하시오"
   ]
  },
  {
   "cell_type": "markdown",
   "metadata": {},
   "source": [
    "### 1-1. 더미변수 변환 밎 숫자형 변수 표준화"
   ]
  },
  {
   "cell_type": "code",
   "execution_count": 2,
   "metadata": {},
   "outputs": [
    {
     "data": {
      "text/html": [
       "<div>\n",
       "<style scoped>\n",
       "    .dataframe tbody tr th:only-of-type {\n",
       "        vertical-align: middle;\n",
       "    }\n",
       "\n",
       "    .dataframe tbody tr th {\n",
       "        vertical-align: top;\n",
       "    }\n",
       "\n",
       "    .dataframe thead th {\n",
       "        text-align: right;\n",
       "    }\n",
       "</style>\n",
       "<table border=\"1\" class=\"dataframe\">\n",
       "  <thead>\n",
       "    <tr style=\"text-align: right;\">\n",
       "      <th></th>\n",
       "      <th>default</th>\n",
       "      <th>student</th>\n",
       "      <th>balance</th>\n",
       "      <th>income</th>\n",
       "    </tr>\n",
       "  </thead>\n",
       "  <tbody>\n",
       "    <tr>\n",
       "      <th>0</th>\n",
       "      <td>0</td>\n",
       "      <td>0</td>\n",
       "      <td>-0.218835</td>\n",
       "      <td>0.813187</td>\n",
       "    </tr>\n",
       "    <tr>\n",
       "      <th>1</th>\n",
       "      <td>0</td>\n",
       "      <td>1</td>\n",
       "      <td>-0.037616</td>\n",
       "      <td>-1.605496</td>\n",
       "    </tr>\n",
       "    <tr>\n",
       "      <th>2</th>\n",
       "      <td>0</td>\n",
       "      <td>0</td>\n",
       "      <td>0.492410</td>\n",
       "      <td>-0.131212</td>\n",
       "    </tr>\n",
       "    <tr>\n",
       "      <th>3</th>\n",
       "      <td>0</td>\n",
       "      <td>0</td>\n",
       "      <td>-0.632893</td>\n",
       "      <td>0.164031</td>\n",
       "    </tr>\n",
       "    <tr>\n",
       "      <th>4</th>\n",
       "      <td>0</td>\n",
       "      <td>0</td>\n",
       "      <td>-0.102791</td>\n",
       "      <td>0.370915</td>\n",
       "    </tr>\n",
       "    <tr>\n",
       "      <th>...</th>\n",
       "      <td>...</td>\n",
       "      <td>...</td>\n",
       "      <td>...</td>\n",
       "      <td>...</td>\n",
       "    </tr>\n",
       "    <tr>\n",
       "      <th>9995</th>\n",
       "      <td>0</td>\n",
       "      <td>0</td>\n",
       "      <td>-0.255990</td>\n",
       "      <td>1.460366</td>\n",
       "    </tr>\n",
       "    <tr>\n",
       "      <th>9996</th>\n",
       "      <td>0</td>\n",
       "      <td>0</td>\n",
       "      <td>-0.160044</td>\n",
       "      <td>-1.039014</td>\n",
       "    </tr>\n",
       "    <tr>\n",
       "      <th>9997</th>\n",
       "      <td>0</td>\n",
       "      <td>0</td>\n",
       "      <td>0.020751</td>\n",
       "      <td>1.883565</td>\n",
       "    </tr>\n",
       "    <tr>\n",
       "      <th>9998</th>\n",
       "      <td>0</td>\n",
       "      <td>0</td>\n",
       "      <td>1.516742</td>\n",
       "      <td>0.236363</td>\n",
       "    </tr>\n",
       "    <tr>\n",
       "      <th>9999</th>\n",
       "      <td>0</td>\n",
       "      <td>1</td>\n",
       "      <td>-1.311691</td>\n",
       "      <td>-1.248805</td>\n",
       "    </tr>\n",
       "  </tbody>\n",
       "</table>\n",
       "<p>10000 rows × 4 columns</p>\n",
       "</div>"
      ],
      "text/plain": [
       "      default  student   balance    income\n",
       "0           0        0 -0.218835  0.813187\n",
       "1           0        1 -0.037616 -1.605496\n",
       "2           0        0  0.492410 -0.131212\n",
       "3           0        0 -0.632893  0.164031\n",
       "4           0        0 -0.102791  0.370915\n",
       "...       ...      ...       ...       ...\n",
       "9995        0        0 -0.255990  1.460366\n",
       "9996        0        0 -0.160044 -1.039014\n",
       "9997        0        0  0.020751  1.883565\n",
       "9998        0        0  1.516742  0.236363\n",
       "9999        0        1 -1.311691 -1.248805\n",
       "\n",
       "[10000 rows x 4 columns]"
      ]
     },
     "execution_count": 2,
     "metadata": {},
     "output_type": "execute_result"
    }
   ],
   "source": [
    "df_ori = pd.read_csv('./Data/default.csv')\n",
    "df = pd.read_csv('./Data/default.csv')\n",
    "\n",
    "df['student'] = np.where(df['student']=='Yes', 1, 0)\n",
    "df['default'] = np.where(df['default']=='Yes', 1, 0)\n",
    "scaler = StandardScaler()\n",
    "df[['balance', 'income']] = scaler.fit_transform( df[['balance', 'income']] )\n",
    "\n",
    "df\n"
   ]
  },
  {
   "cell_type": "markdown",
   "metadata": {},
   "source": [
    "### 1-2. 전체를 훈련용 데이터 셋이라 생각해, 이항로지스틱 회귀모형 훈련"
   ]
  },
  {
   "cell_type": "code",
   "execution_count": 3,
   "metadata": {},
   "outputs": [
    {
     "data": {
      "text/html": [
       "<style>#sk-container-id-1 {color: black;background-color: white;}#sk-container-id-1 pre{padding: 0;}#sk-container-id-1 div.sk-toggleable {background-color: white;}#sk-container-id-1 label.sk-toggleable__label {cursor: pointer;display: block;width: 100%;margin-bottom: 0;padding: 0.3em;box-sizing: border-box;text-align: center;}#sk-container-id-1 label.sk-toggleable__label-arrow:before {content: \"▸\";float: left;margin-right: 0.25em;color: #696969;}#sk-container-id-1 label.sk-toggleable__label-arrow:hover:before {color: black;}#sk-container-id-1 div.sk-estimator:hover label.sk-toggleable__label-arrow:before {color: black;}#sk-container-id-1 div.sk-toggleable__content {max-height: 0;max-width: 0;overflow: hidden;text-align: left;background-color: #f0f8ff;}#sk-container-id-1 div.sk-toggleable__content pre {margin: 0.2em;color: black;border-radius: 0.25em;background-color: #f0f8ff;}#sk-container-id-1 input.sk-toggleable__control:checked~div.sk-toggleable__content {max-height: 200px;max-width: 100%;overflow: auto;}#sk-container-id-1 input.sk-toggleable__control:checked~label.sk-toggleable__label-arrow:before {content: \"▾\";}#sk-container-id-1 div.sk-estimator input.sk-toggleable__control:checked~label.sk-toggleable__label {background-color: #d4ebff;}#sk-container-id-1 div.sk-label input.sk-toggleable__control:checked~label.sk-toggleable__label {background-color: #d4ebff;}#sk-container-id-1 input.sk-hidden--visually {border: 0;clip: rect(1px 1px 1px 1px);clip: rect(1px, 1px, 1px, 1px);height: 1px;margin: -1px;overflow: hidden;padding: 0;position: absolute;width: 1px;}#sk-container-id-1 div.sk-estimator {font-family: monospace;background-color: #f0f8ff;border: 1px dotted black;border-radius: 0.25em;box-sizing: border-box;margin-bottom: 0.5em;}#sk-container-id-1 div.sk-estimator:hover {background-color: #d4ebff;}#sk-container-id-1 div.sk-parallel-item::after {content: \"\";width: 100%;border-bottom: 1px solid gray;flex-grow: 1;}#sk-container-id-1 div.sk-label:hover label.sk-toggleable__label {background-color: #d4ebff;}#sk-container-id-1 div.sk-serial::before {content: \"\";position: absolute;border-left: 1px solid gray;box-sizing: border-box;top: 0;bottom: 0;left: 50%;z-index: 0;}#sk-container-id-1 div.sk-serial {display: flex;flex-direction: column;align-items: center;background-color: white;padding-right: 0.2em;padding-left: 0.2em;position: relative;}#sk-container-id-1 div.sk-item {position: relative;z-index: 1;}#sk-container-id-1 div.sk-parallel {display: flex;align-items: stretch;justify-content: center;background-color: white;position: relative;}#sk-container-id-1 div.sk-item::before, #sk-container-id-1 div.sk-parallel-item::before {content: \"\";position: absolute;border-left: 1px solid gray;box-sizing: border-box;top: 0;bottom: 0;left: 50%;z-index: -1;}#sk-container-id-1 div.sk-parallel-item {display: flex;flex-direction: column;z-index: 1;position: relative;background-color: white;}#sk-container-id-1 div.sk-parallel-item:first-child::after {align-self: flex-end;width: 50%;}#sk-container-id-1 div.sk-parallel-item:last-child::after {align-self: flex-start;width: 50%;}#sk-container-id-1 div.sk-parallel-item:only-child::after {width: 0;}#sk-container-id-1 div.sk-dashed-wrapped {border: 1px dashed gray;margin: 0 0.4em 0.5em 0.4em;box-sizing: border-box;padding-bottom: 0.4em;background-color: white;}#sk-container-id-1 div.sk-label label {font-family: monospace;font-weight: bold;display: inline-block;line-height: 1.2em;}#sk-container-id-1 div.sk-label-container {text-align: center;}#sk-container-id-1 div.sk-container {/* jupyter's `normalize.less` sets `[hidden] { display: none; }` but bootstrap.min.css set `[hidden] { display: none !important; }` so we also need the `!important` here to be able to override the default hidden behavior on the sphinx rendered scikit-learn.org. See: https://github.com/scikit-learn/scikit-learn/issues/21755 */display: inline-block !important;position: relative;}#sk-container-id-1 div.sk-text-repr-fallback {display: none;}</style><div id=\"sk-container-id-1\" class=\"sk-top-container\"><div class=\"sk-text-repr-fallback\"><pre>LogisticRegression()</pre><b>In a Jupyter environment, please rerun this cell to show the HTML representation or trust the notebook. <br />On GitHub, the HTML representation is unable to render, please try loading this page with nbviewer.org.</b></div><div class=\"sk-container\" hidden><div class=\"sk-item\"><div class=\"sk-estimator sk-toggleable\"><input class=\"sk-toggleable__control sk-hidden--visually\" id=\"sk-estimator-id-1\" type=\"checkbox\" checked><label for=\"sk-estimator-id-1\" class=\"sk-toggleable__label sk-toggleable__label-arrow\">LogisticRegression</label><div class=\"sk-toggleable__content\"><pre>LogisticRegression()</pre></div></div></div></div></div>"
      ],
      "text/plain": [
       "LogisticRegression()"
      ]
     },
     "execution_count": 3,
     "metadata": {},
     "output_type": "execute_result"
    }
   ],
   "source": [
    "from sklearn.linear_model import LogisticRegression\n",
    "X_train = df.to_numpy()[:, 1:]\n",
    "y_train = df.to_numpy()[:,0]\n",
    "lr_clf = LogisticRegression()\n",
    "lr_clf.fit(X_train, y_train)"
   ]
  },
  {
   "cell_type": "code",
   "execution_count": 4,
   "metadata": {},
   "outputs": [
    {
     "data": {
      "text/plain": [
       "(array([[-0.6017408 ,  2.73797718,  0.05238052]]), array([-5.93161678]))"
      ]
     },
     "execution_count": 4,
     "metadata": {},
     "output_type": "execute_result"
    }
   ],
   "source": [
    "lr_clf.coef_, lr_clf.intercept_"
   ]
  },
  {
   "cell_type": "markdown",
   "metadata": {},
   "source": [
    "### 1-3. 추정된 패러미터를 이용해, 로지스틱 회귀모형을 식으로 표현 "
   ]
  },
  {
   "cell_type": "markdown",
   "metadata": {},
   "source": [
    "#### $$ \\mu\\left(\\text{student, balance, income}\\right)\\,=\\,\\sigma \\left(-5.931617 \\,-0.6017408\\,\\times\\,\\text{Student}\\,+\\,2.73797718\\,\\times\\,\\text{balance}\\,+\\,0.05238052\\,\\times\\,\\text{income}  \\right)$$\n",
    "\n",
    "#### $$ \\text{st.} \\quad \\sigma(x) = \\frac{1}{1+exp(-x)} $$"
   ]
  },
  {
   "cell_type": "markdown",
   "metadata": {},
   "source": [
    "### 1-4 새로운 데이터의 Default 확률 (학생, 잔고 900, 수입 7100)"
   ]
  },
  {
   "cell_type": "code",
   "execution_count": 5,
   "metadata": {},
   "outputs": [],
   "source": [
    "def sigmoid(x):\n",
    "    return 1/(1+np.exp(-x))\n",
    "\n",
    "\n",
    "a = lr_clf.intercept_\n",
    "b = lr_clf.coef_\n",
    "coeffs = np.c_[a, b]"
   ]
  },
  {
   "cell_type": "code",
   "execution_count": 6,
   "metadata": {},
   "outputs": [
    {
     "data": {
      "text/plain": [
       "array([[-5.93161678, -0.6017408 ,  2.73797718,  0.05238052]])"
      ]
     },
     "execution_count": 6,
     "metadata": {},
     "output_type": "execute_result"
    }
   ],
   "source": [
    "coeffs"
   ]
  },
  {
   "cell_type": "code",
   "execution_count": 7,
   "metadata": {},
   "outputs": [
    {
     "name": "stdout",
     "output_type": "stream",
     "text": [
      "New Customer's Default Probability = 0.1886%\n"
     ]
    }
   ],
   "source": [
    "values = np.array([1, 900, 7100]).reshape(1,3)\n",
    "values_scaler = scaler.fit_transform(np.vstack([df_ori[['balance', 'income']].to_numpy(), values[:,1:]]))\n",
    "new = np.hstack([ np.ones((1, 2)), values_scaler[-1].reshape(1,2)])\n",
    "\n",
    "new_pred_y = sigmoid(coeffs @ new.T)\n",
    "\n",
    "print(f\"New Customer's Default Probability = {np.round(new_pred_y.item() * 100, 4)}%\")"
   ]
  },
  {
   "cell_type": "markdown",
   "metadata": {},
   "source": [
    "## 2. 소프트맥스"
   ]
  },
  {
   "cell_type": "markdown",
   "metadata": {},
   "source": [
    "### 2-1. $\\theta_1$ 가장 확률 높은 범주로 분류해주기"
   ]
  },
  {
   "cell_type": "code",
   "execution_count": 8,
   "metadata": {},
   "outputs": [
    {
     "data": {
      "text/plain": [
       "array([[ 1.   , -1.086,  0.997,  0.283, -1.506,  2.   ],\n",
       "       [ 1.   , -0.579,  1.651, -2.427, -0.429,  1.   ],\n",
       "       [ 1.   ,  1.266, -0.867, -0.679, -0.095,  1.   ],\n",
       "       [ 1.   ,  1.491, -0.639, -0.444, -0.434,  1.   ],\n",
       "       [ 1.   ,  2.206,  2.187,  1.004,  0.386,  3.   ]])"
      ]
     },
     "execution_count": 8,
     "metadata": {},
     "output_type": "execute_result"
    }
   ],
   "source": [
    "np.random.seed(123)\n",
    "traindt = np.hstack( [np.ones((5,1)),\\\n",
    "                      np.around( np.random.randn(5,4), 3),\n",
    "                      np.random.randint(1,4,(5,1))] )\n",
    "\n",
    "traindt"
   ]
  },
  {
   "cell_type": "code",
   "execution_count": 9,
   "metadata": {},
   "outputs": [],
   "source": [
    "X = traindt[:, :5]\n",
    "y = traindt[:, 5]"
   ]
  },
  {
   "cell_type": "code",
   "execution_count": 10,
   "metadata": {},
   "outputs": [],
   "source": [
    "theta_1 = np.vstack(([5, 2, 3, 1, 4],\n",
    "                     [2, 4, 3, 1, 2],\n",
    "                     [3, 4, 1, 5, 4]))"
   ]
  },
  {
   "cell_type": "code",
   "execution_count": 11,
   "metadata": {},
   "outputs": [
    {
     "data": {
      "text/plain": [
       "array([[8.15090265e-01, 1.73939453e-01, 1.09702821e-02],\n",
       "       [5.54924306e-01, 4.45070109e-01, 5.58494333e-06],\n",
       "       [3.35339710e-01, 3.33162355e-01, 3.31497936e-01],\n",
       "       [3.31186331e-01, 3.35048941e-01, 3.33764728e-01],\n",
       "       [3.33333332e-01, 3.33333333e-01, 3.33333335e-01]])"
      ]
     },
     "execution_count": 11,
     "metadata": {},
     "output_type": "execute_result"
    }
   ],
   "source": [
    "prob_1 = sigmoid(theta_1 @ X.T) / sigmoid(theta_1 @ X.T).sum(axis=0)\n",
    "#np.round(prob_1, 6)\n",
    "prob_1.T"
   ]
  },
  {
   "cell_type": "code",
   "execution_count": 12,
   "metadata": {},
   "outputs": [
    {
     "data": {
      "text/plain": [
       "(array([0, 0, 0, 1, 2]),\n",
       " array([0.81509027, 0.55492431, 0.33533971, 0.33504894, 0.33333333]))"
      ]
     },
     "execution_count": 12,
     "metadata": {},
     "output_type": "execute_result"
    }
   ],
   "source": [
    "pred_y_1 = np.argmax(prob_1, axis=0)\n",
    "pred_prob_1 = np.max(prob_1, axis=0)\n",
    "pred_y_1, pred_prob_1"
   ]
  },
  {
   "cell_type": "markdown",
   "metadata": {},
   "source": [
    "### 2.2 $\\theta_2$ 높은 확률 범주로 분류해주기"
   ]
  },
  {
   "cell_type": "code",
   "execution_count": 13,
   "metadata": {},
   "outputs": [
    {
     "data": {
      "text/plain": [
       "array([[7.50325205e-01, 5.70978939e-01, 3.36504743e-01, 3.32496896e-01,\n",
       "        3.33333339e-01],\n",
       "       [2.41873824e-01, 4.29015258e-01, 3.31851501e-01, 3.34055042e-01,\n",
       "        3.33333322e-01],\n",
       "       [7.80097033e-03, 5.80307405e-06, 3.31643756e-01, 3.33448063e-01,\n",
       "        3.33333339e-01]])"
      ]
     },
     "execution_count": 13,
     "metadata": {},
     "output_type": "execute_result"
    }
   ],
   "source": [
    "theta_2 = np.vstack([[5.5, 2. , 3. , 1.5, 4. ],\n",
    "                     [2. , 3.5, 2.5, 1. , 1.5],\n",
    "                     [3. , 4. , 1. , 5. , 4. ]])\n",
    "\n",
    "prob_2 = sigmoid(theta_2 @ X.T) / sigmoid(theta_2 @ X.T).sum(axis=0)\n",
    "#np.round(prob_2, 8)\n",
    "prob_2"
   ]
  },
  {
   "cell_type": "code",
   "execution_count": 14,
   "metadata": {},
   "outputs": [
    {
     "data": {
      "text/plain": [
       "(array([0, 0, 0, 1, 2]),\n",
       " array([0.75032521, 0.57097894, 0.33650474, 0.33405504, 0.33333334]))"
      ]
     },
     "execution_count": 14,
     "metadata": {},
     "output_type": "execute_result"
    }
   ],
   "source": [
    "pred_y_2 = np.argmax(prob_2, axis=0)\n",
    "pred_prob_2 = np.max(prob_2, axis=0)\n",
    "pred_y_2, pred_prob_2"
   ]
  },
  {
   "cell_type": "code",
   "execution_count": 15,
   "metadata": {},
   "outputs": [
    {
     "data": {
      "text/plain": [
       "(array([0.81509027, 0.55492431, 0.33533971, 0.33504894, 0.33333333]),\n",
       " array([0.75032521, 0.57097894, 0.33650474, 0.33405504, 0.33333334]))"
      ]
     },
     "execution_count": 15,
     "metadata": {},
     "output_type": "execute_result"
    }
   ],
   "source": [
    "pred_prob_1, pred_prob_2"
   ]
  },
  {
   "cell_type": "markdown",
   "metadata": {},
   "source": [
    "### 2.4. 크로스 엔트로피 비용함수를 이용해, 어떤 패러미터 행렬이 적절한지 비교"
   ]
  },
  {
   "cell_type": "code",
   "execution_count": 16,
   "metadata": {},
   "outputs": [],
   "source": [
    "def cross_entropy (y, y_pred, y_prob):\n",
    "\n",
    "    return np.round((-1) * ( np.where((y_pred + 1) - (y) == 0, 1, 0) @ np.log(y_prob).T ) / len(y), 6)"
   ]
  },
  {
   "cell_type": "code",
   "execution_count": 17,
   "metadata": {},
   "outputs": [
    {
     "data": {
      "text/plain": [
       "(0.556029, 0.549632)"
      ]
     },
     "execution_count": 17,
     "metadata": {},
     "output_type": "execute_result"
    }
   ],
   "source": [
    "cross_entropy(y, pred_y_1, pred_prob_1), cross_entropy(y, pred_y_2, pred_prob_2)"
   ]
  },
  {
   "cell_type": "markdown",
   "metadata": {},
   "source": [
    "#### '''로그손실 함수가 더 작은 2번째 ($\\theta_2$)가 더 낫다'''"
   ]
  },
  {
   "cell_type": "markdown",
   "metadata": {},
   "source": [
    "## 3. 아래 문제를 푸시오"
   ]
  },
  {
   "cell_type": "markdown",
   "metadata": {},
   "source": [
    "### 3.1 분류 임계치별 정밀도와 재현율 계산해, 정밀도 재현율 그림을 그리시오"
   ]
  },
  {
   "cell_type": "code",
   "execution_count": 18,
   "metadata": {},
   "outputs": [],
   "source": [
    "import matplotlib.pyplot as plt\n",
    "from sklearn.metrics import confusion_matrix\n",
    "from tqdm import tqdm\n"
   ]
  },
  {
   "cell_type": "code",
   "execution_count": 19,
   "metadata": {},
   "outputs": [],
   "source": [
    "df = pd.read_csv('./Data/scoredEX.csv', index_col=0)"
   ]
  },
  {
   "cell_type": "code",
   "execution_count": 20,
   "metadata": {},
   "outputs": [
    {
     "data": {
      "text/html": [
       "<div>\n",
       "<style scoped>\n",
       "    .dataframe tbody tr th:only-of-type {\n",
       "        vertical-align: middle;\n",
       "    }\n",
       "\n",
       "    .dataframe tbody tr th {\n",
       "        vertical-align: top;\n",
       "    }\n",
       "\n",
       "    .dataframe thead th {\n",
       "        text-align: right;\n",
       "    }\n",
       "</style>\n",
       "<table border=\"1\" class=\"dataframe\">\n",
       "  <thead>\n",
       "    <tr style=\"text-align: right;\">\n",
       "      <th></th>\n",
       "      <th>x0</th>\n",
       "      <th>x1</th>\n",
       "      <th>x2</th>\n",
       "      <th>x3</th>\n",
       "      <th>x4</th>\n",
       "      <th>x5</th>\n",
       "      <th>x6</th>\n",
       "      <th>x7</th>\n",
       "      <th>x8</th>\n",
       "      <th>x9</th>\n",
       "      <th>...</th>\n",
       "      <th>x22</th>\n",
       "      <th>x23</th>\n",
       "      <th>x24</th>\n",
       "      <th>x25</th>\n",
       "      <th>x26</th>\n",
       "      <th>x27</th>\n",
       "      <th>x28</th>\n",
       "      <th>x29</th>\n",
       "      <th>y_test</th>\n",
       "      <th>p_pred</th>\n",
       "    </tr>\n",
       "  </thead>\n",
       "  <tbody>\n",
       "    <tr>\n",
       "      <th>0</th>\n",
       "      <td>-0.206561</td>\n",
       "      <td>0.286311</td>\n",
       "      <td>-0.137124</td>\n",
       "      <td>-0.279260</td>\n",
       "      <td>1.013376</td>\n",
       "      <td>0.806556</td>\n",
       "      <td>0.699320</td>\n",
       "      <td>0.846065</td>\n",
       "      <td>1.111279</td>\n",
       "      <td>1.481735</td>\n",
       "      <td>...</td>\n",
       "      <td>0.179870</td>\n",
       "      <td>-0.063607</td>\n",
       "      <td>1.097274</td>\n",
       "      <td>0.835474</td>\n",
       "      <td>1.143785</td>\n",
       "      <td>1.377912</td>\n",
       "      <td>1.106957</td>\n",
       "      <td>1.493688</td>\n",
       "      <td>0</td>\n",
       "      <td>0.133333</td>\n",
       "    </tr>\n",
       "    <tr>\n",
       "      <th>1</th>\n",
       "      <td>-0.260524</td>\n",
       "      <td>1.387014</td>\n",
       "      <td>-0.324127</td>\n",
       "      <td>-0.332729</td>\n",
       "      <td>-0.601368</td>\n",
       "      <td>-0.990992</td>\n",
       "      <td>-0.766849</td>\n",
       "      <td>-0.728400</td>\n",
       "      <td>-0.703240</td>\n",
       "      <td>-0.986314</td>\n",
       "      <td>...</td>\n",
       "      <td>-0.475716</td>\n",
       "      <td>-0.435405</td>\n",
       "      <td>-0.152049</td>\n",
       "      <td>-0.941264</td>\n",
       "      <td>-0.638975</td>\n",
       "      <td>-0.830706</td>\n",
       "      <td>-0.738931</td>\n",
       "      <td>-0.890300</td>\n",
       "      <td>1</td>\n",
       "      <td>1.000000</td>\n",
       "    </tr>\n",
       "    <tr>\n",
       "      <th>2</th>\n",
       "      <td>-0.030472</td>\n",
       "      <td>-0.844644</td>\n",
       "      <td>-0.097993</td>\n",
       "      <td>-0.137624</td>\n",
       "      <td>-1.188483</td>\n",
       "      <td>-0.919734</td>\n",
       "      <td>-0.852851</td>\n",
       "      <td>-0.577763</td>\n",
       "      <td>-0.812768</td>\n",
       "      <td>-0.983478</td>\n",
       "      <td>...</td>\n",
       "      <td>-0.319638</td>\n",
       "      <td>-0.336962</td>\n",
       "      <td>-1.269864</td>\n",
       "      <td>-0.970527</td>\n",
       "      <td>-1.005506</td>\n",
       "      <td>-0.494046</td>\n",
       "      <td>-1.237207</td>\n",
       "      <td>-0.933525</td>\n",
       "      <td>1</td>\n",
       "      <td>0.950000</td>\n",
       "    </tr>\n",
       "    <tr>\n",
       "      <th>3</th>\n",
       "      <td>0.037691</td>\n",
       "      <td>-0.260550</td>\n",
       "      <td>-0.030853</td>\n",
       "      <td>-0.061970</td>\n",
       "      <td>-2.177683</td>\n",
       "      <td>-0.988149</td>\n",
       "      <td>-0.804137</td>\n",
       "      <td>-0.907410</td>\n",
       "      <td>-0.644825</td>\n",
       "      <td>-0.983478</td>\n",
       "      <td>...</td>\n",
       "      <td>-0.043523</td>\n",
       "      <td>-0.107027</td>\n",
       "      <td>-1.662195</td>\n",
       "      <td>-0.238966</td>\n",
       "      <td>-0.555018</td>\n",
       "      <td>-0.598500</td>\n",
       "      <td>-0.428317</td>\n",
       "      <td>-0.398208</td>\n",
       "      <td>1</td>\n",
       "      <td>0.950000</td>\n",
       "    </tr>\n",
       "    <tr>\n",
       "      <th>4</th>\n",
       "      <td>-0.311646</td>\n",
       "      <td>-0.202373</td>\n",
       "      <td>-0.385500</td>\n",
       "      <td>-0.372831</td>\n",
       "      <td>-0.464730</td>\n",
       "      <td>-1.263703</td>\n",
       "      <td>-0.793214</td>\n",
       "      <td>-0.507861</td>\n",
       "      <td>-1.258183</td>\n",
       "      <td>-0.590802</td>\n",
       "      <td>...</td>\n",
       "      <td>-0.679153</td>\n",
       "      <td>-0.588344</td>\n",
       "      <td>-1.549975</td>\n",
       "      <td>-1.323648</td>\n",
       "      <td>-1.073966</td>\n",
       "      <td>-0.981753</td>\n",
       "      <td>-1.478256</td>\n",
       "      <td>-1.233324</td>\n",
       "      <td>1</td>\n",
       "      <td>1.000000</td>\n",
       "    </tr>\n",
       "    <tr>\n",
       "      <th>...</th>\n",
       "      <td>...</td>\n",
       "      <td>...</td>\n",
       "      <td>...</td>\n",
       "      <td>...</td>\n",
       "      <td>...</td>\n",
       "      <td>...</td>\n",
       "      <td>...</td>\n",
       "      <td>...</td>\n",
       "      <td>...</td>\n",
       "      <td>...</td>\n",
       "      <td>...</td>\n",
       "      <td>...</td>\n",
       "      <td>...</td>\n",
       "      <td>...</td>\n",
       "      <td>...</td>\n",
       "      <td>...</td>\n",
       "      <td>...</td>\n",
       "      <td>...</td>\n",
       "      <td>...</td>\n",
       "      <td>...</td>\n",
       "      <td>...</td>\n",
       "    </tr>\n",
       "    <tr>\n",
       "      <th>394</th>\n",
       "      <td>1.437881</td>\n",
       "      <td>-0.779486</td>\n",
       "      <td>1.414099</td>\n",
       "      <td>1.428055</td>\n",
       "      <td>-0.670398</td>\n",
       "      <td>0.268334</td>\n",
       "      <td>0.382935</td>\n",
       "      <td>1.231685</td>\n",
       "      <td>-0.257825</td>\n",
       "      <td>-1.564696</td>\n",
       "      <td>...</td>\n",
       "      <td>1.171739</td>\n",
       "      <td>1.080091</td>\n",
       "      <td>-0.875341</td>\n",
       "      <td>-0.335023</td>\n",
       "      <td>-0.219671</td>\n",
       "      <td>0.960704</td>\n",
       "      <td>-0.740548</td>\n",
       "      <td>-1.187883</td>\n",
       "      <td>0</td>\n",
       "      <td>0.350000</td>\n",
       "    </tr>\n",
       "    <tr>\n",
       "      <th>395</th>\n",
       "      <td>1.412320</td>\n",
       "      <td>1.629029</td>\n",
       "      <td>1.529432</td>\n",
       "      <td>1.356952</td>\n",
       "      <td>1.789079</td>\n",
       "      <td>1.416794</td>\n",
       "      <td>1.317025</td>\n",
       "      <td>2.527316</td>\n",
       "      <td>-0.648476</td>\n",
       "      <td>1.338557</td>\n",
       "      <td>...</td>\n",
       "      <td>1.013874</td>\n",
       "      <td>0.733782</td>\n",
       "      <td>0.299461</td>\n",
       "      <td>0.174525</td>\n",
       "      <td>-0.139073</td>\n",
       "      <td>1.058154</td>\n",
       "      <td>-0.954095</td>\n",
       "      <td>0.447992</td>\n",
       "      <td>0</td>\n",
       "      <td>0.050000</td>\n",
       "    </tr>\n",
       "    <tr>\n",
       "      <th>396</th>\n",
       "      <td>0.210940</td>\n",
       "      <td>-0.609610</td>\n",
       "      <td>0.274778</td>\n",
       "      <td>0.078528</td>\n",
       "      <td>1.411902</td>\n",
       "      <td>1.147683</td>\n",
       "      <td>1.006917</td>\n",
       "      <td>1.039777</td>\n",
       "      <td>1.260968</td>\n",
       "      <td>0.692130</td>\n",
       "      <td>...</td>\n",
       "      <td>0.590915</td>\n",
       "      <td>0.376926</td>\n",
       "      <td>2.429885</td>\n",
       "      <td>1.232425</td>\n",
       "      <td>0.950924</td>\n",
       "      <td>1.341368</td>\n",
       "      <td>1.106957</td>\n",
       "      <td>1.249858</td>\n",
       "      <td>0</td>\n",
       "      <td>0.100000</td>\n",
       "    </tr>\n",
       "    <tr>\n",
       "      <th>397</th>\n",
       "      <td>-0.124197</td>\n",
       "      <td>-0.749234</td>\n",
       "      <td>-0.170076</td>\n",
       "      <td>-0.215552</td>\n",
       "      <td>-0.949367</td>\n",
       "      <td>-0.769449</td>\n",
       "      <td>-0.793968</td>\n",
       "      <td>-0.737944</td>\n",
       "      <td>0.220449</td>\n",
       "      <td>-0.865817</td>\n",
       "      <td>...</td>\n",
       "      <td>-0.241301</td>\n",
       "      <td>-0.369132</td>\n",
       "      <td>-0.958629</td>\n",
       "      <td>-0.284132</td>\n",
       "      <td>-0.660084</td>\n",
       "      <td>-0.681180</td>\n",
       "      <td>0.683099</td>\n",
       "      <td>-0.384354</td>\n",
       "      <td>1</td>\n",
       "      <td>1.000000</td>\n",
       "    </tr>\n",
       "    <tr>\n",
       "      <th>398</th>\n",
       "      <td>-0.362769</td>\n",
       "      <td>0.484112</td>\n",
       "      <td>-0.384677</td>\n",
       "      <td>-0.399281</td>\n",
       "      <td>-1.483819</td>\n",
       "      <td>-0.401411</td>\n",
       "      <td>-0.345755</td>\n",
       "      <td>-0.780246</td>\n",
       "      <td>-0.845627</td>\n",
       "      <td>-0.234983</td>\n",
       "      <td>...</td>\n",
       "      <td>-0.465589</td>\n",
       "      <td>-0.412728</td>\n",
       "      <td>-1.681045</td>\n",
       "      <td>-0.385914</td>\n",
       "      <td>-0.424046</td>\n",
       "      <td>-0.892221</td>\n",
       "      <td>-0.667748</td>\n",
       "      <td>-0.134983</td>\n",
       "      <td>1</td>\n",
       "      <td>0.950000</td>\n",
       "    </tr>\n",
       "  </tbody>\n",
       "</table>\n",
       "<p>399 rows × 32 columns</p>\n",
       "</div>"
      ],
      "text/plain": [
       "           x0        x1        x2        x3        x4        x5        x6  \\\n",
       "0   -0.206561  0.286311 -0.137124 -0.279260  1.013376  0.806556  0.699320   \n",
       "1   -0.260524  1.387014 -0.324127 -0.332729 -0.601368 -0.990992 -0.766849   \n",
       "2   -0.030472 -0.844644 -0.097993 -0.137624 -1.188483 -0.919734 -0.852851   \n",
       "3    0.037691 -0.260550 -0.030853 -0.061970 -2.177683 -0.988149 -0.804137   \n",
       "4   -0.311646 -0.202373 -0.385500 -0.372831 -0.464730 -1.263703 -0.793214   \n",
       "..        ...       ...       ...       ...       ...       ...       ...   \n",
       "394  1.437881 -0.779486  1.414099  1.428055 -0.670398  0.268334  0.382935   \n",
       "395  1.412320  1.629029  1.529432  1.356952  1.789079  1.416794  1.317025   \n",
       "396  0.210940 -0.609610  0.274778  0.078528  1.411902  1.147683  1.006917   \n",
       "397 -0.124197 -0.749234 -0.170076 -0.215552 -0.949367 -0.769449 -0.793968   \n",
       "398 -0.362769  0.484112 -0.384677 -0.399281 -1.483819 -0.401411 -0.345755   \n",
       "\n",
       "           x7        x8        x9  ...       x22       x23       x24  \\\n",
       "0    0.846065  1.111279  1.481735  ...  0.179870 -0.063607  1.097274   \n",
       "1   -0.728400 -0.703240 -0.986314  ... -0.475716 -0.435405 -0.152049   \n",
       "2   -0.577763 -0.812768 -0.983478  ... -0.319638 -0.336962 -1.269864   \n",
       "3   -0.907410 -0.644825 -0.983478  ... -0.043523 -0.107027 -1.662195   \n",
       "4   -0.507861 -1.258183 -0.590802  ... -0.679153 -0.588344 -1.549975   \n",
       "..        ...       ...       ...  ...       ...       ...       ...   \n",
       "394  1.231685 -0.257825 -1.564696  ...  1.171739  1.080091 -0.875341   \n",
       "395  2.527316 -0.648476  1.338557  ...  1.013874  0.733782  0.299461   \n",
       "396  1.039777  1.260968  0.692130  ...  0.590915  0.376926  2.429885   \n",
       "397 -0.737944  0.220449 -0.865817  ... -0.241301 -0.369132 -0.958629   \n",
       "398 -0.780246 -0.845627 -0.234983  ... -0.465589 -0.412728 -1.681045   \n",
       "\n",
       "          x25       x26       x27       x28       x29  y_test    p_pred  \n",
       "0    0.835474  1.143785  1.377912  1.106957  1.493688       0  0.133333  \n",
       "1   -0.941264 -0.638975 -0.830706 -0.738931 -0.890300       1  1.000000  \n",
       "2   -0.970527 -1.005506 -0.494046 -1.237207 -0.933525       1  0.950000  \n",
       "3   -0.238966 -0.555018 -0.598500 -0.428317 -0.398208       1  0.950000  \n",
       "4   -1.323648 -1.073966 -0.981753 -1.478256 -1.233324       1  1.000000  \n",
       "..        ...       ...       ...       ...       ...     ...       ...  \n",
       "394 -0.335023 -0.219671  0.960704 -0.740548 -1.187883       0  0.350000  \n",
       "395  0.174525 -0.139073  1.058154 -0.954095  0.447992       0  0.050000  \n",
       "396  1.232425  0.950924  1.341368  1.106957  1.249858       0  0.100000  \n",
       "397 -0.284132 -0.660084 -0.681180  0.683099 -0.384354       1  1.000000  \n",
       "398 -0.385914 -0.424046 -0.892221 -0.667748 -0.134983       1  0.950000  \n",
       "\n",
       "[399 rows x 32 columns]"
      ]
     },
     "execution_count": 20,
     "metadata": {},
     "output_type": "execute_result"
    }
   ],
   "source": [
    "df"
   ]
  },
  {
   "cell_type": "markdown",
   "metadata": {},
   "source": [
    "#### Only use confusion Matrix"
   ]
  },
  {
   "cell_type": "code",
   "execution_count": 21,
   "metadata": {},
   "outputs": [],
   "source": [
    "threshold_list = np.linspace(0, 1, 1001)\n",
    "recall_list = []\n",
    "precision_list = []\n",
    "\n",
    "for threshold in threshold_list:\n",
    "    \n",
    "    y_pred = np.where(df.p_pred >= threshold, 1, 0)\n",
    "\n",
    "    cm = confusion_matrix(df.y_test, y_pred)\n",
    "\n",
    "    recall = cm[1,1] / cm[1,:].sum()\n",
    "    precision = cm[1,1] / cm[:,1].sum()\n",
    "\n",
    "    recall_list.append(recall)\n",
    "    precision_list.append(precision)\n"
   ]
  },
  {
   "cell_type": "code",
   "execution_count": 22,
   "metadata": {},
   "outputs": [
    {
     "data": {
      "image/png": "[encoded data removed]",
      "text/plain": [
       "<Figure size 800x400 with 1 Axes>"
      ]
     },
     "metadata": {},
     "output_type": "display_data"
    }
   ],
   "source": [
    "plt.figure(figsize=(8,4))\n",
    "plt.plot(recall_list, precision_list, label='Recall-Precision Relation')\n",
    "#plt.plot(threshold_list, precision_list, label='Precision')\n",
    "plt.xlabel('Recall')\n",
    "plt.ylabel('Precision')\n",
    "plt.legend()\n",
    "plt.show()"
   ]
  },
  {
   "cell_type": "markdown",
   "metadata": {},
   "source": [
    "### 3.2. f1 score 계산후, 이 기준으로 판단시, 최선의 분류 임계치는 무엇인가?"
   ]
  },
  {
   "cell_type": "markdown",
   "metadata": {},
   "source": [
    "#### f1 계산"
   ]
  },
  {
   "cell_type": "code",
   "execution_count": 23,
   "metadata": {},
   "outputs": [
    {
     "data": {
      "text/plain": [
       "array([0.77607362, 0.87091222, 0.87091222, 0.87091222, 0.87091222,\n",
       "       0.87091222, 0.87091222, 0.87091222, 0.87091222, 0.87091222])"
      ]
     },
     "execution_count": 23,
     "metadata": {},
     "output_type": "execute_result"
    }
   ],
   "source": [
    "precision_list = np.asarray(precision_list)\n",
    "recall_list = np.asarray(recall_list)\n",
    "\n",
    "f1_score_arr = 2 / ((1/recall_list) + (1/precision_list))\n",
    "f1_score_arr[0:10]"
   ]
  },
  {
   "cell_type": "code",
   "execution_count": 24,
   "metadata": {},
   "outputs": [
    {
     "data": {
      "image/png": "[encoded data removed]",
      "text/plain": [
       "<Figure size 800x400 with 1 Axes>"
      ]
     },
     "metadata": {},
     "output_type": "display_data"
    }
   ],
   "source": [
    "plt.figure(figsize=(8,4))\n",
    "plt.plot(threshold_list, f1_score_arr, label='F1 Score')\n",
    "plt.xlabel('Threshold Values')\n",
    "plt.ylabel('F1 Score')\n",
    "plt.legend()\n",
    "plt.show()"
   ]
  },
  {
   "cell_type": "markdown",
   "metadata": {},
   "source": [
    "#### 최선의 분류임계치 (f1이 최고가 되는 임계값)"
   ]
  },
  {
   "cell_type": "code",
   "execution_count": 25,
   "metadata": {},
   "outputs": [
    {
     "name": "stdout",
     "output_type": "stream",
     "text": [
      "Best Threshold Value : 0.451\n"
     ]
    }
   ],
   "source": [
    "threshold_find = threshold_list[np.argmax(f1_score_arr)]\n",
    "print(f'Best Threshold Value : {threshold_find}')"
   ]
  },
  {
   "cell_type": "markdown",
   "metadata": {},
   "source": [
    "### 3-3 열로 추가해서 Accuracy 추정"
   ]
  },
  {
   "cell_type": "code",
   "execution_count": 26,
   "metadata": {},
   "outputs": [],
   "source": [
    "df['y_pred'] = np.where(df.p_pred >= threshold_find, 1, 0)"
   ]
  },
  {
   "cell_type": "code",
   "execution_count": 27,
   "metadata": {},
   "outputs": [
    {
     "data": {
      "text/plain": [
       "0.949874686716792"
      ]
     },
     "execution_count": 27,
     "metadata": {},
     "output_type": "execute_result"
    }
   ],
   "source": [
    "cm = confusion_matrix(df.y_test, df.y_pred)\n",
    "accuracy_s = (cm[0,0] + cm[1,1]) / cm.sum()\n",
    "accuracy_s"
   ]
  }
 ],
 "metadata": {
  "kernelspec": {
   "display_name": "Python 3.8.13 ('quant')",
   "language": "python",
   "name": "python3"
  },
  "language_info": {
   "codemirror_mode": {
    "name": "ipython",
    "version": 3
   },
   "file_extension": ".py",
   "mimetype": "text/x-python",
   "name": "python",
   "nbconvert_exporter": "python",
   "pygments_lexer": "ipython3",
   "version": "3.8.13"
  },
  "orig_nbformat": 4,
  "vscode": {
   "interpreter": {
    "hash": "e7b6214bfe3ce19b2336b5ee82fe9739f68968628bd5eb86b17deae08d37c2fd"
   }
  }
 },
 "nbformat": 4,
 "nbformat_minor": 2
}
